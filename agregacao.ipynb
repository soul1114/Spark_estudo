{
  "nbformat": 4,
  "nbformat_minor": 0,
  "metadata": {
    "colab": {
      "provenance": []
    },
    "kernelspec": {
      "name": "python3",
      "display_name": "Python 3"
    },
    "language_info": {
      "name": "python"
    }
  },
  "cells": [
    {
      "cell_type": "code",
      "execution_count": 1,
      "metadata": {
        "id": "JdDFbX3RryrC"
      },
      "outputs": [],
      "source": [
        "# Instala PySpark\n",
        "!pip install -q pyspark\n"
      ]
    },
    {
      "cell_type": "code",
      "source": [
        "# Importa e cria a SparkSession\n",
        "from pyspark.sql import SparkSession\n",
        "\n",
        "spark = SparkSession.builder \\\n",
        "    .appName(\"Modulo Avancado de Agregacoes\") \\\n",
        "    .getOrCreate()\n"
      ],
      "metadata": {
        "id": "40XKIVuRsHSw"
      },
      "execution_count": 2,
      "outputs": []
    },
    {
      "cell_type": "code",
      "source": [
        "from google.colab import files\n",
        "\n",
        "uploaded = files.upload()\n"
      ],
      "metadata": {
        "colab": {
          "base_uri": "https://localhost:8080/",
          "height": 73
        },
        "id": "tjWMba4CsOh8",
        "outputId": "bee5628e-9260-40f4-c7de-2f2cb8537bd9"
      },
      "execution_count": 3,
      "outputs": [
        {
          "output_type": "display_data",
          "data": {
            "text/plain": [
              "<IPython.core.display.HTML object>"
            ],
            "text/html": [
              "\n",
              "     <input type=\"file\" id=\"files-1c92742c-c1fe-4093-a2d0-347bcefc508b\" name=\"files[]\" multiple disabled\n",
              "        style=\"border:none\" />\n",
              "     <output id=\"result-1c92742c-c1fe-4093-a2d0-347bcefc508b\">\n",
              "      Upload widget is only available when the cell has been executed in the\n",
              "      current browser session. Please rerun this cell to enable.\n",
              "      </output>\n",
              "      <script>// Copyright 2017 Google LLC\n",
              "//\n",
              "// Licensed under the Apache License, Version 2.0 (the \"License\");\n",
              "// you may not use this file except in compliance with the License.\n",
              "// You may obtain a copy of the License at\n",
              "//\n",
              "//      http://www.apache.org/licenses/LICENSE-2.0\n",
              "//\n",
              "// Unless required by applicable law or agreed to in writing, software\n",
              "// distributed under the License is distributed on an \"AS IS\" BASIS,\n",
              "// WITHOUT WARRANTIES OR CONDITIONS OF ANY KIND, either express or implied.\n",
              "// See the License for the specific language governing permissions and\n",
              "// limitations under the License.\n",
              "\n",
              "/**\n",
              " * @fileoverview Helpers for google.colab Python module.\n",
              " */\n",
              "(function(scope) {\n",
              "function span(text, styleAttributes = {}) {\n",
              "  const element = document.createElement('span');\n",
              "  element.textContent = text;\n",
              "  for (const key of Object.keys(styleAttributes)) {\n",
              "    element.style[key] = styleAttributes[key];\n",
              "  }\n",
              "  return element;\n",
              "}\n",
              "\n",
              "// Max number of bytes which will be uploaded at a time.\n",
              "const MAX_PAYLOAD_SIZE = 100 * 1024;\n",
              "\n",
              "function _uploadFiles(inputId, outputId) {\n",
              "  const steps = uploadFilesStep(inputId, outputId);\n",
              "  const outputElement = document.getElementById(outputId);\n",
              "  // Cache steps on the outputElement to make it available for the next call\n",
              "  // to uploadFilesContinue from Python.\n",
              "  outputElement.steps = steps;\n",
              "\n",
              "  return _uploadFilesContinue(outputId);\n",
              "}\n",
              "\n",
              "// This is roughly an async generator (not supported in the browser yet),\n",
              "// where there are multiple asynchronous steps and the Python side is going\n",
              "// to poll for completion of each step.\n",
              "// This uses a Promise to block the python side on completion of each step,\n",
              "// then passes the result of the previous step as the input to the next step.\n",
              "function _uploadFilesContinue(outputId) {\n",
              "  const outputElement = document.getElementById(outputId);\n",
              "  const steps = outputElement.steps;\n",
              "\n",
              "  const next = steps.next(outputElement.lastPromiseValue);\n",
              "  return Promise.resolve(next.value.promise).then((value) => {\n",
              "    // Cache the last promise value to make it available to the next\n",
              "    // step of the generator.\n",
              "    outputElement.lastPromiseValue = value;\n",
              "    return next.value.response;\n",
              "  });\n",
              "}\n",
              "\n",
              "/**\n",
              " * Generator function which is called between each async step of the upload\n",
              " * process.\n",
              " * @param {string} inputId Element ID of the input file picker element.\n",
              " * @param {string} outputId Element ID of the output display.\n",
              " * @return {!Iterable<!Object>} Iterable of next steps.\n",
              " */\n",
              "function* uploadFilesStep(inputId, outputId) {\n",
              "  const inputElement = document.getElementById(inputId);\n",
              "  inputElement.disabled = false;\n",
              "\n",
              "  const outputElement = document.getElementById(outputId);\n",
              "  outputElement.innerHTML = '';\n",
              "\n",
              "  const pickedPromise = new Promise((resolve) => {\n",
              "    inputElement.addEventListener('change', (e) => {\n",
              "      resolve(e.target.files);\n",
              "    });\n",
              "  });\n",
              "\n",
              "  const cancel = document.createElement('button');\n",
              "  inputElement.parentElement.appendChild(cancel);\n",
              "  cancel.textContent = 'Cancel upload';\n",
              "  const cancelPromise = new Promise((resolve) => {\n",
              "    cancel.onclick = () => {\n",
              "      resolve(null);\n",
              "    };\n",
              "  });\n",
              "\n",
              "  // Wait for the user to pick the files.\n",
              "  const files = yield {\n",
              "    promise: Promise.race([pickedPromise, cancelPromise]),\n",
              "    response: {\n",
              "      action: 'starting',\n",
              "    }\n",
              "  };\n",
              "\n",
              "  cancel.remove();\n",
              "\n",
              "  // Disable the input element since further picks are not allowed.\n",
              "  inputElement.disabled = true;\n",
              "\n",
              "  if (!files) {\n",
              "    return {\n",
              "      response: {\n",
              "        action: 'complete',\n",
              "      }\n",
              "    };\n",
              "  }\n",
              "\n",
              "  for (const file of files) {\n",
              "    const li = document.createElement('li');\n",
              "    li.append(span(file.name, {fontWeight: 'bold'}));\n",
              "    li.append(span(\n",
              "        `(${file.type || 'n/a'}) - ${file.size} bytes, ` +\n",
              "        `last modified: ${\n",
              "            file.lastModifiedDate ? file.lastModifiedDate.toLocaleDateString() :\n",
              "                                    'n/a'} - `));\n",
              "    const percent = span('0% done');\n",
              "    li.appendChild(percent);\n",
              "\n",
              "    outputElement.appendChild(li);\n",
              "\n",
              "    const fileDataPromise = new Promise((resolve) => {\n",
              "      const reader = new FileReader();\n",
              "      reader.onload = (e) => {\n",
              "        resolve(e.target.result);\n",
              "      };\n",
              "      reader.readAsArrayBuffer(file);\n",
              "    });\n",
              "    // Wait for the data to be ready.\n",
              "    let fileData = yield {\n",
              "      promise: fileDataPromise,\n",
              "      response: {\n",
              "        action: 'continue',\n",
              "      }\n",
              "    };\n",
              "\n",
              "    // Use a chunked sending to avoid message size limits. See b/62115660.\n",
              "    let position = 0;\n",
              "    do {\n",
              "      const length = Math.min(fileData.byteLength - position, MAX_PAYLOAD_SIZE);\n",
              "      const chunk = new Uint8Array(fileData, position, length);\n",
              "      position += length;\n",
              "\n",
              "      const base64 = btoa(String.fromCharCode.apply(null, chunk));\n",
              "      yield {\n",
              "        response: {\n",
              "          action: 'append',\n",
              "          file: file.name,\n",
              "          data: base64,\n",
              "        },\n",
              "      };\n",
              "\n",
              "      let percentDone = fileData.byteLength === 0 ?\n",
              "          100 :\n",
              "          Math.round((position / fileData.byteLength) * 100);\n",
              "      percent.textContent = `${percentDone}% done`;\n",
              "\n",
              "    } while (position < fileData.byteLength);\n",
              "  }\n",
              "\n",
              "  // All done.\n",
              "  yield {\n",
              "    response: {\n",
              "      action: 'complete',\n",
              "    }\n",
              "  };\n",
              "}\n",
              "\n",
              "scope.google = scope.google || {};\n",
              "scope.google.colab = scope.google.colab || {};\n",
              "scope.google.colab._files = {\n",
              "  _uploadFiles,\n",
              "  _uploadFilesContinue,\n",
              "};\n",
              "})(self);\n",
              "</script> "
            ]
          },
          "metadata": {}
        },
        {
          "output_type": "stream",
          "name": "stdout",
          "text": [
            "Saving videos-preparados.snappy.parquet to videos-preparados.snappy.parquet\n"
          ]
        }
      ]
    },
    {
      "cell_type": "code",
      "source": [
        "df_video = spark.read.parquet(\"videos-preparados.snappy.parquet\")\n",
        "df_video.show()\n"
      ],
      "metadata": {
        "colab": {
          "base_uri": "https://localhost:8080/"
        },
        "id": "mia-TvfjsQuz",
        "outputId": "aec6f22c-ce42-4a11-cf7e-6df58072b35e"
      },
      "execution_count": 4,
      "outputs": [
        {
          "output_type": "stream",
          "name": "stdout",
          "text": [
            "+--------------------+-----------+------------+----------------+------+--------+---------+-----------+----+-----+-------------+--------------------+--------------------+--------------------+\n",
            "|               Title|   Video ID|Published At|         Keyword| Likes|Comments|    Views|Interaction|Year|Month|Keyword Index|        Features PCA|     Features Normal|            Features|\n",
            "+--------------------+-----------+------------+----------------+------+--------+---------+-----------+----+-----+-------------+--------------------+--------------------+--------------------+\n",
            "|ASMR MUKBANG DOUB...|--ZI0dSbbNU|  2020-04-18|         mukbang|378858|   18860| 17975269|   18372987|2020|    4|         30.0|[0.6985786560867407]|[0.02303716158264...|[378858.0,1.79752...|\n",
            "|Deadly car bomb d...|--hxd1CrOqg|  2022-08-22|            news|  6379|    4853|   808787|     820019|2022|    8|         37.0|[0.8936407990235931]|[3.87946679100418...|[6379.0,808787.0,...|\n",
            "|How Biden&#39;s s...|--ixiTypG8g|  2022-08-24|            news|  1029|    2347|    97434|     100810|2022|    8|         37.0| [0.893639694263814]|[6.26308901995973...|[1029.0,97434.0,2...|\n",
            "|Celebrating My 40...|-64r1hcxtV4|  2022-05-30|         mukbang| 45628|   17264|  5283664|    5346556|2022|    5|         30.0|[0.6958642903220559]|[0.00277454843584...|[45628.0,5283664....|\n",
            "|Physics Review - ...|-6IgkG5yZfo|  2017-01-02|         physics| 10959|     525|   844015|     855499|2017|    1|          7.0|[0.11987693683949...|[6.66441317075327...|[10959.0,844015.0...|\n",
            "|Eating ONLY KOREA...|-7hzaGya86g|  2022-07-17|            food| 18957|     566|   702174|     721697|2022|    7|         18.0| [0.414049021412251]|[0.00115277321980...|[18957.0,702174.0...|\n",
            "|19 Year-Old Start...|-8TnsjDRXUE|  2022-08-22|        business|  3232|     580|   188875|     192687|2022|    8|         16.0|[0.37242688169870...|[1.96588027199318...|[3232.0,188875.0,...|\n",
            "|SAT® Tips and Tri...|-9hjdvULDyc|  2022-03-11|             sat|   503|      52|    13591|      14146|2022|    3|         14.0|  [0.28271358051632]|[3.06465715151427...|[503.0,13591.0,20...|\n",
            "|I found SECRET RO...|-Cr69sGnrk8|  2022-08-23|       minecraft|  1333|      22|   119487|     120842|2022|    8|         21.0|[0.4965253642814097]|[8.11161238119056...|[1333.0,119487.0,...|\n",
            "|DON&#39;T USE DOM...|-D4S6TpnO44|  2022-08-01|        business|   114|       2|     2270|       2386|2022|    8|         16.0|[0.37242704370899...|[6.99276929412980...|[114.0,2270.0,202...|\n",
            "|NO MORE A FAMILY ...|-EDUPj7Vg7o|  2022-08-23|        reaction|196898|   15525|  1223879|    1436302|2022|    8|         13.0|[0.29792056982325...|[0.01197277635865...|[196898.0,1223879...|\n",
            "|Data Science Full...|-ETQ97mXXF0|  2019-08-18|    data science|118846|    3501|  3069097|    3191444|2019|    8|          2.0|[0.04108976314948...|[0.00722669262869...|[118846.0,3069097...|\n",
            "|ZOMBIE GIRL ESCAP...|-EjsCBHEbbk|  2020-11-28|          google|349923|    4082|122994457|  123348462|2020|   11|         29.0|[0.7302416225048254]|[0.02127772002155...|[349923.0,1.22994...|\n",
            "|Making Your First...|-FIu9SGvQZc|  2021-11-10|game development| 18486|     733|   353784|     373003|2021|   11|          3.0|[0.07919858713805...|[0.00112413326904...|[18486.0,353784.0...|\n",
            "|English Job Inter...|-JNjsOX0N0c|  2021-08-03|       interview| 19630|     515|   621093|     641238|2021|    8|          4.0|[0.07997441024367...|[0.00119369612185...|[19630.0,621093.0...|\n",
            "|The History Of Ea...|-Jsj7K6E0Fg|  2022-04-13|         history| 11595|    2294|  1487029|    1500918|2022|    4|         12.0|[0.24109139703717...|[7.05114371606340...|[11595.0,1487029....|\n",
            "|How to Assess ANY...|-Mv5KqtuVrc|  2022-08-24|           chess|    58|      21|      601|        680|2022|    8|         26.0|[0.6206235074592289]|[3.58759468133615...|[58.0,601.0,2022....|\n",
            "|15 Kilo Zayıf Gös...|-NcdEl405KY|  2022-08-23|         mukbang|    -1|     335|    27451|      27785|2022|    8|         30.0|[0.7199021998762631]|[0.0,1.2782868003...|[-1.0,27451.0,202...|\n",
            "|ALL MY EXOTIC ANI...|-QN9kxSUWZo|  2022-07-30|         animals|  6473|     455|   267705|     274633|2022|    7|         38.0|[0.9104436851207867]|[3.93662507914750...|[6473.0,267705.0,...|\n",
            "|All Sports Golf B...|-RmUADCWI4A|  2017-12-04|          sports|867074|   43024|106014469|  106924567|2017|   12|         15.0|[0.40674331047891...|[0.05272396031050...|[867074.0,1.06014...|\n",
            "+--------------------+-----------+------------+----------------+------+--------+---------+-----------+----+-----+-------------+--------------------+--------------------+--------------------+\n",
            "only showing top 20 rows\n",
            "\n"
          ]
        }
      ]
    },
    {
      "cell_type": "code",
      "source": [
        "df_video.groupBy(\"Keyword\").count().show()\n"
      ],
      "metadata": {
        "colab": {
          "base_uri": "https://localhost:8080/"
        },
        "id": "osjc9W0qs8lP",
        "outputId": "0203a716-ed70-4b59-b0dc-0cf44a3615f1"
      },
      "execution_count": 5,
      "outputs": [
        {
          "output_type": "stream",
          "name": "stdout",
          "text": [
            "+----------------+-----+\n",
            "|         Keyword|count|\n",
            "+----------------+-----+\n",
            "|computer science|   48|\n",
            "|            lofi|   40|\n",
            "|         finance|   39|\n",
            "|             cnn|   50|\n",
            "|           apple|   42|\n",
            "|            news|   39|\n",
            "|         mukbang|   45|\n",
            "|       education|   24|\n",
            "|       interview|   50|\n",
            "|          crypto|   50|\n",
            "|   mathchemistry|   15|\n",
            "|            food|   48|\n",
            "|    data science|   50|\n",
            "|        trolling|   50|\n",
            "|        tutorial|   50|\n",
            "|      literature|   46|\n",
            "|             sat|   49|\n",
            "|         history|   49|\n",
            "|           cubes|   49|\n",
            "|           music|   46|\n",
            "+----------------+-----+\n",
            "only showing top 20 rows\n",
            "\n"
          ]
        }
      ]
    },
    {
      "cell_type": "code",
      "source": [
        "from pyspark.sql.functions import avg\n",
        "\n",
        "df_video.groupBy(\"Keyword\").agg(avg(\"Interaction\").alias(\"Avg Interaction\")).show()\n"
      ],
      "metadata": {
        "colab": {
          "base_uri": "https://localhost:8080/"
        },
        "id": "ugVtlQJZs-z3",
        "outputId": "d82e424c-2c2e-4566-fb94-0d8874554c44"
      },
      "execution_count": 6,
      "outputs": [
        {
          "output_type": "stream",
          "name": "stdout",
          "text": [
            "+----------------+--------------------+\n",
            "|         Keyword|     Avg Interaction|\n",
            "+----------------+--------------------+\n",
            "|computer science|  1226793.0208333333|\n",
            "|            lofi|         4167085.875|\n",
            "|         finance|   708542.9487179487|\n",
            "|             cnn|           570650.86|\n",
            "|           apple|1.0873628214285715E7|\n",
            "|            news|  251688.71794871794|\n",
            "|         mukbang|1.1053630377777778E7|\n",
            "|       education|         2750838.625|\n",
            "|       interview|          3044867.04|\n",
            "|          crypto|            413676.2|\n",
            "|   mathchemistry|  3427342.7333333334|\n",
            "|            food|   5352944.104166667|\n",
            "|    data science|           562465.28|\n",
            "|        trolling|          1484584.88|\n",
            "|        tutorial|           6936688.3|\n",
            "|      literature|            881726.5|\n",
            "|             sat|           1098927.0|\n",
            "|         history| 1.565269257142857E7|\n",
            "|           cubes|1.5043961224489795E7|\n",
            "|           music|2.9691370304347824E7|\n",
            "+----------------+--------------------+\n",
            "only showing top 20 rows\n",
            "\n"
          ]
        }
      ]
    },
    {
      "cell_type": "code",
      "source": [
        "from pyspark.sql.functions import max as max_\n",
        "\n",
        "df_video.groupBy(\"Keyword\") \\\n",
        "    .agg(max_(\"Interaction\").alias(\"Rank Interactions\")) \\\n",
        "    .orderBy(\"Rank Interactions\", ascending=False) \\\n",
        "    .show()\n"
      ],
      "metadata": {
        "colab": {
          "base_uri": "https://localhost:8080/"
        },
        "id": "IH9EaKAdtWch",
        "outputId": "def34ea7-6119-44b0-c896-9a7b617c32f8"
      },
      "execution_count": 7,
      "outputs": [
        {
          "output_type": "stream",
          "name": "stdout",
          "text": [
            "+--------+-----------------+\n",
            "| Keyword|Rank Interactions|\n",
            "+--------+-----------------+\n",
            "| animals|       1593623628|\n",
            "|   music|        922551152|\n",
            "|     bed|        532691631|\n",
            "| history|        440187490|\n",
            "|   apple|        429916936|\n",
            "| mrbeast|        300397699|\n",
            "|  google|        239385460|\n",
            "|business|        210025196|\n",
            "|   cubes|        170925917|\n",
            "|  sports|        106924567|\n",
            "| mukbang|         87433858|\n",
            "|    lofi|         86445177|\n",
            "|tutorial|         69616442|\n",
            "|  movies|         65253870|\n",
            "|  marvel|         56247330|\n",
            "|  how-to|         53053975|\n",
            "|    food|         48754479|\n",
            "| physics|         43463298|\n",
            "|    asmr|         34411125|\n",
            "|nintendo|         32268486|\n",
            "+--------+-----------------+\n",
            "only showing top 20 rows\n",
            "\n"
          ]
        }
      ]
    },
    {
      "cell_type": "code",
      "source": [
        "from pyspark.sql.functions import variance\n",
        "\n",
        "df_video.groupBy(\"Keyword\") \\\n",
        "    .agg(\n",
        "        avg(\"Views\").alias(\"Avg Views\"),\n",
        "        variance(\"Views\").alias(\"Var Views\")\n",
        "    ).show()\n"
      ],
      "metadata": {
        "colab": {
          "base_uri": "https://localhost:8080/"
        },
        "id": "mNj2zvnCtpeO",
        "outputId": "030609b9-792d-47ca-fddb-aefda656ea84"
      },
      "execution_count": 8,
      "outputs": [
        {
          "output_type": "stream",
          "name": "stdout",
          "text": [
            "+----------------+--------------------+--------------------+\n",
            "|         Keyword|           Avg Views|           Var Views|\n",
            "+----------------+--------------------+--------------------+\n",
            "|computer science|  1191958.7083333333| 2.81219868165102E12|\n",
            "|            lofi|           4089363.0|1.846209641476677...|\n",
            "|         finance|   694223.4358974359|3.304483175097042...|\n",
            "|             cnn|           554240.38|1.563423618468118...|\n",
            "|           apple|1.0746930452380951E7|4.299927977442589E15|\n",
            "|            news|   247492.1794871795|1.067512576672564...|\n",
            "|         mukbang|1.0904772355555555E7|5.586073238973179...|\n",
            "|       education|  2684432.8333333335|1.833572249339214...|\n",
            "|       interview|          2966111.86|1.819220996034335E13|\n",
            "|          crypto|           404608.22|3.513691634369074E12|\n",
            "|   mathchemistry|  3328125.2666666666|2.491467065256849...|\n",
            "|            food|          5252406.25|7.326374128154842E13|\n",
            "|    data science|           544771.98|5.479336525349994...|\n",
            "|        trolling|          1420141.02|6.932651793973286E12|\n",
            "|        tutorial|          6761032.02|1.369626596864457...|\n",
            "|      literature|   863021.2391304348|9.380521884205859E11|\n",
            "|             sat|  1065868.7142857143|8.285094966049208E12|\n",
            "|         history|1.5353155530612245E7|4.253204661918686E15|\n",
            "|           cubes|1.4735344122448979E7|8.511756571903261E14|\n",
            "|           music|2.9364893260869566E7|1.924797107187940...|\n",
            "+----------------+--------------------+--------------------+\n",
            "only showing top 20 rows\n",
            "\n"
          ]
        }
      ]
    },
    {
      "cell_type": "code",
      "source": [
        "from pyspark.sql.functions import min as min_, max as max_, round\n",
        "\n",
        "df_video.groupBy(\"Keyword\") \\\n",
        "    .agg(\n",
        "        round(avg(\"Views\"), 0).alias(\"Avg Views\"),\n",
        "        min_(\"Views\").alias(\"Min Views\"),\n",
        "        max_(\"Views\").alias(\"Max Views\")\n",
        "    ).show()\n"
      ],
      "metadata": {
        "colab": {
          "base_uri": "https://localhost:8080/"
        },
        "id": "DA_Cez7Ptylg",
        "outputId": "2d771846-d0a9-46bb-ee9b-0d818e410703"
      },
      "execution_count": 9,
      "outputs": [
        {
          "output_type": "stream",
          "name": "stdout",
          "text": [
            "+----------------+-----------+---------+---------+\n",
            "|         Keyword|  Avg Views|Min Views|Max Views|\n",
            "+----------------+-----------+---------+---------+\n",
            "|computer science|  1191959.0|    16115|  7004107|\n",
            "|            lofi|  4089363.0|     6817| 84747957|\n",
            "|         finance|   694223.0|     1195|  9450554|\n",
            "|             cnn|   554240.0|    51269|  1889320|\n",
            "|           apple| 1.074693E7|     1954|425478119|\n",
            "|            news|   247492.0|    10642|  1465011|\n",
            "|         mukbang|1.0904772E7|     3618| 86169225|\n",
            "|       education|  2684433.0|     6611| 17103736|\n",
            "|       interview|  2966112.0|     2587| 22529756|\n",
            "|          crypto|   404608.0|     1599| 11805668|\n",
            "|   mathchemistry|  3328125.0|       25| 18496859|\n",
            "|            food|  5252406.0|    47430| 48018833|\n",
            "|    data science|   544772.0|      911|  3069097|\n",
            "|        trolling|  1420141.0|     5388| 14286302|\n",
            "|        tutorial|  6761032.0|    19323| 68512549|\n",
            "|      literature|   863021.0|     2847|  4231789|\n",
            "|             sat|  1065869.0|     7163| 18116954|\n",
            "|         history|1.5353156E7|     6640|434352213|\n",
            "|           cubes|1.4735344E7|    10146|168546247|\n",
            "|           music|2.9364893E7|     2944|915457091|\n",
            "+----------------+-----------+---------+---------+\n",
            "only showing top 20 rows\n",
            "\n"
          ]
        }
      ]
    },
    {
      "cell_type": "code",
      "source": [
        "from pyspark.sql.functions import min as min_, max as max_\n",
        "\n",
        "df_video.groupBy(\"Keyword\") \\\n",
        "    .agg(\n",
        "        min_(\"Published At\").alias(\"First Published\"),\n",
        "        max_(\"Published At\").alias(\"Last Published\")\n",
        "    ).show(truncate=False)\n"
      ],
      "metadata": {
        "colab": {
          "base_uri": "https://localhost:8080/"
        },
        "id": "miZ9sQnDt6Ce",
        "outputId": "38e68b41-1045-465b-c508-3d802d9e0323"
      },
      "execution_count": 15,
      "outputs": [
        {
          "output_type": "stream",
          "name": "stdout",
          "text": [
            "+----------------+---------------+--------------+\n",
            "|Keyword         |First Published|Last Published|\n",
            "+----------------+---------------+--------------+\n",
            "|computer science|2009-08-20     |2022-08-12    |\n",
            "|lofi            |2019-12-08     |2022-08-24    |\n",
            "|finance         |2012-11-27     |2022-08-24    |\n",
            "|cnn             |2022-07-14     |2022-08-24    |\n",
            "|apple           |2016-11-02     |2022-08-24    |\n",
            "|news            |2022-08-18     |2022-08-24    |\n",
            "|mukbang         |2020-02-29     |2022-08-24    |\n",
            "|education       |2008-07-25     |2022-08-24    |\n",
            "|interview       |2016-01-05     |2022-08-24    |\n",
            "|crypto          |2022-03-11     |2022-08-24    |\n",
            "|mathchemistry   |2013-04-15     |2022-05-03    |\n",
            "|food            |2017-05-31     |2022-08-24    |\n",
            "|data science    |2018-06-23     |2022-08-24    |\n",
            "|trolling        |2020-06-14     |2022-08-24    |\n",
            "|tutorial        |2017-02-01     |2022-08-23    |\n",
            "|literature      |2010-05-18     |2022-03-01    |\n",
            "|sat             |2011-10-07     |2022-08-24    |\n",
            "|history         |2016-01-26     |2022-08-24    |\n",
            "|cubes           |2009-02-24     |2022-08-24    |\n",
            "|music           |2020-03-19     |2022-08-24    |\n",
            "+----------------+---------------+--------------+\n",
            "only showing top 20 rows\n",
            "\n"
          ]
        }
      ]
    },
    {
      "cell_type": "code",
      "source": [
        "from pyspark.sql.functions import countDistinct\n",
        "\n",
        "total_titles = df_video.count()\n",
        "unique_titles = df_video.select(countDistinct(\"title\")).collect()[0][0]\n",
        "\n",
        "print(f\"Total de titles: {total_titles}\")\n",
        "print(f\"Total de titles únicos: {unique_titles}\")\n",
        "print(\"Há diferença?\", total_titles != unique_titles)\n"
      ],
      "metadata": {
        "colab": {
          "base_uri": "https://localhost:8080/"
        },
        "id": "APMisYbFt-rS",
        "outputId": "c7504448-812c-42ba-a28e-11d9f8659b6d"
      },
      "execution_count": 11,
      "outputs": [
        {
          "output_type": "stream",
          "name": "stdout",
          "text": [
            "Total de titles: 1869\n",
            "Total de titles únicos: 1854\n",
            "Há diferença? True\n"
          ]
        }
      ]
    },
    {
      "cell_type": "code",
      "source": [
        "df_video.groupBy(\"Year\").count().orderBy(\"Year\", ascending=True).show()\n"
      ],
      "metadata": {
        "colab": {
          "base_uri": "https://localhost:8080/"
        },
        "id": "0g6WjpF-uK6q",
        "outputId": "4b67a286-b594-40a1-9e17-a7f961b3dd58"
      },
      "execution_count": 12,
      "outputs": [
        {
          "output_type": "stream",
          "name": "stdout",
          "text": [
            "+----+-----+\n",
            "|Year|count|\n",
            "+----+-----+\n",
            "|2007|    2|\n",
            "|2008|    1|\n",
            "|2009|    9|\n",
            "|2010|    6|\n",
            "|2011|    4|\n",
            "|2012|   12|\n",
            "|2013|    6|\n",
            "|2014|   10|\n",
            "|2015|   15|\n",
            "|2016|   34|\n",
            "|2017|   47|\n",
            "|2018|   57|\n",
            "|2019|   86|\n",
            "|2020|  158|\n",
            "|2021|  229|\n",
            "|2022| 1193|\n",
            "+----+-----+\n",
            "\n"
          ]
        }
      ]
    },
    {
      "cell_type": "code",
      "source": [
        "df_video.groupBy(\"Year\", \"Month\").count().orderBy(\"Year\", \"Month\").show()\n"
      ],
      "metadata": {
        "colab": {
          "base_uri": "https://localhost:8080/"
        },
        "id": "n_hMPfa2uMel",
        "outputId": "88d8fcef-88a1-4bbc-af2b-1913673bcd8d"
      },
      "execution_count": 13,
      "outputs": [
        {
          "output_type": "stream",
          "name": "stdout",
          "text": [
            "+----+-----+-----+\n",
            "|Year|Month|count|\n",
            "+----+-----+-----+\n",
            "|2007|    7|    1|\n",
            "|2007|   12|    1|\n",
            "|2008|    7|    1|\n",
            "|2009|    2|    2|\n",
            "|2009|    6|    2|\n",
            "|2009|    7|    1|\n",
            "|2009|    8|    1|\n",
            "|2009|   10|    1|\n",
            "|2009|   12|    2|\n",
            "|2010|    3|    1|\n",
            "|2010|    5|    2|\n",
            "|2010|    6|    1|\n",
            "|2010|    9|    1|\n",
            "|2010|   10|    1|\n",
            "|2011|    2|    1|\n",
            "|2011|    5|    1|\n",
            "|2011|    9|    1|\n",
            "|2011|   10|    1|\n",
            "|2012|    1|    1|\n",
            "|2012|    2|    3|\n",
            "+----+-----+-----+\n",
            "only showing top 20 rows\n",
            "\n"
          ]
        }
      ]
    },
    {
      "cell_type": "code",
      "source": [
        "from pyspark.sql.window import Window\n",
        "from pyspark.sql.functions import mean\n",
        "\n",
        "window_spec = Window.partitionBy(\"Keyword\").orderBy(\"Year\").rowsBetween(Window.unboundedPreceding, 0)\n",
        "\n",
        "df_video = df_video.withColumn(\"Cumulative Avg Likes\", mean(\"Likes\").over(window_spec))\n",
        "df_video.select(\"Keyword\", \"Year\", \"Likes\", \"Cumulative Avg Likes\").show()\n"
      ],
      "metadata": {
        "colab": {
          "base_uri": "https://localhost:8080/"
        },
        "id": "PpbSKEbRuRXg",
        "outputId": "1a216bbd-1242-4c65-85b2-941156af8b4e"
      },
      "execution_count": 14,
      "outputs": [
        {
          "output_type": "stream",
          "name": "stdout",
          "text": [
            "+-------+----+--------+--------------------+\n",
            "|Keyword|Year|   Likes|Cumulative Avg Likes|\n",
            "+-------+----+--------+--------------------+\n",
            "|animals|2009| 1357197|           1357197.0|\n",
            "|animals|2010|   68133|            712665.0|\n",
            "|animals|2010|  338601|            587977.0|\n",
            "|animals|2013|11025176|          3197276.75|\n",
            "|animals|2014| 1019385|           2761698.4|\n",
            "|animals|2014| 5743875|  3258727.8333333335|\n",
            "|animals|2019| 1103713|  2950868.5714285714|\n",
            "|animals|2020|   74617|         2591337.125|\n",
            "|animals|2020|    9313|  2304445.5555555555|\n",
            "|animals|2020|  164337|           2090434.7|\n",
            "|animals|2020|   94089|  1908948.7272727273|\n",
            "|animals|2020|   21946|           1751698.5|\n",
            "|animals|2020|   28863|  1619172.6923076923|\n",
            "|animals|2020|   73362|   1508757.642857143|\n",
            "|animals|2020|  282754|  1427024.0666666667|\n",
            "|animals|2020| 6177588|        1723934.3125|\n",
            "|animals|2021|   11323|  1623192.4705882352|\n",
            "|animals|2021|   27102|  1534520.7777777778|\n",
            "|animals|2021|  120500|  1460098.6315789474|\n",
            "|animals|2021|  639942|           1419090.8|\n",
            "+-------+----+--------+--------------------+\n",
            "only showing top 20 rows\n",
            "\n"
          ]
        }
      ]
    }
  ]
}