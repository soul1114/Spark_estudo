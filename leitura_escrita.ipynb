{
  "nbformat": 4,
  "nbformat_minor": 0,
  "metadata": {
    "colab": {
      "provenance": []
    },
    "kernelspec": {
      "name": "python3",
      "display_name": "Python 3"
    },
    "language_info": {
      "name": "python"
    }
  },
  "cells": [
    {
      "cell_type": "code",
      "execution_count": 1,
      "metadata": {
        "id": "Ce97izdF074Y"
      },
      "outputs": [],
      "source": [
        "!pip install -q pyspark\n"
      ]
    },
    {
      "cell_type": "code",
      "source": [
        "from pyspark.sql import SparkSession\n",
        "\n",
        "spark = SparkSession.builder \\\n",
        "    .appName(\"Leitura CSV\") \\\n",
        "    .getOrCreate()\n"
      ],
      "metadata": {
        "id": "wE1jVXpw1KPH"
      },
      "execution_count": 2,
      "outputs": []
    },
    {
      "cell_type": "code",
      "source": [
        "from google.colab import files\n",
        "\n",
        "uploaded = files.upload()  # Vai abrir uma caixa pra você escolher o arquivo\n"
      ],
      "metadata": {
        "colab": {
          "base_uri": "https://localhost:8080/",
          "height": 107
        },
        "id": "mejZ0LEg1N0q",
        "outputId": "37f18034-a566-4156-e6fc-381df2a119e5"
      },
      "execution_count": 3,
      "outputs": [
        {
          "output_type": "display_data",
          "data": {
            "text/plain": [
              "<IPython.core.display.HTML object>"
            ],
            "text/html": [
              "\n",
              "     <input type=\"file\" id=\"files-517b9c90-59f3-4b74-b945-da55583a193f\" name=\"files[]\" multiple disabled\n",
              "        style=\"border:none\" />\n",
              "     <output id=\"result-517b9c90-59f3-4b74-b945-da55583a193f\">\n",
              "      Upload widget is only available when the cell has been executed in the\n",
              "      current browser session. Please rerun this cell to enable.\n",
              "      </output>\n",
              "      <script>// Copyright 2017 Google LLC\n",
              "//\n",
              "// Licensed under the Apache License, Version 2.0 (the \"License\");\n",
              "// you may not use this file except in compliance with the License.\n",
              "// You may obtain a copy of the License at\n",
              "//\n",
              "//      http://www.apache.org/licenses/LICENSE-2.0\n",
              "//\n",
              "// Unless required by applicable law or agreed to in writing, software\n",
              "// distributed under the License is distributed on an \"AS IS\" BASIS,\n",
              "// WITHOUT WARRANTIES OR CONDITIONS OF ANY KIND, either express or implied.\n",
              "// See the License for the specific language governing permissions and\n",
              "// limitations under the License.\n",
              "\n",
              "/**\n",
              " * @fileoverview Helpers for google.colab Python module.\n",
              " */\n",
              "(function(scope) {\n",
              "function span(text, styleAttributes = {}) {\n",
              "  const element = document.createElement('span');\n",
              "  element.textContent = text;\n",
              "  for (const key of Object.keys(styleAttributes)) {\n",
              "    element.style[key] = styleAttributes[key];\n",
              "  }\n",
              "  return element;\n",
              "}\n",
              "\n",
              "// Max number of bytes which will be uploaded at a time.\n",
              "const MAX_PAYLOAD_SIZE = 100 * 1024;\n",
              "\n",
              "function _uploadFiles(inputId, outputId) {\n",
              "  const steps = uploadFilesStep(inputId, outputId);\n",
              "  const outputElement = document.getElementById(outputId);\n",
              "  // Cache steps on the outputElement to make it available for the next call\n",
              "  // to uploadFilesContinue from Python.\n",
              "  outputElement.steps = steps;\n",
              "\n",
              "  return _uploadFilesContinue(outputId);\n",
              "}\n",
              "\n",
              "// This is roughly an async generator (not supported in the browser yet),\n",
              "// where there are multiple asynchronous steps and the Python side is going\n",
              "// to poll for completion of each step.\n",
              "// This uses a Promise to block the python side on completion of each step,\n",
              "// then passes the result of the previous step as the input to the next step.\n",
              "function _uploadFilesContinue(outputId) {\n",
              "  const outputElement = document.getElementById(outputId);\n",
              "  const steps = outputElement.steps;\n",
              "\n",
              "  const next = steps.next(outputElement.lastPromiseValue);\n",
              "  return Promise.resolve(next.value.promise).then((value) => {\n",
              "    // Cache the last promise value to make it available to the next\n",
              "    // step of the generator.\n",
              "    outputElement.lastPromiseValue = value;\n",
              "    return next.value.response;\n",
              "  });\n",
              "}\n",
              "\n",
              "/**\n",
              " * Generator function which is called between each async step of the upload\n",
              " * process.\n",
              " * @param {string} inputId Element ID of the input file picker element.\n",
              " * @param {string} outputId Element ID of the output display.\n",
              " * @return {!Iterable<!Object>} Iterable of next steps.\n",
              " */\n",
              "function* uploadFilesStep(inputId, outputId) {\n",
              "  const inputElement = document.getElementById(inputId);\n",
              "  inputElement.disabled = false;\n",
              "\n",
              "  const outputElement = document.getElementById(outputId);\n",
              "  outputElement.innerHTML = '';\n",
              "\n",
              "  const pickedPromise = new Promise((resolve) => {\n",
              "    inputElement.addEventListener('change', (e) => {\n",
              "      resolve(e.target.files);\n",
              "    });\n",
              "  });\n",
              "\n",
              "  const cancel = document.createElement('button');\n",
              "  inputElement.parentElement.appendChild(cancel);\n",
              "  cancel.textContent = 'Cancel upload';\n",
              "  const cancelPromise = new Promise((resolve) => {\n",
              "    cancel.onclick = () => {\n",
              "      resolve(null);\n",
              "    };\n",
              "  });\n",
              "\n",
              "  // Wait for the user to pick the files.\n",
              "  const files = yield {\n",
              "    promise: Promise.race([pickedPromise, cancelPromise]),\n",
              "    response: {\n",
              "      action: 'starting',\n",
              "    }\n",
              "  };\n",
              "\n",
              "  cancel.remove();\n",
              "\n",
              "  // Disable the input element since further picks are not allowed.\n",
              "  inputElement.disabled = true;\n",
              "\n",
              "  if (!files) {\n",
              "    return {\n",
              "      response: {\n",
              "        action: 'complete',\n",
              "      }\n",
              "    };\n",
              "  }\n",
              "\n",
              "  for (const file of files) {\n",
              "    const li = document.createElement('li');\n",
              "    li.append(span(file.name, {fontWeight: 'bold'}));\n",
              "    li.append(span(\n",
              "        `(${file.type || 'n/a'}) - ${file.size} bytes, ` +\n",
              "        `last modified: ${\n",
              "            file.lastModifiedDate ? file.lastModifiedDate.toLocaleDateString() :\n",
              "                                    'n/a'} - `));\n",
              "    const percent = span('0% done');\n",
              "    li.appendChild(percent);\n",
              "\n",
              "    outputElement.appendChild(li);\n",
              "\n",
              "    const fileDataPromise = new Promise((resolve) => {\n",
              "      const reader = new FileReader();\n",
              "      reader.onload = (e) => {\n",
              "        resolve(e.target.result);\n",
              "      };\n",
              "      reader.readAsArrayBuffer(file);\n",
              "    });\n",
              "    // Wait for the data to be ready.\n",
              "    let fileData = yield {\n",
              "      promise: fileDataPromise,\n",
              "      response: {\n",
              "        action: 'continue',\n",
              "      }\n",
              "    };\n",
              "\n",
              "    // Use a chunked sending to avoid message size limits. See b/62115660.\n",
              "    let position = 0;\n",
              "    do {\n",
              "      const length = Math.min(fileData.byteLength - position, MAX_PAYLOAD_SIZE);\n",
              "      const chunk = new Uint8Array(fileData, position, length);\n",
              "      position += length;\n",
              "\n",
              "      const base64 = btoa(String.fromCharCode.apply(null, chunk));\n",
              "      yield {\n",
              "        response: {\n",
              "          action: 'append',\n",
              "          file: file.name,\n",
              "          data: base64,\n",
              "        },\n",
              "      };\n",
              "\n",
              "      let percentDone = fileData.byteLength === 0 ?\n",
              "          100 :\n",
              "          Math.round((position / fileData.byteLength) * 100);\n",
              "      percent.textContent = `${percentDone}% done`;\n",
              "\n",
              "    } while (position < fileData.byteLength);\n",
              "  }\n",
              "\n",
              "  // All done.\n",
              "  yield {\n",
              "    response: {\n",
              "      action: 'complete',\n",
              "    }\n",
              "  };\n",
              "}\n",
              "\n",
              "scope.google = scope.google || {};\n",
              "scope.google.colab = scope.google.colab || {};\n",
              "scope.google.colab._files = {\n",
              "  _uploadFiles,\n",
              "  _uploadFilesContinue,\n",
              "};\n",
              "})(self);\n",
              "</script> "
            ]
          },
          "metadata": {}
        },
        {
          "output_type": "stream",
          "name": "stdout",
          "text": [
            "Saving comments.csv to comments.csv\n",
            "Saving videos-stats.csv to videos-stats.csv\n"
          ]
        }
      ]
    },
    {
      "cell_type": "code",
      "source": [
        "df = spark.read.csv(\"videos-stats.csv\", header=True, inferSchema=True)\n",
        "df.show()\n"
      ],
      "metadata": {
        "colab": {
          "base_uri": "https://localhost:8080/"
        },
        "id": "e82Xx2941g_O",
        "outputId": "6ab5dd06-6813-4f94-f5c1-295e2c61186c"
      },
      "execution_count": 4,
      "outputs": [
        {
          "output_type": "stream",
          "name": "stdout",
          "text": [
            "+---+--------------------+-----------+------------+-------+--------+--------+-----------+\n",
            "|_c0|               Title|   Video ID|Published At|Keyword|   Likes|Comments|      Views|\n",
            "+---+--------------------+-----------+------------+-------+--------+--------+-----------+\n",
            "|  0|Apple Pay Is Kill...|wAZZ-UWGVHI|  2022-08-23|   tech|  3407.0|   672.0|   135612.0|\n",
            "|  1|The most EXPENSIV...|b3x28s61q3c|  2022-08-24|   tech| 76779.0|  4306.0|  1758063.0|\n",
            "|  2|My New House Gami...|4mgePWWCAmA|  2022-08-23|   tech| 63825.0|  3338.0|  1564007.0|\n",
            "|  3|Petrol Vs Liquid ...|kXiYSI7H2b0|  2022-08-23|   tech| 71566.0|  1426.0|   922918.0|\n",
            "|  4|Best Back to Scho...|ErMwWXQxHp0|  2022-08-08|   tech| 96513.0|  5155.0|  1855644.0|\n",
            "|  5|Brewmaster Answer...|18fwz9Itbvo|  2021-11-05|   tech| 33570.0|  1643.0|   943119.0|\n",
            "|  6|Tech Monopolies: ...|jXf04bhcjbg|  2022-06-13|   tech|135047.0|  9367.0|  5937790.0|\n",
            "|  7|I bought the STRA...|2TqOmtTAMRY|  2022-08-07|   tech|216935.0| 12605.0|  4782514.0|\n",
            "|  8|15 Emerging Techn...|wLlL46pYcg4|  2021-12-08|   tech| 45565.0|  2882.0|  7001236.0|\n",
            "|  9|Toxicologist Answ...|R7qsau3X6Ks|  2022-07-14|   tech| 24252.0|  1068.0|   667767.0|\n",
            "| 10|Dope Tech: The Mo...|MEiq0oCUb_8|  2022-08-15|   tech|118001.0|  4123.0|  2359142.0|\n",
            "| 11|Cool Tech Under $...|pT_9hntWj34|  2022-08-06|   tech| 20999.0|  3091.0|   413179.0|\n",
            "| 12|Cool Back to Scho...|cj4lxmHQV0o|  2022-08-13|   tech| 15322.0|   547.0|   389114.0|\n",
            "| 13|Best Tech/EDC Gif...|d-BdIo8_wpA|  2021-12-15|   tech| 17866.0|   157.0|   444953.0|\n",
            "| 14|My Massive Tech U...|eFhhW6fsAbQ|  2022-07-09|   tech| 13217.0|   442.0|   371563.0|\n",
            "| 15|Why Millennials A...|N88OE2ZCHBM|  2021-06-04|   tech| 26890.0|  4999.0|  1633059.0|\n",
            "| 16|10 Coolest Gadget...|PKATJiyz0iI|  2021-08-13|   tech|  9562.0|   199.0|   760249.0|\n",
            "| 17|17 Coolest Gadget...|qiMnSaZWf3M|  2022-07-21|   tech| 11743.0|   143.0|  1086568.0|\n",
            "| 18|Almost EVERYONE i...|4AnyhHl3_tE|  2022-08-14|   tech|146978.0| 11105.0|  3186890.0|\n",
            "| 19|I bought the THIN...|nmY2kgWYwyQ|  2022-03-25|   tech|363771.0| 13609.0|1.1422924E7|\n",
            "+---+--------------------+-----------+------------+-------+--------+--------+-----------+\n",
            "only showing top 20 rows\n",
            "\n"
          ]
        }
      ]
    },
    {
      "cell_type": "code",
      "source": [
        "df = spark.read.csv(\"videos-stats.csv\", header=True, inferSchema=False)\n",
        "df.show(8)\n"
      ],
      "metadata": {
        "colab": {
          "base_uri": "https://localhost:8080/"
        },
        "id": "Fe9PtWJ52CEf",
        "outputId": "a6de1081-db9c-485a-fbbf-a7ab658de18a"
      },
      "execution_count": 5,
      "outputs": [
        {
          "output_type": "stream",
          "name": "stdout",
          "text": [
            "+---+--------------------+-----------+------------+-------+--------+--------+---------+\n",
            "|_c0|               Title|   Video ID|Published At|Keyword|   Likes|Comments|    Views|\n",
            "+---+--------------------+-----------+------------+-------+--------+--------+---------+\n",
            "|  0|Apple Pay Is Kill...|wAZZ-UWGVHI|  2022-08-23|   tech|  3407.0|   672.0| 135612.0|\n",
            "|  1|The most EXPENSIV...|b3x28s61q3c|  2022-08-24|   tech| 76779.0|  4306.0|1758063.0|\n",
            "|  2|My New House Gami...|4mgePWWCAmA|  2022-08-23|   tech| 63825.0|  3338.0|1564007.0|\n",
            "|  3|Petrol Vs Liquid ...|kXiYSI7H2b0|  2022-08-23|   tech| 71566.0|  1426.0| 922918.0|\n",
            "|  4|Best Back to Scho...|ErMwWXQxHp0|  2022-08-08|   tech| 96513.0|  5155.0|1855644.0|\n",
            "|  5|Brewmaster Answer...|18fwz9Itbvo|  2021-11-05|   tech| 33570.0|  1643.0| 943119.0|\n",
            "|  6|Tech Monopolies: ...|jXf04bhcjbg|  2022-06-13|   tech|135047.0|  9367.0|5937790.0|\n",
            "|  7|I bought the STRA...|2TqOmtTAMRY|  2022-08-07|   tech|216935.0| 12605.0|4782514.0|\n",
            "+---+--------------------+-----------+------------+-------+--------+--------+---------+\n",
            "only showing top 8 rows\n",
            "\n"
          ]
        }
      ]
    },
    {
      "cell_type": "code",
      "source": [
        "df.printSchema()\n"
      ],
      "metadata": {
        "colab": {
          "base_uri": "https://localhost:8080/"
        },
        "id": "vGOY_vpW2Fzj",
        "outputId": "97b92bf0-54eb-44a9-a75c-3557b2b8cbf2"
      },
      "execution_count": 6,
      "outputs": [
        {
          "output_type": "stream",
          "name": "stdout",
          "text": [
            "root\n",
            " |-- _c0: string (nullable = true)\n",
            " |-- Title: string (nullable = true)\n",
            " |-- Video ID: string (nullable = true)\n",
            " |-- Published At: string (nullable = true)\n",
            " |-- Keyword: string (nullable = true)\n",
            " |-- Likes: string (nullable = true)\n",
            " |-- Comments: string (nullable = true)\n",
            " |-- Views: string (nullable = true)\n",
            "\n"
          ]
        }
      ]
    },
    {
      "cell_type": "code",
      "source": [
        "df_inferido = spark.read.csv(\"videos-stats.csv\", header=True, inferSchema=True)\n",
        "df_inferido.printSchema()\n"
      ],
      "metadata": {
        "colab": {
          "base_uri": "https://localhost:8080/"
        },
        "id": "CsI9Lc632TpK",
        "outputId": "1b5803c8-5cb1-4f57-c4a5-133b864de51a"
      },
      "execution_count": 8,
      "outputs": [
        {
          "output_type": "stream",
          "name": "stdout",
          "text": [
            "root\n",
            " |-- _c0: integer (nullable = true)\n",
            " |-- Title: string (nullable = true)\n",
            " |-- Video ID: string (nullable = true)\n",
            " |-- Published At: date (nullable = true)\n",
            " |-- Keyword: string (nullable = true)\n",
            " |-- Likes: double (nullable = true)\n",
            " |-- Comments: double (nullable = true)\n",
            " |-- Views: double (nullable = true)\n",
            "\n"
          ]
        }
      ]
    },
    {
      "cell_type": "code",
      "source": [
        "df_inferido.write \\\n",
        "    .mode(\"overwrite\") \\\n",
        "    .option(\"header\", True) \\\n",
        "    .parquet(\"videos-parquet\")\n"
      ],
      "metadata": {
        "id": "fvcaPhlX2aFo"
      },
      "execution_count": 9,
      "outputs": []
    },
    {
      "cell_type": "code",
      "source": [
        "df_parquet = spark.read.parquet(\"videos-parquet\")\n",
        "df_parquet.show()\n"
      ],
      "metadata": {
        "colab": {
          "base_uri": "https://localhost:8080/"
        },
        "id": "kNtotFxv2fe6",
        "outputId": "dadc9f32-1ad0-473a-8e8b-7b320fbd9a04"
      },
      "execution_count": 10,
      "outputs": [
        {
          "output_type": "stream",
          "name": "stdout",
          "text": [
            "+---+--------------------+-----------+------------+-------+--------+--------+-----------+\n",
            "|_c0|               Title|   Video ID|Published At|Keyword|   Likes|Comments|      Views|\n",
            "+---+--------------------+-----------+------------+-------+--------+--------+-----------+\n",
            "|  0|Apple Pay Is Kill...|wAZZ-UWGVHI|  2022-08-23|   tech|  3407.0|   672.0|   135612.0|\n",
            "|  1|The most EXPENSIV...|b3x28s61q3c|  2022-08-24|   tech| 76779.0|  4306.0|  1758063.0|\n",
            "|  2|My New House Gami...|4mgePWWCAmA|  2022-08-23|   tech| 63825.0|  3338.0|  1564007.0|\n",
            "|  3|Petrol Vs Liquid ...|kXiYSI7H2b0|  2022-08-23|   tech| 71566.0|  1426.0|   922918.0|\n",
            "|  4|Best Back to Scho...|ErMwWXQxHp0|  2022-08-08|   tech| 96513.0|  5155.0|  1855644.0|\n",
            "|  5|Brewmaster Answer...|18fwz9Itbvo|  2021-11-05|   tech| 33570.0|  1643.0|   943119.0|\n",
            "|  6|Tech Monopolies: ...|jXf04bhcjbg|  2022-06-13|   tech|135047.0|  9367.0|  5937790.0|\n",
            "|  7|I bought the STRA...|2TqOmtTAMRY|  2022-08-07|   tech|216935.0| 12605.0|  4782514.0|\n",
            "|  8|15 Emerging Techn...|wLlL46pYcg4|  2021-12-08|   tech| 45565.0|  2882.0|  7001236.0|\n",
            "|  9|Toxicologist Answ...|R7qsau3X6Ks|  2022-07-14|   tech| 24252.0|  1068.0|   667767.0|\n",
            "| 10|Dope Tech: The Mo...|MEiq0oCUb_8|  2022-08-15|   tech|118001.0|  4123.0|  2359142.0|\n",
            "| 11|Cool Tech Under $...|pT_9hntWj34|  2022-08-06|   tech| 20999.0|  3091.0|   413179.0|\n",
            "| 12|Cool Back to Scho...|cj4lxmHQV0o|  2022-08-13|   tech| 15322.0|   547.0|   389114.0|\n",
            "| 13|Best Tech/EDC Gif...|d-BdIo8_wpA|  2021-12-15|   tech| 17866.0|   157.0|   444953.0|\n",
            "| 14|My Massive Tech U...|eFhhW6fsAbQ|  2022-07-09|   tech| 13217.0|   442.0|   371563.0|\n",
            "| 15|Why Millennials A...|N88OE2ZCHBM|  2021-06-04|   tech| 26890.0|  4999.0|  1633059.0|\n",
            "| 16|10 Coolest Gadget...|PKATJiyz0iI|  2021-08-13|   tech|  9562.0|   199.0|   760249.0|\n",
            "| 17|17 Coolest Gadget...|qiMnSaZWf3M|  2022-07-21|   tech| 11743.0|   143.0|  1086568.0|\n",
            "| 18|Almost EVERYONE i...|4AnyhHl3_tE|  2022-08-14|   tech|146978.0| 11105.0|  3186890.0|\n",
            "| 19|I bought the THIN...|nmY2kgWYwyQ|  2022-03-25|   tech|363771.0| 13609.0|1.1422924E7|\n",
            "+---+--------------------+-----------+------------+-------+--------+--------+-----------+\n",
            "only showing top 20 rows\n",
            "\n"
          ]
        }
      ]
    },
    {
      "cell_type": "code",
      "source": [
        "df_parquet.write.mode(\"overwrite\").saveAsTable(\"tb_videos\")\n"
      ],
      "metadata": {
        "id": "jBZbaef_2jzL"
      },
      "execution_count": 11,
      "outputs": []
    },
    {
      "cell_type": "code",
      "source": [
        "spark.catalog.listTables()\n"
      ],
      "metadata": {
        "colab": {
          "base_uri": "https://localhost:8080/"
        },
        "id": "QTc_WEva22uo",
        "outputId": "cd528849-565c-40db-af5d-080ce4132fb5"
      },
      "execution_count": 12,
      "outputs": [
        {
          "output_type": "execute_result",
          "data": {
            "text/plain": [
              "[Table(name='tb_videos', catalog='spark_catalog', namespace=['default'], description=None, tableType='MANAGED', isTemporary=False)]"
            ]
          },
          "metadata": {},
          "execution_count": 12
        }
      ]
    },
    {
      "cell_type": "code",
      "source": [
        "df_sql = spark.sql(\"SELECT * FROM tb_videos\")\n",
        "df_sql.show()\n"
      ],
      "metadata": {
        "colab": {
          "base_uri": "https://localhost:8080/"
        },
        "id": "s2_xQBUN28bU",
        "outputId": "1bd46f54-81be-47cd-b37c-449ece059d99"
      },
      "execution_count": 13,
      "outputs": [
        {
          "output_type": "stream",
          "name": "stdout",
          "text": [
            "+---+--------------------+-----------+------------+-------+--------+--------+-----------+\n",
            "|_c0|               Title|   Video ID|Published At|Keyword|   Likes|Comments|      Views|\n",
            "+---+--------------------+-----------+------------+-------+--------+--------+-----------+\n",
            "|  0|Apple Pay Is Kill...|wAZZ-UWGVHI|  2022-08-23|   tech|  3407.0|   672.0|   135612.0|\n",
            "|  1|The most EXPENSIV...|b3x28s61q3c|  2022-08-24|   tech| 76779.0|  4306.0|  1758063.0|\n",
            "|  2|My New House Gami...|4mgePWWCAmA|  2022-08-23|   tech| 63825.0|  3338.0|  1564007.0|\n",
            "|  3|Petrol Vs Liquid ...|kXiYSI7H2b0|  2022-08-23|   tech| 71566.0|  1426.0|   922918.0|\n",
            "|  4|Best Back to Scho...|ErMwWXQxHp0|  2022-08-08|   tech| 96513.0|  5155.0|  1855644.0|\n",
            "|  5|Brewmaster Answer...|18fwz9Itbvo|  2021-11-05|   tech| 33570.0|  1643.0|   943119.0|\n",
            "|  6|Tech Monopolies: ...|jXf04bhcjbg|  2022-06-13|   tech|135047.0|  9367.0|  5937790.0|\n",
            "|  7|I bought the STRA...|2TqOmtTAMRY|  2022-08-07|   tech|216935.0| 12605.0|  4782514.0|\n",
            "|  8|15 Emerging Techn...|wLlL46pYcg4|  2021-12-08|   tech| 45565.0|  2882.0|  7001236.0|\n",
            "|  9|Toxicologist Answ...|R7qsau3X6Ks|  2022-07-14|   tech| 24252.0|  1068.0|   667767.0|\n",
            "| 10|Dope Tech: The Mo...|MEiq0oCUb_8|  2022-08-15|   tech|118001.0|  4123.0|  2359142.0|\n",
            "| 11|Cool Tech Under $...|pT_9hntWj34|  2022-08-06|   tech| 20999.0|  3091.0|   413179.0|\n",
            "| 12|Cool Back to Scho...|cj4lxmHQV0o|  2022-08-13|   tech| 15322.0|   547.0|   389114.0|\n",
            "| 13|Best Tech/EDC Gif...|d-BdIo8_wpA|  2021-12-15|   tech| 17866.0|   157.0|   444953.0|\n",
            "| 14|My Massive Tech U...|eFhhW6fsAbQ|  2022-07-09|   tech| 13217.0|   442.0|   371563.0|\n",
            "| 15|Why Millennials A...|N88OE2ZCHBM|  2021-06-04|   tech| 26890.0|  4999.0|  1633059.0|\n",
            "| 16|10 Coolest Gadget...|PKATJiyz0iI|  2021-08-13|   tech|  9562.0|   199.0|   760249.0|\n",
            "| 17|17 Coolest Gadget...|qiMnSaZWf3M|  2022-07-21|   tech| 11743.0|   143.0|  1086568.0|\n",
            "| 18|Almost EVERYONE i...|4AnyhHl3_tE|  2022-08-14|   tech|146978.0| 11105.0|  3186890.0|\n",
            "| 19|I bought the THIN...|nmY2kgWYwyQ|  2022-03-25|   tech|363771.0| 13609.0|1.1422924E7|\n",
            "+---+--------------------+-----------+------------+-------+--------+--------+-----------+\n",
            "only showing top 20 rows\n",
            "\n"
          ]
        }
      ]
    },
    {
      "cell_type": "code",
      "source": [
        "df_comments = spark.read.csv(\"comments.csv\", header=True, inferSchema=True)\n",
        "df_comments.show()\n",
        "df_comments.printSchema()\n"
      ],
      "metadata": {
        "colab": {
          "base_uri": "https://localhost:8080/"
        },
        "id": "crGRW__S29o7",
        "outputId": "060bafb1-2de0-47f3-9a11-62c564141492"
      },
      "execution_count": 14,
      "outputs": [
        {
          "output_type": "stream",
          "name": "stdout",
          "text": [
            "+--------------+-----------+--------------------+------+---------+\n",
            "|           _c0|   Video ID|             Comment| Likes|Sentiment|\n",
            "+--------------+-----------+--------------------+------+---------+\n",
            "|             0|wAZZ-UWGVHI|Let's not forget ...|  95.0|      1.0|\n",
            "|             1|wAZZ-UWGVHI|Here in NZ 50% of...|  19.0|      0.0|\n",
            "|             2|wAZZ-UWGVHI|I will forever ac...| 161.0|      2.0|\n",
            "|             3|wAZZ-UWGVHI|Whenever I go to ...|   8.0|      0.0|\n",
            "|             4|wAZZ-UWGVHI|Apple Pay is so c...|  34.0|      2.0|\n",
            "|             5|wAZZ-UWGVHI|We’ve been houndi...|   8.0|      1.0|\n",
            "|             6|wAZZ-UWGVHI|We only got Apple...|  29.0|      2.0|\n",
            "|             7|wAZZ-UWGVHI|For now, I need b...|   7.0|      1.0|\n",
            "|             8|wAZZ-UWGVHI|In the United Sta...|   2.0|      2.0|\n",
            "|             9|wAZZ-UWGVHI|In Cambodia, we h...|  28.0|      1.0|\n",
            "|            10|b3x28s61q3c|Wow, you really w...|1344.0|      2.0|\n",
            "|            11|b3x28s61q3c|The lab is the mo...| 198.0|      2.0|\n",
            "|            12|b3x28s61q3c|Linus, I'm an eng...| 365.0|      2.0|\n",
            "|            13|b3x28s61q3c|There used to be ...| 211.0|      2.0|\n",
            "|            14|b3x28s61q3c|Holy crap. I was ...| 821.0|      0.0|\n",
            "|            15|b3x28s61q3c|I love the direct...| 150.0|      2.0|\n",
            "|            16|b3x28s61q3c|I am more excited...|  49.0|      2.0|\n",
            "|            17|b3x28s61q3c|I adore the worki...|  19.0|      2.0|\n",
            "|            18|b3x28s61q3c|LMGs growth is ho...|  NULL|     NULL|\n",
            "|More technical|   in depth| engineering orie...|  17.0|      2.0|\n",
            "+--------------+-----------+--------------------+------+---------+\n",
            "only showing top 20 rows\n",
            "\n",
            "root\n",
            " |-- _c0: string (nullable = true)\n",
            " |-- Video ID: string (nullable = true)\n",
            " |-- Comment: string (nullable = true)\n",
            " |-- Likes: string (nullable = true)\n",
            " |-- Sentiment: string (nullable = true)\n",
            "\n"
          ]
        }
      ]
    },
    {
      "cell_type": "code",
      "source": [
        "df_comments.write \\\n",
        "    .mode(\"overwrite\") \\\n",
        "    .option(\"header\", True) \\\n",
        "    .parquet(\"comments-parquet\")\n"
      ],
      "metadata": {
        "id": "E8rzGukJ3GhK"
      },
      "execution_count": 15,
      "outputs": []
    }
  ]
}