{
  "nbformat": 4,
  "nbformat_minor": 0,
  "metadata": {
    "colab": {
      "provenance": []
    },
    "kernelspec": {
      "name": "python3",
      "display_name": "Python 3"
    },
    "language_info": {
      "name": "python"
    }
  },
  "cells": [
    {
      "cell_type": "code",
      "execution_count": 1,
      "metadata": {
        "id": "3oj3pWKZFaoB"
      },
      "outputs": [],
      "source": [
        "# Instala PySpark\n",
        "!pip install -q pyspark\n"
      ]
    },
    {
      "cell_type": "code",
      "source": [
        "# Importa e cria a SparkSession\n",
        "from pyspark.sql import SparkSession\n",
        "\n",
        "spark = SparkSession.builder \\\n",
        "    .appName(\"Modulo Avancado de Agregacoes\") \\\n",
        "    .getOrCreate()\n"
      ],
      "metadata": {
        "id": "5DNyI0k_F08u"
      },
      "execution_count": 2,
      "outputs": []
    },
    {
      "cell_type": "code",
      "source": [
        "from google.colab import files\n",
        "\n",
        "uploaded = files.upload()\n"
      ],
      "metadata": {
        "colab": {
          "base_uri": "https://localhost:8080/",
          "height": 107
        },
        "id": "SsbwfHKQF55h",
        "outputId": "bcd13e24-7309-4d9a-ac95-5078bdbea87e"
      },
      "execution_count": 3,
      "outputs": [
        {
          "output_type": "display_data",
          "data": {
            "text/plain": [
              "<IPython.core.display.HTML object>"
            ],
            "text/html": [
              "\n",
              "     <input type=\"file\" id=\"files-1a130c20-24a0-451e-b66e-04c9bfbdd5d9\" name=\"files[]\" multiple disabled\n",
              "        style=\"border:none\" />\n",
              "     <output id=\"result-1a130c20-24a0-451e-b66e-04c9bfbdd5d9\">\n",
              "      Upload widget is only available when the cell has been executed in the\n",
              "      current browser session. Please rerun this cell to enable.\n",
              "      </output>\n",
              "      <script>// Copyright 2017 Google LLC\n",
              "//\n",
              "// Licensed under the Apache License, Version 2.0 (the \"License\");\n",
              "// you may not use this file except in compliance with the License.\n",
              "// You may obtain a copy of the License at\n",
              "//\n",
              "//      http://www.apache.org/licenses/LICENSE-2.0\n",
              "//\n",
              "// Unless required by applicable law or agreed to in writing, software\n",
              "// distributed under the License is distributed on an \"AS IS\" BASIS,\n",
              "// WITHOUT WARRANTIES OR CONDITIONS OF ANY KIND, either express or implied.\n",
              "// See the License for the specific language governing permissions and\n",
              "// limitations under the License.\n",
              "\n",
              "/**\n",
              " * @fileoverview Helpers for google.colab Python module.\n",
              " */\n",
              "(function(scope) {\n",
              "function span(text, styleAttributes = {}) {\n",
              "  const element = document.createElement('span');\n",
              "  element.textContent = text;\n",
              "  for (const key of Object.keys(styleAttributes)) {\n",
              "    element.style[key] = styleAttributes[key];\n",
              "  }\n",
              "  return element;\n",
              "}\n",
              "\n",
              "// Max number of bytes which will be uploaded at a time.\n",
              "const MAX_PAYLOAD_SIZE = 100 * 1024;\n",
              "\n",
              "function _uploadFiles(inputId, outputId) {\n",
              "  const steps = uploadFilesStep(inputId, outputId);\n",
              "  const outputElement = document.getElementById(outputId);\n",
              "  // Cache steps on the outputElement to make it available for the next call\n",
              "  // to uploadFilesContinue from Python.\n",
              "  outputElement.steps = steps;\n",
              "\n",
              "  return _uploadFilesContinue(outputId);\n",
              "}\n",
              "\n",
              "// This is roughly an async generator (not supported in the browser yet),\n",
              "// where there are multiple asynchronous steps and the Python side is going\n",
              "// to poll for completion of each step.\n",
              "// This uses a Promise to block the python side on completion of each step,\n",
              "// then passes the result of the previous step as the input to the next step.\n",
              "function _uploadFilesContinue(outputId) {\n",
              "  const outputElement = document.getElementById(outputId);\n",
              "  const steps = outputElement.steps;\n",
              "\n",
              "  const next = steps.next(outputElement.lastPromiseValue);\n",
              "  return Promise.resolve(next.value.promise).then((value) => {\n",
              "    // Cache the last promise value to make it available to the next\n",
              "    // step of the generator.\n",
              "    outputElement.lastPromiseValue = value;\n",
              "    return next.value.response;\n",
              "  });\n",
              "}\n",
              "\n",
              "/**\n",
              " * Generator function which is called between each async step of the upload\n",
              " * process.\n",
              " * @param {string} inputId Element ID of the input file picker element.\n",
              " * @param {string} outputId Element ID of the output display.\n",
              " * @return {!Iterable<!Object>} Iterable of next steps.\n",
              " */\n",
              "function* uploadFilesStep(inputId, outputId) {\n",
              "  const inputElement = document.getElementById(inputId);\n",
              "  inputElement.disabled = false;\n",
              "\n",
              "  const outputElement = document.getElementById(outputId);\n",
              "  outputElement.innerHTML = '';\n",
              "\n",
              "  const pickedPromise = new Promise((resolve) => {\n",
              "    inputElement.addEventListener('change', (e) => {\n",
              "      resolve(e.target.files);\n",
              "    });\n",
              "  });\n",
              "\n",
              "  const cancel = document.createElement('button');\n",
              "  inputElement.parentElement.appendChild(cancel);\n",
              "  cancel.textContent = 'Cancel upload';\n",
              "  const cancelPromise = new Promise((resolve) => {\n",
              "    cancel.onclick = () => {\n",
              "      resolve(null);\n",
              "    };\n",
              "  });\n",
              "\n",
              "  // Wait for the user to pick the files.\n",
              "  const files = yield {\n",
              "    promise: Promise.race([pickedPromise, cancelPromise]),\n",
              "    response: {\n",
              "      action: 'starting',\n",
              "    }\n",
              "  };\n",
              "\n",
              "  cancel.remove();\n",
              "\n",
              "  // Disable the input element since further picks are not allowed.\n",
              "  inputElement.disabled = true;\n",
              "\n",
              "  if (!files) {\n",
              "    return {\n",
              "      response: {\n",
              "        action: 'complete',\n",
              "      }\n",
              "    };\n",
              "  }\n",
              "\n",
              "  for (const file of files) {\n",
              "    const li = document.createElement('li');\n",
              "    li.append(span(file.name, {fontWeight: 'bold'}));\n",
              "    li.append(span(\n",
              "        `(${file.type || 'n/a'}) - ${file.size} bytes, ` +\n",
              "        `last modified: ${\n",
              "            file.lastModifiedDate ? file.lastModifiedDate.toLocaleDateString() :\n",
              "                                    'n/a'} - `));\n",
              "    const percent = span('0% done');\n",
              "    li.appendChild(percent);\n",
              "\n",
              "    outputElement.appendChild(li);\n",
              "\n",
              "    const fileDataPromise = new Promise((resolve) => {\n",
              "      const reader = new FileReader();\n",
              "      reader.onload = (e) => {\n",
              "        resolve(e.target.result);\n",
              "      };\n",
              "      reader.readAsArrayBuffer(file);\n",
              "    });\n",
              "    // Wait for the data to be ready.\n",
              "    let fileData = yield {\n",
              "      promise: fileDataPromise,\n",
              "      response: {\n",
              "        action: 'continue',\n",
              "      }\n",
              "    };\n",
              "\n",
              "    // Use a chunked sending to avoid message size limits. See b/62115660.\n",
              "    let position = 0;\n",
              "    do {\n",
              "      const length = Math.min(fileData.byteLength - position, MAX_PAYLOAD_SIZE);\n",
              "      const chunk = new Uint8Array(fileData, position, length);\n",
              "      position += length;\n",
              "\n",
              "      const base64 = btoa(String.fromCharCode.apply(null, chunk));\n",
              "      yield {\n",
              "        response: {\n",
              "          action: 'append',\n",
              "          file: file.name,\n",
              "          data: base64,\n",
              "        },\n",
              "      };\n",
              "\n",
              "      let percentDone = fileData.byteLength === 0 ?\n",
              "          100 :\n",
              "          Math.round((position / fileData.byteLength) * 100);\n",
              "      percent.textContent = `${percentDone}% done`;\n",
              "\n",
              "    } while (position < fileData.byteLength);\n",
              "  }\n",
              "\n",
              "  // All done.\n",
              "  yield {\n",
              "    response: {\n",
              "      action: 'complete',\n",
              "    }\n",
              "  };\n",
              "}\n",
              "\n",
              "scope.google = scope.google || {};\n",
              "scope.google.colab = scope.google.colab || {};\n",
              "scope.google.colab._files = {\n",
              "  _uploadFiles,\n",
              "  _uploadFilesContinue,\n",
              "};\n",
              "})(self);\n",
              "</script> "
            ]
          },
          "metadata": {}
        },
        {
          "output_type": "stream",
          "name": "stdout",
          "text": [
            "Saving videos-comments-tratados.snappy (1).parquet to videos-comments-tratados.snappy (1).parquet\n",
            "Saving videos-preparados.snappy (1).parquet to videos-preparados.snappy (1).parquet\n"
          ]
        }
      ]
    },
    {
      "cell_type": "code",
      "source": [
        "df_video = spark.read.parquet(\"videos-preparados.snappy.parquet\")\n",
        "df_video.show()\n"
      ],
      "metadata": {
        "colab": {
          "base_uri": "https://localhost:8080/"
        },
        "id": "JHeKIW4PGHgr",
        "outputId": "dcf85455-49c5-450d-bdb7-511bbb791a55"
      },
      "execution_count": 5,
      "outputs": [
        {
          "output_type": "stream",
          "name": "stdout",
          "text": [
            "+--------------------+-----------+------------+----------------+------+--------+---------+-----------+----+-----+-------------+--------------------+--------------------+--------------------+\n",
            "|               Title|   Video ID|Published At|         Keyword| Likes|Comments|    Views|Interaction|Year|Month|Keyword Index|        Features PCA|     Features Normal|            Features|\n",
            "+--------------------+-----------+------------+----------------+------+--------+---------+-----------+----+-----+-------------+--------------------+--------------------+--------------------+\n",
            "|ASMR MUKBANG DOUB...|--ZI0dSbbNU|  2020-04-18|         mukbang|378858|   18860| 17975269|   18372987|2020|    4|         30.0|[0.6985786560867407]|[0.02303716158264...|[378858.0,1.79752...|\n",
            "|Deadly car bomb d...|--hxd1CrOqg|  2022-08-22|            news|  6379|    4853|   808787|     820019|2022|    8|         37.0|[0.8936407990235931]|[3.87946679100418...|[6379.0,808787.0,...|\n",
            "|How Biden&#39;s s...|--ixiTypG8g|  2022-08-24|            news|  1029|    2347|    97434|     100810|2022|    8|         37.0| [0.893639694263814]|[6.26308901995973...|[1029.0,97434.0,2...|\n",
            "|Celebrating My 40...|-64r1hcxtV4|  2022-05-30|         mukbang| 45628|   17264|  5283664|    5346556|2022|    5|         30.0|[0.6958642903220559]|[0.00277454843584...|[45628.0,5283664....|\n",
            "|Physics Review - ...|-6IgkG5yZfo|  2017-01-02|         physics| 10959|     525|   844015|     855499|2017|    1|          7.0|[0.11987693683949...|[6.66441317075327...|[10959.0,844015.0...|\n",
            "|Eating ONLY KOREA...|-7hzaGya86g|  2022-07-17|            food| 18957|     566|   702174|     721697|2022|    7|         18.0| [0.414049021412251]|[0.00115277321980...|[18957.0,702174.0...|\n",
            "|19 Year-Old Start...|-8TnsjDRXUE|  2022-08-22|        business|  3232|     580|   188875|     192687|2022|    8|         16.0|[0.37242688169870...|[1.96588027199318...|[3232.0,188875.0,...|\n",
            "|SAT® Tips and Tri...|-9hjdvULDyc|  2022-03-11|             sat|   503|      52|    13591|      14146|2022|    3|         14.0|  [0.28271358051632]|[3.06465715151427...|[503.0,13591.0,20...|\n",
            "|I found SECRET RO...|-Cr69sGnrk8|  2022-08-23|       minecraft|  1333|      22|   119487|     120842|2022|    8|         21.0|[0.4965253642814097]|[8.11161238119056...|[1333.0,119487.0,...|\n",
            "|DON&#39;T USE DOM...|-D4S6TpnO44|  2022-08-01|        business|   114|       2|     2270|       2386|2022|    8|         16.0|[0.37242704370899...|[6.99276929412980...|[114.0,2270.0,202...|\n",
            "|NO MORE A FAMILY ...|-EDUPj7Vg7o|  2022-08-23|        reaction|196898|   15525|  1223879|    1436302|2022|    8|         13.0|[0.29792056982325...|[0.01197277635865...|[196898.0,1223879...|\n",
            "|Data Science Full...|-ETQ97mXXF0|  2019-08-18|    data science|118846|    3501|  3069097|    3191444|2019|    8|          2.0|[0.04108976314948...|[0.00722669262869...|[118846.0,3069097...|\n",
            "|ZOMBIE GIRL ESCAP...|-EjsCBHEbbk|  2020-11-28|          google|349923|    4082|122994457|  123348462|2020|   11|         29.0|[0.7302416225048254]|[0.02127772002155...|[349923.0,1.22994...|\n",
            "|Making Your First...|-FIu9SGvQZc|  2021-11-10|game development| 18486|     733|   353784|     373003|2021|   11|          3.0|[0.07919858713805...|[0.00112413326904...|[18486.0,353784.0...|\n",
            "|English Job Inter...|-JNjsOX0N0c|  2021-08-03|       interview| 19630|     515|   621093|     641238|2021|    8|          4.0|[0.07997441024367...|[0.00119369612185...|[19630.0,621093.0...|\n",
            "|The History Of Ea...|-Jsj7K6E0Fg|  2022-04-13|         history| 11595|    2294|  1487029|    1500918|2022|    4|         12.0|[0.24109139703717...|[7.05114371606340...|[11595.0,1487029....|\n",
            "|How to Assess ANY...|-Mv5KqtuVrc|  2022-08-24|           chess|    58|      21|      601|        680|2022|    8|         26.0|[0.6206235074592289]|[3.58759468133615...|[58.0,601.0,2022....|\n",
            "|15 Kilo Zayıf Gös...|-NcdEl405KY|  2022-08-23|         mukbang|    -1|     335|    27451|      27785|2022|    8|         30.0|[0.7199021998762631]|[0.0,1.2782868003...|[-1.0,27451.0,202...|\n",
            "|ALL MY EXOTIC ANI...|-QN9kxSUWZo|  2022-07-30|         animals|  6473|     455|   267705|     274633|2022|    7|         38.0|[0.9104436851207867]|[3.93662507914750...|[6473.0,267705.0,...|\n",
            "|All Sports Golf B...|-RmUADCWI4A|  2017-12-04|          sports|867074|   43024|106014469|  106924567|2017|   12|         15.0|[0.40674331047891...|[0.05272396031050...|[867074.0,1.06014...|\n",
            "+--------------------+-----------+------------+----------------+------+--------+---------+-----------+----+-----+-------------+--------------------+--------------------+--------------------+\n",
            "only showing top 20 rows\n",
            "\n"
          ]
        }
      ]
    },
    {
      "cell_type": "code",
      "source": [
        "df_comments = spark.read.parquet(\"video-comments-tratados.snappy.parquet\")\n",
        "df_comments.show()\n"
      ],
      "metadata": {
        "colab": {
          "base_uri": "https://localhost:8080/"
        },
        "id": "DVb_T_YhGfpt",
        "outputId": "ed609765-b06d-4b66-fcf8-3071f1f16bda"
      },
      "execution_count": 9,
      "outputs": [
        {
          "output_type": "stream",
          "name": "stdout",
          "text": [
            "+-----------+--------------------+------------+-------+-----+--------+-------+-----------+----+--------------------+---------+-------------+\n",
            "|   Video ID|               Title|Published At|Keyword|Likes|Comments|  Views|Interaction|Year|             Comment|Sentiment|Likes Comment|\n",
            "+-----------+--------------------+------------+-------+-----+--------+-------+-----------+----+--------------------+---------+-------------+\n",
            "|wAZZ-UWGVHI|Apple Pay Is Kill...|  2022-08-23|   tech| 3407|     672| 135612|     139691|2022|Let's not forget ...|        1|           95|\n",
            "|wAZZ-UWGVHI|Apple Pay Is Kill...|  2022-08-23|   tech| 3407|     672| 135612|     139691|2022|Here in NZ 50% of...|        0|           19|\n",
            "|wAZZ-UWGVHI|Apple Pay Is Kill...|  2022-08-23|   tech| 3407|     672| 135612|     139691|2022|I will forever ac...|        2|          161|\n",
            "|wAZZ-UWGVHI|Apple Pay Is Kill...|  2022-08-23|   tech| 3407|     672| 135612|     139691|2022|Whenever I go to ...|        0|            8|\n",
            "|wAZZ-UWGVHI|Apple Pay Is Kill...|  2022-08-23|   tech| 3407|     672| 135612|     139691|2022|Apple Pay is so c...|        2|           34|\n",
            "|wAZZ-UWGVHI|Apple Pay Is Kill...|  2022-08-23|   tech| 3407|     672| 135612|     139691|2022|We’ve been houndi...|        1|            8|\n",
            "|wAZZ-UWGVHI|Apple Pay Is Kill...|  2022-08-23|   tech| 3407|     672| 135612|     139691|2022|We only got Apple...|        2|           29|\n",
            "|wAZZ-UWGVHI|Apple Pay Is Kill...|  2022-08-23|   tech| 3407|     672| 135612|     139691|2022|For now, I need b...|        1|            7|\n",
            "|wAZZ-UWGVHI|Apple Pay Is Kill...|  2022-08-23|   tech| 3407|     672| 135612|     139691|2022|In the United Sta...|        2|            2|\n",
            "|wAZZ-UWGVHI|Apple Pay Is Kill...|  2022-08-23|   tech| 3407|     672| 135612|     139691|2022|In Cambodia, we h...|        1|           28|\n",
            "|b3x28s61q3c|The most EXPENSIV...|  2022-08-24|   tech|76779|    4306|1758063|    1839148|2022|Wow, you really w...|        2|         1344|\n",
            "|b3x28s61q3c|The most EXPENSIV...|  2022-08-24|   tech|76779|    4306|1758063|    1839148|2022|The lab is the mo...|        2|          198|\n",
            "|b3x28s61q3c|The most EXPENSIV...|  2022-08-24|   tech|76779|    4306|1758063|    1839148|2022|Linus, I'm an eng...|        2|          365|\n",
            "|b3x28s61q3c|The most EXPENSIV...|  2022-08-24|   tech|76779|    4306|1758063|    1839148|2022|There used to be ...|        2|          211|\n",
            "|b3x28s61q3c|The most EXPENSIV...|  2022-08-24|   tech|76779|    4306|1758063|    1839148|2022|Holy crap. I was ...|        0|          821|\n",
            "|b3x28s61q3c|The most EXPENSIV...|  2022-08-24|   tech|76779|    4306|1758063|    1839148|2022|I love the direct...|        2|          150|\n",
            "|b3x28s61q3c|The most EXPENSIV...|  2022-08-24|   tech|76779|    4306|1758063|    1839148|2022|I am more excited...|        2|           49|\n",
            "|b3x28s61q3c|The most EXPENSIV...|  2022-08-24|   tech|76779|    4306|1758063|    1839148|2022|I adore the worki...|        2|           19|\n",
            "|b3x28s61q3c|The most EXPENSIV...|  2022-08-24|   tech|76779|    4306|1758063|    1839148|2022|LMGs growth is ho...|     NULL|         NULL|\n",
            "|b3x28s61q3c|The most EXPENSIV...|  2022-08-24|   tech|76779|    4306|1758063|    1839148|2022|I love all the pe...|        2|         2808|\n",
            "+-----------+--------------------+------------+-------+-----+--------+-------+-----------+----+--------------------+---------+-------------+\n",
            "only showing top 20 rows\n",
            "\n"
          ]
        }
      ]
    },
    {
      "cell_type": "code",
      "source": [
        "df_video.createOrReplaceTempView(\"tb_video\")\n",
        "df_comments.createOrReplaceTempView(\"tb_comments\")\n"
      ],
      "metadata": {
        "id": "P2AdSvwFGwfP"
      },
      "execution_count": 10,
      "outputs": []
    },
    {
      "cell_type": "code",
      "source": [
        "join_video_comments = spark.sql(\"\"\"\n",
        "    SELECT *\n",
        "    FROM tb_video v\n",
        "    JOIN tb_comments c\n",
        "    ON v.`Video ID` = c.`Video ID`\n",
        "\"\"\")\n",
        "join_video_comments.show()\n"
      ],
      "metadata": {
        "colab": {
          "base_uri": "https://localhost:8080/"
        },
        "id": "wPX0Hb_uG2fM",
        "outputId": "55292f38-424a-48fe-e995-f1c3a669487c"
      },
      "execution_count": 11,
      "outputs": [
        {
          "output_type": "stream",
          "name": "stdout",
          "text": [
            "+--------------------+-----------+------------+-------+-----+--------+-------+-----------+----+-----+-------------+--------------------+--------------------+--------------------+-----------+--------------------+------------+-------+-----+--------+-------+-----------+----+--------------------+---------+-------------+\n",
            "|               Title|   Video ID|Published At|Keyword|Likes|Comments|  Views|Interaction|Year|Month|Keyword Index|        Features PCA|     Features Normal|            Features|   Video ID|               Title|Published At|Keyword|Likes|Comments|  Views|Interaction|Year|             Comment|Sentiment|Likes Comment|\n",
            "+--------------------+-----------+------------+-------+-----+--------+-------+-----------+----+-----+-------------+--------------------+--------------------+--------------------+-----------+--------------------+------------+-------+-----+--------+-------+-----------+----+--------------------+---------+-------------+\n",
            "|Apple Pay Is Kill...|wAZZ-UWGVHI|  2022-08-23|   tech| 3407|     672| 135612|     139691|2022|    8|         23.0|[0.5461641657286636]|[2.07229197864298...|[3407.0,135612.0,...|wAZZ-UWGVHI|Apple Pay Is Kill...|  2022-08-23|   tech| 3407|     672| 135612|     139691|2022|Let's not forget ...|        1|           95|\n",
            "|Apple Pay Is Kill...|wAZZ-UWGVHI|  2022-08-23|   tech| 3407|     672| 135612|     139691|2022|    8|         23.0|[0.5461641657286636]|[2.07229197864298...|[3407.0,135612.0,...|wAZZ-UWGVHI|Apple Pay Is Kill...|  2022-08-23|   tech| 3407|     672| 135612|     139691|2022|Here in NZ 50% of...|        0|           19|\n",
            "|Apple Pay Is Kill...|wAZZ-UWGVHI|  2022-08-23|   tech| 3407|     672| 135612|     139691|2022|    8|         23.0|[0.5461641657286636]|[2.07229197864298...|[3407.0,135612.0,...|wAZZ-UWGVHI|Apple Pay Is Kill...|  2022-08-23|   tech| 3407|     672| 135612|     139691|2022|I will forever ac...|        2|          161|\n",
            "|Apple Pay Is Kill...|wAZZ-UWGVHI|  2022-08-23|   tech| 3407|     672| 135612|     139691|2022|    8|         23.0|[0.5461641657286636]|[2.07229197864298...|[3407.0,135612.0,...|wAZZ-UWGVHI|Apple Pay Is Kill...|  2022-08-23|   tech| 3407|     672| 135612|     139691|2022|Whenever I go to ...|        0|            8|\n",
            "|Apple Pay Is Kill...|wAZZ-UWGVHI|  2022-08-23|   tech| 3407|     672| 135612|     139691|2022|    8|         23.0|[0.5461641657286636]|[2.07229197864298...|[3407.0,135612.0,...|wAZZ-UWGVHI|Apple Pay Is Kill...|  2022-08-23|   tech| 3407|     672| 135612|     139691|2022|Apple Pay is so c...|        2|           34|\n",
            "|Apple Pay Is Kill...|wAZZ-UWGVHI|  2022-08-23|   tech| 3407|     672| 135612|     139691|2022|    8|         23.0|[0.5461641657286636]|[2.07229197864298...|[3407.0,135612.0,...|wAZZ-UWGVHI|Apple Pay Is Kill...|  2022-08-23|   tech| 3407|     672| 135612|     139691|2022|We’ve been houndi...|        1|            8|\n",
            "|Apple Pay Is Kill...|wAZZ-UWGVHI|  2022-08-23|   tech| 3407|     672| 135612|     139691|2022|    8|         23.0|[0.5461641657286636]|[2.07229197864298...|[3407.0,135612.0,...|wAZZ-UWGVHI|Apple Pay Is Kill...|  2022-08-23|   tech| 3407|     672| 135612|     139691|2022|We only got Apple...|        2|           29|\n",
            "|Apple Pay Is Kill...|wAZZ-UWGVHI|  2022-08-23|   tech| 3407|     672| 135612|     139691|2022|    8|         23.0|[0.5461641657286636]|[2.07229197864298...|[3407.0,135612.0,...|wAZZ-UWGVHI|Apple Pay Is Kill...|  2022-08-23|   tech| 3407|     672| 135612|     139691|2022|For now, I need b...|        1|            7|\n",
            "|Apple Pay Is Kill...|wAZZ-UWGVHI|  2022-08-23|   tech| 3407|     672| 135612|     139691|2022|    8|         23.0|[0.5461641657286636]|[2.07229197864298...|[3407.0,135612.0,...|wAZZ-UWGVHI|Apple Pay Is Kill...|  2022-08-23|   tech| 3407|     672| 135612|     139691|2022|In the United Sta...|        2|            2|\n",
            "|Apple Pay Is Kill...|wAZZ-UWGVHI|  2022-08-23|   tech| 3407|     672| 135612|     139691|2022|    8|         23.0|[0.5461641657286636]|[2.07229197864298...|[3407.0,135612.0,...|wAZZ-UWGVHI|Apple Pay Is Kill...|  2022-08-23|   tech| 3407|     672| 135612|     139691|2022|In Cambodia, we h...|        1|           28|\n",
            "|The most EXPENSIV...|b3x28s61q3c|  2022-08-24|   tech|76779|    4306|1758063|    1839148|2022|    8|         23.0|[0.5461505662656578]|[0.00466873762089...|[76779.0,1758063....|b3x28s61q3c|The most EXPENSIV...|  2022-08-24|   tech|76779|    4306|1758063|    1839148|2022|Wow, you really w...|        2|         1344|\n",
            "|The most EXPENSIV...|b3x28s61q3c|  2022-08-24|   tech|76779|    4306|1758063|    1839148|2022|    8|         23.0|[0.5461505662656578]|[0.00466873762089...|[76779.0,1758063....|b3x28s61q3c|The most EXPENSIV...|  2022-08-24|   tech|76779|    4306|1758063|    1839148|2022|The lab is the mo...|        2|          198|\n",
            "|The most EXPENSIV...|b3x28s61q3c|  2022-08-24|   tech|76779|    4306|1758063|    1839148|2022|    8|         23.0|[0.5461505662656578]|[0.00466873762089...|[76779.0,1758063....|b3x28s61q3c|The most EXPENSIV...|  2022-08-24|   tech|76779|    4306|1758063|    1839148|2022|Linus, I'm an eng...|        2|          365|\n",
            "|The most EXPENSIV...|b3x28s61q3c|  2022-08-24|   tech|76779|    4306|1758063|    1839148|2022|    8|         23.0|[0.5461505662656578]|[0.00466873762089...|[76779.0,1758063....|b3x28s61q3c|The most EXPENSIV...|  2022-08-24|   tech|76779|    4306|1758063|    1839148|2022|There used to be ...|        2|          211|\n",
            "|The most EXPENSIV...|b3x28s61q3c|  2022-08-24|   tech|76779|    4306|1758063|    1839148|2022|    8|         23.0|[0.5461505662656578]|[0.00466873762089...|[76779.0,1758063....|b3x28s61q3c|The most EXPENSIV...|  2022-08-24|   tech|76779|    4306|1758063|    1839148|2022|Holy crap. I was ...|        0|          821|\n",
            "|The most EXPENSIV...|b3x28s61q3c|  2022-08-24|   tech|76779|    4306|1758063|    1839148|2022|    8|         23.0|[0.5461505662656578]|[0.00466873762089...|[76779.0,1758063....|b3x28s61q3c|The most EXPENSIV...|  2022-08-24|   tech|76779|    4306|1758063|    1839148|2022|I love the direct...|        2|          150|\n",
            "|The most EXPENSIV...|b3x28s61q3c|  2022-08-24|   tech|76779|    4306|1758063|    1839148|2022|    8|         23.0|[0.5461505662656578]|[0.00466873762089...|[76779.0,1758063....|b3x28s61q3c|The most EXPENSIV...|  2022-08-24|   tech|76779|    4306|1758063|    1839148|2022|I am more excited...|        2|           49|\n",
            "|The most EXPENSIV...|b3x28s61q3c|  2022-08-24|   tech|76779|    4306|1758063|    1839148|2022|    8|         23.0|[0.5461505662656578]|[0.00466873762089...|[76779.0,1758063....|b3x28s61q3c|The most EXPENSIV...|  2022-08-24|   tech|76779|    4306|1758063|    1839148|2022|I adore the worki...|        2|           19|\n",
            "|The most EXPENSIV...|b3x28s61q3c|  2022-08-24|   tech|76779|    4306|1758063|    1839148|2022|    8|         23.0|[0.5461505662656578]|[0.00466873762089...|[76779.0,1758063....|b3x28s61q3c|The most EXPENSIV...|  2022-08-24|   tech|76779|    4306|1758063|    1839148|2022|LMGs growth is ho...|     NULL|         NULL|\n",
            "|The most EXPENSIV...|b3x28s61q3c|  2022-08-24|   tech|76779|    4306|1758063|    1839148|2022|    8|         23.0|[0.5461505662656578]|[0.00466873762089...|[76779.0,1758063....|b3x28s61q3c|The most EXPENSIV...|  2022-08-24|   tech|76779|    4306|1758063|    1839148|2022|I love all the pe...|        2|         2808|\n",
            "+--------------------+-----------+------------+-------+-----+--------+-------+-----------+----+-----+-------------+--------------------+--------------------+--------------------+-----------+--------------------+------------+-------+-----+--------+-------+-----------+----+--------------------+---------+-------------+\n",
            "only showing top 20 rows\n",
            "\n"
          ]
        }
      ]
    },
    {
      "cell_type": "code",
      "source": [
        "df_video_rep = df_video.repartition(4)\n",
        "df_comments_rep = df_comments.repartition(4)\n",
        "\n",
        "df_video_rep.createOrReplaceTempView(\"tb_video_rep\")\n",
        "df_comments_rep.createOrReplaceTempView(\"tb_comments_rep\")\n",
        "\n",
        "join_video_comments_rep = spark.sql(\"\"\"\n",
        "    SELECT *\n",
        "    FROM tb_video_rep v\n",
        "    JOIN tb_comments_rep c\n",
        "    ON v.`Video ID` = c.`Video ID`\n",
        "\"\"\")\n",
        "join_video_comments_rep.show()\n"
      ],
      "metadata": {
        "colab": {
          "base_uri": "https://localhost:8080/"
        },
        "id": "sEx9vZZjHFF4",
        "outputId": "f2f2e428-56b4-48fe-b9ad-a61f46a7ceb3"
      },
      "execution_count": 12,
      "outputs": [
        {
          "output_type": "stream",
          "name": "stdout",
          "text": [
            "+--------------------+-----------+------------+----------------+-------+--------+--------+-----------+----+-----+-------------+--------------------+--------------------+--------------------+-----------+--------------------+------------+----------------+-------+--------+--------+-----------+----+--------------------+---------+-------------+\n",
            "|               Title|   Video ID|Published At|         Keyword|  Likes|Comments|   Views|Interaction|Year|Month|Keyword Index|        Features PCA|     Features Normal|            Features|   Video ID|               Title|Published At|         Keyword|  Likes|Comments|   Views|Interaction|Year|             Comment|Sentiment|Likes Comment|\n",
            "+--------------------+-----------+------------+----------------+-------+--------+--------+-----------+----+-----+-------------+--------------------+--------------------+--------------------+-----------+--------------------+------------+----------------+-------+--------+--------+-----------+----+--------------------+---------+-------------+\n",
            "|The Literature Re...|jKL2pdRmwc4|  2010-05-18|      literature|   2766|     224|  441183|     444173|2010|    5|         27.0|[0.6860323432947755]|[1.68252109885714...|[2766.0,441183.0,...|jKL2pdRmwc4|The Literature Re...|  2010-05-18|      literature|   2766|     224|  441183|     444173|2010|Thanks a lot for ...|        2|            0|\n",
            "|What If Physics I...|v-aP1J-BdvE|  2022-06-01|         physics|  29773|    3299|  880432|     913504|2022|    6|          7.0|[0.13301587902384...|[0.00181045837359...|[29773.0,880432.0...|v-aP1J-BdvE|What If Physics I...|  2022-06-01|         physics|  29773|    3299|  880432|     913504|2022|\"sending the elec...|     NULL|         NULL|\n",
            "|Lifetime Movies (...|-nge39bi7l8|  2022-08-20|          movies|   1810|      13|  285609|     287432|2022|    8|         32.0|[0.7695419261932431]|[1.10120914710165...|[1810.0,285609.0,...|-nge39bi7l8|Lifetime Movies (...|  2022-08-20|          movies|   1810|      13|  285609|     287432|2022|Beautiful family ...|        2|            8|\n",
            "|Last To Take Hand...|qIsgdOVGA04|  2021-10-23|         mrbeast|3514143|  129023|97578090|  101221256|2021|   10|          6.0|[0.14506521999794...|[0.21368346311609...|[3514143.0,9.7578...|qIsgdOVGA04|Last To Take Hand...|  2021-10-23|         mrbeast|3514143|  129023|97578090|  101221256|2021|Huge props to the...|        2|            0|\n",
            "|I Wish I Had Know...|286SGzpUx9o|  2022-04-26|game development|   4597|     263|  107917|     112777|2022|    4|          3.0|[0.01771155667915...|[2.79589158386163...|[4597.0,107917.0,...|286SGzpUx9o|I Wish I Had Know...|  2022-04-26|game development|   4597|     263|  107917|     112777|2022|Not sure if it's ...|     NULL|         NULL|\n",
            "|Champions Chess T...|-dqb6xchBuI|  2022-08-16|           chess|   1234|      44|   92760|      94038|2022|    8|         26.0| [0.620623523338472]|[7.50962615500026...|[1234.0,92760.0,2...|-dqb6xchBuI|Champions Chess T...|  2022-08-16|           chess|   1234|      44|   92760|      94038|2022|Daved , Jovanka ,...|        2|            2|\n",
            "|Liger Day 1 Advan...|N9uyC-V2-uY|  2022-08-24|        business|   2667|     303|   42274|      45244|2022|    8|         16.0|[0.3724265123636839]|[1.62232247623811...|[2667.0,42274.0,2...|N9uyC-V2-uY|Liger Day 1 Advan...|  2022-08-24|        business|   2667|     303|   42274|      45244|2022|What a dedication...|     NULL|         NULL|\n",
            "|JORNAL DA MANHÃ -...|0IH09JBETbI|  2022-08-24|            news|  23828|      47|  500097|     523972|2022|    8|         37.0| [0.893635109744476]|[0.00144896260443...|[23828.0,500097.0...|0IH09JBETbI|JORNAL DA MANHÃ -...|  2022-08-24|            news|  23828|      47|  500097|     523972|2022|Gente , porque pe...|        1|            1|\n",
            "|One Asset Is Abou...|WTsmsij8ge4|  2022-08-24|          crypto|   3179|     184|   43235|      46598|2022|    8|          1.0|[1.31698500962423...|[1.93365272655067...|[3179.0,43235.0,2...|WTsmsij8ge4|One Asset Is Abou...|  2022-08-24|          crypto|   3179|     184|   43235|      46598|2022|Ran, I just love ...|        2|            6|\n",
            "|Why did THESE VIL...|5BtAcOHt310|  2022-08-24|       minecraft|   4160|     122|  218182|     222464|2022|    8|         21.0|[0.4965249682002148]|[2.53016635068470...|[4160.0,218182.0,...|5BtAcOHt310|Why did THESE VIL...|  2022-08-24|       minecraft|   4160|     122|  218182|     222464|2022|\"\"\" \"\" \"\" one of ...|     NULL|         NULL|\n",
            "|Pantera Negra: Wa...|oHDi01Yn4tY|  2022-07-24|          marvel| 137796|    4891| 2064594|    2207281|2022|    7|          5.0|[0.09136713012812...|[0.00837897939498...|[137796.0,2064594...|oHDi01Yn4tY|Pantera Negra: Wa...|  2022-07-24|          marvel| 137796|    4891| 2064594|    2207281|2022|A Ângela Basset c...|        1|         1138|\n",
            "|How Did Ancient P...|bwQwSBlaHxQ|  2022-08-09|         history|   1313|     138|   51321|      52772|2022|    8|         12.0|[0.27314831918719...|[7.98999900216222...|[1313.0,51321.0,2...|bwQwSBlaHxQ|How Did Ancient P...|  2022-08-09|         history|   1313|     138|   51321|      52772|2022|I was wondering t...|        2|            6|\n",
            "|HOW TO GET THE &q...|fJ4fvTcG43A|  2022-08-24|          how-to|     63|      20|    3311|       3394|2022|    8|         19.0|[0.4468859972960778]|[3.89162812890701...|[63.0,3311.0,2022...|fJ4fvTcG43A|HOW TO GET THE &q...|  2022-08-24|          how-to|     63|      20|    3311|       3394|2022|How do you fill t...|        1|            0|\n",
            "|Housing: ‘This mi...|gwCWtTzf4Ss|  2022-08-22|         finance|    765|     319|  100366|     101450|2022|    8|         36.0|[0.8688201287070367]|[4.65779241678558...|[765.0,100366.0,2...|gwCWtTzf4Ss|Housing: ‘This mi...|  2022-08-22|         finance|    765|     319|  100366|     101450|2022|Homes are being w...|        0|           62|\n",
            "|Engineering an Em...|gzse_FxSmqU|  2020-07-19|         history|  10380|     496| 1695814|    1706690|2020|    7|         12.0|[0.27590905647433...|[6.31234243846621...|[10380.0,1695814....|gzse_FxSmqU|Engineering an Em...|  2020-07-19|         history|  10380|     496| 1695814|    1706690|2020|This programme in...|        2|            2|\n",
            "|Nostradamus Effec...|E8epmFE25xY|  2022-08-01|         history|  11841|    2787|  482392|     497020|2022|    8|         12.0|[0.27314706869019...|[7.20072817226827...|[11841.0,482392.0...|E8epmFE25xY|Nostradamus Effec...|  2022-08-01|         history|  11841|    2787|  482392|     497020|2022|Someone stated a ...|     NULL|         NULL|\n",
            "|LIFE-SAVING GADGE...|PPXMc0sRDn0|  2021-12-19|          google|  88325|    1460|15836037|   15925822|2021|   12|         29.0|[0.7325605165073592]|[0.00537081165802...|[88325.0,1.583603...|PPXMc0sRDn0|LIFE-SAVING GADGE...|  2021-12-19|          google|  88325|    1460|15836037|   15925822|2021|Wow i have so man...|        0|            2|\n",
            "|LITERATURE: Leo T...|Lr6DYLBkyG0|  2016-02-05|      literature|  34040|    1178| 1466906|    1502124|2016|    2|         27.0|[0.6296668559232967]|[0.00206992051775...|[34040.0,1466906....|Lr6DYLBkyG0|LITERATURE: Leo T...|  2016-02-05|      literature|  34040|    1178| 1466906|    1502124|2016|Every time I watc...|        0|         2384|\n",
            "|The Math Needed f...|eSFA1Fp8jcU|  2018-04-21|computer science|  59163|    1583| 1754969|    1815715|2018|    4|         17.0|[0.3867223074953435]|[0.00359756697841...|[59163.0,1754969....|eSFA1Fp8jcU|The Math Needed f...|  2018-04-21|computer science|  59163|    1583| 1754969|    1815715|2018|If you play the v...|        0|         6176|\n",
            "|Tutorials That We...|Ayhct2DylC4|  2022-07-06|        tutorial|  23977|    1964|  925547|     951488|2022|    7|          9.0|[0.1906716787626737]|[0.00145802280117...|[23977.0,925547.0...|Ayhct2DylC4|Tutorials That We...|  2022-07-06|        tutorial|  23977|    1964|  925547|     951488|2022|Brilliant. I actu...|        2|           40|\n",
            "+--------------------+-----------+------------+----------------+-------+--------+--------+-----------+----+-----+-------------+--------------------+--------------------+--------------------+-----------+--------------------+------------+----------------+-------+--------+--------+-----------+----+--------------------+---------+-------------+\n",
            "only showing top 20 rows\n",
            "\n"
          ]
        }
      ]
    },
    {
      "cell_type": "code",
      "source": [
        "df_video_coa = df_video.coalesce(1)\n",
        "df_comments_coa = df_comments.coalesce(1)\n",
        "\n",
        "df_video_coa.createOrReplaceTempView(\"tb_video_coa\")\n",
        "df_comments_coa.createOrReplaceTempView(\"tb_comments_coa\")\n",
        "\n",
        "join_video_comments_coa = spark.sql(\"\"\"\n",
        "    SELECT *\n",
        "    FROM tb_video_coa v\n",
        "    JOIN tb_comments_coa c\n",
        "    ON v.`Video ID` = c.`Video ID`\n",
        "\"\"\")\n",
        "join_video_comments_coa.show()\n"
      ],
      "metadata": {
        "colab": {
          "base_uri": "https://localhost:8080/"
        },
        "id": "DcSfnPDuHG5F",
        "outputId": "27951526-5a68-443e-c8da-f8597ff6b69b"
      },
      "execution_count": 13,
      "outputs": [
        {
          "output_type": "stream",
          "name": "stdout",
          "text": [
            "+--------------------+-----------+------------+-------+-----+--------+-------+-----------+----+-----+-------------+--------------------+--------------------+--------------------+-----------+--------------------+------------+-------+-----+--------+-------+-----------+----+--------------------+---------+-------------+\n",
            "|               Title|   Video ID|Published At|Keyword|Likes|Comments|  Views|Interaction|Year|Month|Keyword Index|        Features PCA|     Features Normal|            Features|   Video ID|               Title|Published At|Keyword|Likes|Comments|  Views|Interaction|Year|             Comment|Sentiment|Likes Comment|\n",
            "+--------------------+-----------+------------+-------+-----+--------+-------+-----------+----+-----+-------------+--------------------+--------------------+--------------------+-----------+--------------------+------------+-------+-----+--------+-------+-----------+----+--------------------+---------+-------------+\n",
            "|Apple Pay Is Kill...|wAZZ-UWGVHI|  2022-08-23|   tech| 3407|     672| 135612|     139691|2022|    8|         23.0|[0.5461641657286636]|[2.07229197864298...|[3407.0,135612.0,...|wAZZ-UWGVHI|Apple Pay Is Kill...|  2022-08-23|   tech| 3407|     672| 135612|     139691|2022|Let's not forget ...|        1|           95|\n",
            "|Apple Pay Is Kill...|wAZZ-UWGVHI|  2022-08-23|   tech| 3407|     672| 135612|     139691|2022|    8|         23.0|[0.5461641657286636]|[2.07229197864298...|[3407.0,135612.0,...|wAZZ-UWGVHI|Apple Pay Is Kill...|  2022-08-23|   tech| 3407|     672| 135612|     139691|2022|Here in NZ 50% of...|        0|           19|\n",
            "|Apple Pay Is Kill...|wAZZ-UWGVHI|  2022-08-23|   tech| 3407|     672| 135612|     139691|2022|    8|         23.0|[0.5461641657286636]|[2.07229197864298...|[3407.0,135612.0,...|wAZZ-UWGVHI|Apple Pay Is Kill...|  2022-08-23|   tech| 3407|     672| 135612|     139691|2022|I will forever ac...|        2|          161|\n",
            "|Apple Pay Is Kill...|wAZZ-UWGVHI|  2022-08-23|   tech| 3407|     672| 135612|     139691|2022|    8|         23.0|[0.5461641657286636]|[2.07229197864298...|[3407.0,135612.0,...|wAZZ-UWGVHI|Apple Pay Is Kill...|  2022-08-23|   tech| 3407|     672| 135612|     139691|2022|Whenever I go to ...|        0|            8|\n",
            "|Apple Pay Is Kill...|wAZZ-UWGVHI|  2022-08-23|   tech| 3407|     672| 135612|     139691|2022|    8|         23.0|[0.5461641657286636]|[2.07229197864298...|[3407.0,135612.0,...|wAZZ-UWGVHI|Apple Pay Is Kill...|  2022-08-23|   tech| 3407|     672| 135612|     139691|2022|Apple Pay is so c...|        2|           34|\n",
            "|Apple Pay Is Kill...|wAZZ-UWGVHI|  2022-08-23|   tech| 3407|     672| 135612|     139691|2022|    8|         23.0|[0.5461641657286636]|[2.07229197864298...|[3407.0,135612.0,...|wAZZ-UWGVHI|Apple Pay Is Kill...|  2022-08-23|   tech| 3407|     672| 135612|     139691|2022|We’ve been houndi...|        1|            8|\n",
            "|Apple Pay Is Kill...|wAZZ-UWGVHI|  2022-08-23|   tech| 3407|     672| 135612|     139691|2022|    8|         23.0|[0.5461641657286636]|[2.07229197864298...|[3407.0,135612.0,...|wAZZ-UWGVHI|Apple Pay Is Kill...|  2022-08-23|   tech| 3407|     672| 135612|     139691|2022|We only got Apple...|        2|           29|\n",
            "|Apple Pay Is Kill...|wAZZ-UWGVHI|  2022-08-23|   tech| 3407|     672| 135612|     139691|2022|    8|         23.0|[0.5461641657286636]|[2.07229197864298...|[3407.0,135612.0,...|wAZZ-UWGVHI|Apple Pay Is Kill...|  2022-08-23|   tech| 3407|     672| 135612|     139691|2022|For now, I need b...|        1|            7|\n",
            "|Apple Pay Is Kill...|wAZZ-UWGVHI|  2022-08-23|   tech| 3407|     672| 135612|     139691|2022|    8|         23.0|[0.5461641657286636]|[2.07229197864298...|[3407.0,135612.0,...|wAZZ-UWGVHI|Apple Pay Is Kill...|  2022-08-23|   tech| 3407|     672| 135612|     139691|2022|In the United Sta...|        2|            2|\n",
            "|Apple Pay Is Kill...|wAZZ-UWGVHI|  2022-08-23|   tech| 3407|     672| 135612|     139691|2022|    8|         23.0|[0.5461641657286636]|[2.07229197864298...|[3407.0,135612.0,...|wAZZ-UWGVHI|Apple Pay Is Kill...|  2022-08-23|   tech| 3407|     672| 135612|     139691|2022|In Cambodia, we h...|        1|           28|\n",
            "|The most EXPENSIV...|b3x28s61q3c|  2022-08-24|   tech|76779|    4306|1758063|    1839148|2022|    8|         23.0|[0.5461505662656578]|[0.00466873762089...|[76779.0,1758063....|b3x28s61q3c|The most EXPENSIV...|  2022-08-24|   tech|76779|    4306|1758063|    1839148|2022|Wow, you really w...|        2|         1344|\n",
            "|The most EXPENSIV...|b3x28s61q3c|  2022-08-24|   tech|76779|    4306|1758063|    1839148|2022|    8|         23.0|[0.5461505662656578]|[0.00466873762089...|[76779.0,1758063....|b3x28s61q3c|The most EXPENSIV...|  2022-08-24|   tech|76779|    4306|1758063|    1839148|2022|The lab is the mo...|        2|          198|\n",
            "|The most EXPENSIV...|b3x28s61q3c|  2022-08-24|   tech|76779|    4306|1758063|    1839148|2022|    8|         23.0|[0.5461505662656578]|[0.00466873762089...|[76779.0,1758063....|b3x28s61q3c|The most EXPENSIV...|  2022-08-24|   tech|76779|    4306|1758063|    1839148|2022|Linus, I'm an eng...|        2|          365|\n",
            "|The most EXPENSIV...|b3x28s61q3c|  2022-08-24|   tech|76779|    4306|1758063|    1839148|2022|    8|         23.0|[0.5461505662656578]|[0.00466873762089...|[76779.0,1758063....|b3x28s61q3c|The most EXPENSIV...|  2022-08-24|   tech|76779|    4306|1758063|    1839148|2022|There used to be ...|        2|          211|\n",
            "|The most EXPENSIV...|b3x28s61q3c|  2022-08-24|   tech|76779|    4306|1758063|    1839148|2022|    8|         23.0|[0.5461505662656578]|[0.00466873762089...|[76779.0,1758063....|b3x28s61q3c|The most EXPENSIV...|  2022-08-24|   tech|76779|    4306|1758063|    1839148|2022|Holy crap. I was ...|        0|          821|\n",
            "|The most EXPENSIV...|b3x28s61q3c|  2022-08-24|   tech|76779|    4306|1758063|    1839148|2022|    8|         23.0|[0.5461505662656578]|[0.00466873762089...|[76779.0,1758063....|b3x28s61q3c|The most EXPENSIV...|  2022-08-24|   tech|76779|    4306|1758063|    1839148|2022|I love the direct...|        2|          150|\n",
            "|The most EXPENSIV...|b3x28s61q3c|  2022-08-24|   tech|76779|    4306|1758063|    1839148|2022|    8|         23.0|[0.5461505662656578]|[0.00466873762089...|[76779.0,1758063....|b3x28s61q3c|The most EXPENSIV...|  2022-08-24|   tech|76779|    4306|1758063|    1839148|2022|I am more excited...|        2|           49|\n",
            "|The most EXPENSIV...|b3x28s61q3c|  2022-08-24|   tech|76779|    4306|1758063|    1839148|2022|    8|         23.0|[0.5461505662656578]|[0.00466873762089...|[76779.0,1758063....|b3x28s61q3c|The most EXPENSIV...|  2022-08-24|   tech|76779|    4306|1758063|    1839148|2022|I adore the worki...|        2|           19|\n",
            "|The most EXPENSIV...|b3x28s61q3c|  2022-08-24|   tech|76779|    4306|1758063|    1839148|2022|    8|         23.0|[0.5461505662656578]|[0.00466873762089...|[76779.0,1758063....|b3x28s61q3c|The most EXPENSIV...|  2022-08-24|   tech|76779|    4306|1758063|    1839148|2022|LMGs growth is ho...|     NULL|         NULL|\n",
            "|The most EXPENSIV...|b3x28s61q3c|  2022-08-24|   tech|76779|    4306|1758063|    1839148|2022|    8|         23.0|[0.5461505662656578]|[0.00466873762089...|[76779.0,1758063....|b3x28s61q3c|The most EXPENSIV...|  2022-08-24|   tech|76779|    4306|1758063|    1839148|2022|I love all the pe...|        2|         2808|\n",
            "+--------------------+-----------+------------+-------+-----+--------+-------+-----------+----+-----+-------------+--------------------+--------------------+--------------------+-----------+--------------------+------------+-------+-----+--------+-------+-----------+----+--------------------+---------+-------------+\n",
            "only showing top 20 rows\n",
            "\n"
          ]
        }
      ]
    },
    {
      "cell_type": "code",
      "source": [
        "print(\"== Plano com repartition ==\")\n",
        "join_video_comments_rep.explain()\n",
        "\n",
        "print(\"\\n== Plano com coalesce ==\")\n",
        "join_video_comments_coa.explain()\n"
      ],
      "metadata": {
        "colab": {
          "base_uri": "https://localhost:8080/"
        },
        "id": "uAelwEPMHJdi",
        "outputId": "75dff992-c76a-40af-85f3-d3f23bfbd238"
      },
      "execution_count": 14,
      "outputs": [
        {
          "output_type": "stream",
          "name": "stdout",
          "text": [
            "== Plano com repartition ==\n",
            "== Physical Plan ==\n",
            "AdaptiveSparkPlan isFinalPlan=false\n",
            "+- BroadcastHashJoin [Video ID#1], [Video ID#86], Inner, BuildLeft, false\n",
            "   :- BroadcastExchange HashedRelationBroadcastMode(List(input[1, string, false]),false), [plan_id=410]\n",
            "   :  +- Exchange RoundRobinPartitioning(4), REPARTITION_BY_NUM, [plan_id=407]\n",
            "   :     +- Filter isnotnull(Video ID#1)\n",
            "   :        +- FileScan parquet [Title#0,Video ID#1,Published At#2,Keyword#3,Likes#4,Comments#5,Views#6,Interaction#7,Year#8,Month#9,Keyword Index#10,Features PCA#11,Features Normal#12,Features#13] Batched: true, DataFilters: [isnotnull(Video ID#1)], Format: Parquet, Location: InMemoryFileIndex(1 paths)[file:/content/videos-preparados.snappy.parquet], PartitionFilters: [], PushedFilters: [IsNotNull(`Video ID`)], ReadSchema: struct<Title:string,Video ID:string,Published At:date,Keyword:string,Likes:int,Comments:int,Views...\n",
            "   +- Exchange RoundRobinPartitioning(4), REPARTITION_BY_NUM, [plan_id=408]\n",
            "      +- Filter isnotnull(Video ID#86)\n",
            "         +- FileScan parquet [Video ID#86,Title#87,Published At#88,Keyword#89,Likes#90,Comments#91,Views#92,Interaction#93,Year#94,Comment#95,Sentiment#96,Likes Comment#97] Batched: true, DataFilters: [isnotnull(Video ID#86)], Format: Parquet, Location: InMemoryFileIndex(1 paths)[file:/content/video-comments-tratados.snappy.parquet], PartitionFilters: [], PushedFilters: [IsNotNull(`Video ID`)], ReadSchema: struct<Video ID:string,Title:string,Published At:date,Keyword:string,Likes:int,Comments:int,Views...\n",
            "\n",
            "\n",
            "\n",
            "== Plano com coalesce ==\n",
            "== Physical Plan ==\n",
            "AdaptiveSparkPlan isFinalPlan=false\n",
            "+- BroadcastHashJoin [Video ID#1], [Video ID#86], Inner, BuildLeft, false\n",
            "   :- BroadcastExchange HashedRelationBroadcastMode(List(input[1, string, false]),false), [plan_id=443]\n",
            "   :  +- Coalesce 1\n",
            "   :     +- Filter isnotnull(Video ID#1)\n",
            "   :        +- FileScan parquet [Title#0,Video ID#1,Published At#2,Keyword#3,Likes#4,Comments#5,Views#6,Interaction#7,Year#8,Month#9,Keyword Index#10,Features PCA#11,Features Normal#12,Features#13] Batched: true, DataFilters: [isnotnull(Video ID#1)], Format: Parquet, Location: InMemoryFileIndex(1 paths)[file:/content/videos-preparados.snappy.parquet], PartitionFilters: [], PushedFilters: [IsNotNull(`Video ID`)], ReadSchema: struct<Title:string,Video ID:string,Published At:date,Keyword:string,Likes:int,Comments:int,Views...\n",
            "   +- Coalesce 1\n",
            "      +- Filter isnotnull(Video ID#86)\n",
            "         +- FileScan parquet [Video ID#86,Title#87,Published At#88,Keyword#89,Likes#90,Comments#91,Views#92,Interaction#93,Year#94,Comment#95,Sentiment#96,Likes Comment#97] Batched: true, DataFilters: [isnotnull(Video ID#86)], Format: Parquet, Location: InMemoryFileIndex(1 paths)[file:/content/video-comments-tratados.snappy.parquet], PartitionFilters: [], PushedFilters: [IsNotNull(`Video ID`)], ReadSchema: struct<Video ID:string,Title:string,Published At:date,Keyword:string,Likes:int,Comments:int,Views...\n",
            "\n",
            "\n"
          ]
        }
      ]
    },
    {
      "cell_type": "code",
      "source": [
        "# 1. Reparticiona os dados com base na chave do join para melhorar a distribuição\n",
        "df_video_opt = df_video.repartition(\"Video ID\")\n",
        "df_comments_opt = df_comments.repartition(\"Video ID\")"
      ],
      "metadata": {
        "id": "8IWjmAesHQlZ"
      },
      "execution_count": 15,
      "outputs": []
    },
    {
      "cell_type": "code",
      "source": [
        "# 2. Filtra apenas os dados relevantes para reduzir o volume antes do join\n",
        "df_video_opt = df_video_opt.filter(\"Year >= 2020\")  # exemplo de filtro\n",
        "df_comments_opt = df_comments_opt.filter(\"Sentiment >= 0\")  # outro filtro útil"
      ],
      "metadata": {
        "id": "6I46tuUzHjbj"
      },
      "execution_count": 16,
      "outputs": []
    },
    {
      "cell_type": "code",
      "source": [
        "# 3. Faz o join diretamente com os DataFrames otimizados\n",
        "df_join_optimized = df_video_opt.join(df_comments_opt, on=\"Video ID\", how=\"inner\")"
      ],
      "metadata": {
        "id": "51NC5lheHlOZ"
      },
      "execution_count": 17,
      "outputs": []
    },
    {
      "cell_type": "code",
      "source": [
        "# 4. (Opcional) Seleciona apenas colunas de interesse para economizar memória\n",
        "df_join_optimized = df_join_optimized.select(\n",
        "    df_video_opt[\"Video ID\"],\n",
        "    df_video_opt[\"Title\"],\n",
        "    df_video_opt[\"Keyword\"],\n",
        "    df_video_opt[\"Likes\"],\n",
        "    df_video_opt[\"Comments\"],\n",
        "    df_comments_opt[\"Sentiment\"],\n",
        "    df_video_opt[\"Published At\"]\n",
        ")"
      ],
      "metadata": {
        "id": "UT2H2WKzH7dN"
      },
      "execution_count": 20,
      "outputs": []
    },
    {
      "cell_type": "code",
      "source": [
        "\n",
        "# 5. Mostra o resultado final\n",
        "df_join_optimized.show()"
      ],
      "metadata": {
        "colab": {
          "base_uri": "https://localhost:8080/"
        },
        "id": "KeLUyt0IHns3",
        "outputId": "ff0115c3-9e38-4119-bb27-92e8b1805d89"
      },
      "execution_count": 21,
      "outputs": [
        {
          "output_type": "stream",
          "name": "stdout",
          "text": [
            "+-----------+--------------------+-------+------+--------+---------+------------+\n",
            "|   Video ID|               Title|Keyword| Likes|Comments|Sentiment|Published At|\n",
            "+-----------+--------------------+-------+------+--------+---------+------------+\n",
            "|115amzVdV44|How To Fix a Wate...| how-to|910553|   81975|        1|  2020-08-18|\n",
            "|115amzVdV44|How To Fix a Wate...| how-to|910553|   81975|        0|  2020-08-18|\n",
            "|115amzVdV44|How To Fix a Wate...| how-to|910553|   81975|        0|  2020-08-18|\n",
            "|115amzVdV44|How To Fix a Wate...| how-to|910553|   81975|        2|  2020-08-18|\n",
            "|115amzVdV44|How To Fix a Wate...| how-to|910553|   81975|        2|  2020-08-18|\n",
            "|115amzVdV44|How To Fix a Wate...| how-to|910553|   81975|        1|  2020-08-18|\n",
            "|115amzVdV44|How To Fix a Wate...| how-to|910553|   81975|        2|  2020-08-18|\n",
            "|115amzVdV44|How To Fix a Wate...| how-to|910553|   81975|        2|  2020-08-18|\n",
            "|115amzVdV44|How To Fix a Wate...| how-to|910553|   81975|        2|  2020-08-18|\n",
            "|115amzVdV44|How To Fix a Wate...| how-to|910553|   81975|        2|  2020-08-18|\n",
            "|m7Jw3a7CpNA|How to Start a Bl...| how-to| 32092|     181|        2|  2021-12-03|\n",
            "|m7Jw3a7CpNA|How to Start a Bl...| how-to| 32092|     181|        2|  2021-12-03|\n",
            "|m7Jw3a7CpNA|How to Start a Bl...| how-to| 32092|     181|        2|  2021-12-03|\n",
            "|m7Jw3a7CpNA|How to Start a Bl...| how-to| 32092|     181|        2|  2021-12-03|\n",
            "|m7Jw3a7CpNA|How to Start a Bl...| how-to| 32092|     181|        2|  2021-12-03|\n",
            "|m7Jw3a7CpNA|How to Start a Bl...| how-to| 32092|     181|        2|  2021-12-03|\n",
            "|m7Jw3a7CpNA|How to Start a Bl...| how-to| 32092|     181|        2|  2021-12-03|\n",
            "|m7Jw3a7CpNA|How to Start a Bl...| how-to| 32092|     181|        2|  2021-12-03|\n",
            "|m7Jw3a7CpNA|How to Start a Bl...| how-to| 32092|     181|        2|  2021-12-03|\n",
            "|m7Jw3a7CpNA|How to Start a Bl...| how-to| 32092|     181|        1|  2021-12-03|\n",
            "+-----------+--------------------+-------+------+--------+---------+------------+\n",
            "only showing top 20 rows\n",
            "\n"
          ]
        }
      ]
    }
  ]
}