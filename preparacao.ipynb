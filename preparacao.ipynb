{
  "nbformat": 4,
  "nbformat_minor": 0,
  "metadata": {
    "colab": {
      "provenance": []
    },
    "kernelspec": {
      "name": "python3",
      "display_name": "Python 3"
    },
    "language_info": {
      "name": "python"
    }
  },
  "cells": [
    {
      "cell_type": "code",
      "execution_count": 1,
      "metadata": {
        "id": "Ar6nj9ax7J-z"
      },
      "outputs": [],
      "source": [
        "!pip install -q pyspark"
      ]
    },
    {
      "cell_type": "code",
      "source": [
        "from pyspark.sql import SparkSession\n",
        "\n",
        "# Cria a sessão Spark\n",
        "spark = SparkSession.builder \\\n",
        "    .appName(\"Modulo Preparacao de Dados\") \\\n",
        "    .getOrCreate()\n"
      ],
      "metadata": {
        "id": "Olx9iLEt7cA5"
      },
      "execution_count": 2,
      "outputs": []
    },
    {
      "cell_type": "code",
      "source": [
        "from google.colab import files\n",
        "\n",
        "# Abre seletor de arquivos para upload manual\n",
        "uploaded = files.upload()\n"
      ],
      "metadata": {
        "colab": {
          "base_uri": "https://localhost:8080/",
          "height": 73
        },
        "id": "VVv7cw1o7tzn",
        "outputId": "429eb34b-1214-49df-e8f9-9bc8f3ef52fa"
      },
      "execution_count": 3,
      "outputs": [
        {
          "output_type": "display_data",
          "data": {
            "text/plain": [
              "<IPython.core.display.HTML object>"
            ],
            "text/html": [
              "\n",
              "     <input type=\"file\" id=\"files-524a5a38-6f23-4272-a406-db4573fa8dd1\" name=\"files[]\" multiple disabled\n",
              "        style=\"border:none\" />\n",
              "     <output id=\"result-524a5a38-6f23-4272-a406-db4573fa8dd1\">\n",
              "      Upload widget is only available when the cell has been executed in the\n",
              "      current browser session. Please rerun this cell to enable.\n",
              "      </output>\n",
              "      <script>// Copyright 2017 Google LLC\n",
              "//\n",
              "// Licensed under the Apache License, Version 2.0 (the \"License\");\n",
              "// you may not use this file except in compliance with the License.\n",
              "// You may obtain a copy of the License at\n",
              "//\n",
              "//      http://www.apache.org/licenses/LICENSE-2.0\n",
              "//\n",
              "// Unless required by applicable law or agreed to in writing, software\n",
              "// distributed under the License is distributed on an \"AS IS\" BASIS,\n",
              "// WITHOUT WARRANTIES OR CONDITIONS OF ANY KIND, either express or implied.\n",
              "// See the License for the specific language governing permissions and\n",
              "// limitations under the License.\n",
              "\n",
              "/**\n",
              " * @fileoverview Helpers for google.colab Python module.\n",
              " */\n",
              "(function(scope) {\n",
              "function span(text, styleAttributes = {}) {\n",
              "  const element = document.createElement('span');\n",
              "  element.textContent = text;\n",
              "  for (const key of Object.keys(styleAttributes)) {\n",
              "    element.style[key] = styleAttributes[key];\n",
              "  }\n",
              "  return element;\n",
              "}\n",
              "\n",
              "// Max number of bytes which will be uploaded at a time.\n",
              "const MAX_PAYLOAD_SIZE = 100 * 1024;\n",
              "\n",
              "function _uploadFiles(inputId, outputId) {\n",
              "  const steps = uploadFilesStep(inputId, outputId);\n",
              "  const outputElement = document.getElementById(outputId);\n",
              "  // Cache steps on the outputElement to make it available for the next call\n",
              "  // to uploadFilesContinue from Python.\n",
              "  outputElement.steps = steps;\n",
              "\n",
              "  return _uploadFilesContinue(outputId);\n",
              "}\n",
              "\n",
              "// This is roughly an async generator (not supported in the browser yet),\n",
              "// where there are multiple asynchronous steps and the Python side is going\n",
              "// to poll for completion of each step.\n",
              "// This uses a Promise to block the python side on completion of each step,\n",
              "// then passes the result of the previous step as the input to the next step.\n",
              "function _uploadFilesContinue(outputId) {\n",
              "  const outputElement = document.getElementById(outputId);\n",
              "  const steps = outputElement.steps;\n",
              "\n",
              "  const next = steps.next(outputElement.lastPromiseValue);\n",
              "  return Promise.resolve(next.value.promise).then((value) => {\n",
              "    // Cache the last promise value to make it available to the next\n",
              "    // step of the generator.\n",
              "    outputElement.lastPromiseValue = value;\n",
              "    return next.value.response;\n",
              "  });\n",
              "}\n",
              "\n",
              "/**\n",
              " * Generator function which is called between each async step of the upload\n",
              " * process.\n",
              " * @param {string} inputId Element ID of the input file picker element.\n",
              " * @param {string} outputId Element ID of the output display.\n",
              " * @return {!Iterable<!Object>} Iterable of next steps.\n",
              " */\n",
              "function* uploadFilesStep(inputId, outputId) {\n",
              "  const inputElement = document.getElementById(inputId);\n",
              "  inputElement.disabled = false;\n",
              "\n",
              "  const outputElement = document.getElementById(outputId);\n",
              "  outputElement.innerHTML = '';\n",
              "\n",
              "  const pickedPromise = new Promise((resolve) => {\n",
              "    inputElement.addEventListener('change', (e) => {\n",
              "      resolve(e.target.files);\n",
              "    });\n",
              "  });\n",
              "\n",
              "  const cancel = document.createElement('button');\n",
              "  inputElement.parentElement.appendChild(cancel);\n",
              "  cancel.textContent = 'Cancel upload';\n",
              "  const cancelPromise = new Promise((resolve) => {\n",
              "    cancel.onclick = () => {\n",
              "      resolve(null);\n",
              "    };\n",
              "  });\n",
              "\n",
              "  // Wait for the user to pick the files.\n",
              "  const files = yield {\n",
              "    promise: Promise.race([pickedPromise, cancelPromise]),\n",
              "    response: {\n",
              "      action: 'starting',\n",
              "    }\n",
              "  };\n",
              "\n",
              "  cancel.remove();\n",
              "\n",
              "  // Disable the input element since further picks are not allowed.\n",
              "  inputElement.disabled = true;\n",
              "\n",
              "  if (!files) {\n",
              "    return {\n",
              "      response: {\n",
              "        action: 'complete',\n",
              "      }\n",
              "    };\n",
              "  }\n",
              "\n",
              "  for (const file of files) {\n",
              "    const li = document.createElement('li');\n",
              "    li.append(span(file.name, {fontWeight: 'bold'}));\n",
              "    li.append(span(\n",
              "        `(${file.type || 'n/a'}) - ${file.size} bytes, ` +\n",
              "        `last modified: ${\n",
              "            file.lastModifiedDate ? file.lastModifiedDate.toLocaleDateString() :\n",
              "                                    'n/a'} - `));\n",
              "    const percent = span('0% done');\n",
              "    li.appendChild(percent);\n",
              "\n",
              "    outputElement.appendChild(li);\n",
              "\n",
              "    const fileDataPromise = new Promise((resolve) => {\n",
              "      const reader = new FileReader();\n",
              "      reader.onload = (e) => {\n",
              "        resolve(e.target.result);\n",
              "      };\n",
              "      reader.readAsArrayBuffer(file);\n",
              "    });\n",
              "    // Wait for the data to be ready.\n",
              "    let fileData = yield {\n",
              "      promise: fileDataPromise,\n",
              "      response: {\n",
              "        action: 'continue',\n",
              "      }\n",
              "    };\n",
              "\n",
              "    // Use a chunked sending to avoid message size limits. See b/62115660.\n",
              "    let position = 0;\n",
              "    do {\n",
              "      const length = Math.min(fileData.byteLength - position, MAX_PAYLOAD_SIZE);\n",
              "      const chunk = new Uint8Array(fileData, position, length);\n",
              "      position += length;\n",
              "\n",
              "      const base64 = btoa(String.fromCharCode.apply(null, chunk));\n",
              "      yield {\n",
              "        response: {\n",
              "          action: 'append',\n",
              "          file: file.name,\n",
              "          data: base64,\n",
              "        },\n",
              "      };\n",
              "\n",
              "      let percentDone = fileData.byteLength === 0 ?\n",
              "          100 :\n",
              "          Math.round((position / fileData.byteLength) * 100);\n",
              "      percent.textContent = `${percentDone}% done`;\n",
              "\n",
              "    } while (position < fileData.byteLength);\n",
              "  }\n",
              "\n",
              "  // All done.\n",
              "  yield {\n",
              "    response: {\n",
              "      action: 'complete',\n",
              "    }\n",
              "  };\n",
              "}\n",
              "\n",
              "scope.google = scope.google || {};\n",
              "scope.google.colab = scope.google.colab || {};\n",
              "scope.google.colab._files = {\n",
              "  _uploadFiles,\n",
              "  _uploadFilesContinue,\n",
              "};\n",
              "})(self);\n",
              "</script> "
            ]
          },
          "metadata": {}
        },
        {
          "output_type": "stream",
          "name": "stdout",
          "text": [
            "Saving videos-comments-tratados.snappy.parquet to videos-comments-tratados.snappy.parquet\n"
          ]
        }
      ]
    },
    {
      "cell_type": "code",
      "source": [
        "df_video = spark.read.parquet(\"videos-tratados.snappy.parquet\")\n",
        "df_video.show()\n"
      ],
      "metadata": {
        "colab": {
          "base_uri": "https://localhost:8080/"
        },
        "id": "ZePCrQuJ7wNj",
        "outputId": "7ffe4a43-cb0f-4208-c13c-7ddf616c18a2"
      },
      "execution_count": 6,
      "outputs": [
        {
          "output_type": "stream",
          "name": "stdout",
          "text": [
            "+-----------+--------------------+------------+-------+-----+--------+-------+-----------+----+--------------------+---------+-------------+\n",
            "|   Video ID|               Title|Published At|Keyword|Likes|Comments|  Views|Interaction|Year|             Comment|Sentiment|Likes Comment|\n",
            "+-----------+--------------------+------------+-------+-----+--------+-------+-----------+----+--------------------+---------+-------------+\n",
            "|wAZZ-UWGVHI|Apple Pay Is Kill...|  2022-08-23|   tech| 3407|     672| 135612|     139691|2022|Let's not forget ...|        1|           95|\n",
            "|wAZZ-UWGVHI|Apple Pay Is Kill...|  2022-08-23|   tech| 3407|     672| 135612|     139691|2022|Here in NZ 50% of...|        0|           19|\n",
            "|wAZZ-UWGVHI|Apple Pay Is Kill...|  2022-08-23|   tech| 3407|     672| 135612|     139691|2022|I will forever ac...|        2|          161|\n",
            "|wAZZ-UWGVHI|Apple Pay Is Kill...|  2022-08-23|   tech| 3407|     672| 135612|     139691|2022|Whenever I go to ...|        0|            8|\n",
            "|wAZZ-UWGVHI|Apple Pay Is Kill...|  2022-08-23|   tech| 3407|     672| 135612|     139691|2022|Apple Pay is so c...|        2|           34|\n",
            "|wAZZ-UWGVHI|Apple Pay Is Kill...|  2022-08-23|   tech| 3407|     672| 135612|     139691|2022|We’ve been houndi...|        1|            8|\n",
            "|wAZZ-UWGVHI|Apple Pay Is Kill...|  2022-08-23|   tech| 3407|     672| 135612|     139691|2022|We only got Apple...|        2|           29|\n",
            "|wAZZ-UWGVHI|Apple Pay Is Kill...|  2022-08-23|   tech| 3407|     672| 135612|     139691|2022|For now, I need b...|        1|            7|\n",
            "|wAZZ-UWGVHI|Apple Pay Is Kill...|  2022-08-23|   tech| 3407|     672| 135612|     139691|2022|In the United Sta...|        2|            2|\n",
            "|wAZZ-UWGVHI|Apple Pay Is Kill...|  2022-08-23|   tech| 3407|     672| 135612|     139691|2022|In Cambodia, we h...|        1|           28|\n",
            "|b3x28s61q3c|The most EXPENSIV...|  2022-08-24|   tech|76779|    4306|1758063|    1839148|2022|Wow, you really w...|        2|         1344|\n",
            "|b3x28s61q3c|The most EXPENSIV...|  2022-08-24|   tech|76779|    4306|1758063|    1839148|2022|The lab is the mo...|        2|          198|\n",
            "|b3x28s61q3c|The most EXPENSIV...|  2022-08-24|   tech|76779|    4306|1758063|    1839148|2022|Linus, I'm an eng...|        2|          365|\n",
            "|b3x28s61q3c|The most EXPENSIV...|  2022-08-24|   tech|76779|    4306|1758063|    1839148|2022|There used to be ...|        2|          211|\n",
            "|b3x28s61q3c|The most EXPENSIV...|  2022-08-24|   tech|76779|    4306|1758063|    1839148|2022|Holy crap. I was ...|        0|          821|\n",
            "|b3x28s61q3c|The most EXPENSIV...|  2022-08-24|   tech|76779|    4306|1758063|    1839148|2022|I love the direct...|        2|          150|\n",
            "|b3x28s61q3c|The most EXPENSIV...|  2022-08-24|   tech|76779|    4306|1758063|    1839148|2022|I am more excited...|        2|           49|\n",
            "|b3x28s61q3c|The most EXPENSIV...|  2022-08-24|   tech|76779|    4306|1758063|    1839148|2022|I adore the worki...|        2|           19|\n",
            "|b3x28s61q3c|The most EXPENSIV...|  2022-08-24|   tech|76779|    4306|1758063|    1839148|2022|LMGs growth is ho...|     NULL|         NULL|\n",
            "|b3x28s61q3c|The most EXPENSIV...|  2022-08-24|   tech|76779|    4306|1758063|    1839148|2022|I love all the pe...|        2|         2808|\n",
            "+-----------+--------------------+------------+-------+-----+--------+-------+-----------+----+--------------------+---------+-------------+\n",
            "only showing top 20 rows\n",
            "\n"
          ]
        }
      ]
    },
    {
      "cell_type": "code",
      "source": [
        "from pyspark.sql.functions import month\n",
        "\n",
        "df_video = df_video.withColumn(\"Month\", month(\"Published At\"))\n",
        "df_video.select(\"Published At\", \"Month\").show()\n"
      ],
      "metadata": {
        "colab": {
          "base_uri": "https://localhost:8080/"
        },
        "id": "HjczO_cP73ar",
        "outputId": "6aa8d690-737c-4cec-e665-641725e3dacc"
      },
      "execution_count": 7,
      "outputs": [
        {
          "output_type": "stream",
          "name": "stdout",
          "text": [
            "+------------+-----+\n",
            "|Published At|Month|\n",
            "+------------+-----+\n",
            "|  2022-08-23|    8|\n",
            "|  2022-08-23|    8|\n",
            "|  2022-08-23|    8|\n",
            "|  2022-08-23|    8|\n",
            "|  2022-08-23|    8|\n",
            "|  2022-08-23|    8|\n",
            "|  2022-08-23|    8|\n",
            "|  2022-08-23|    8|\n",
            "|  2022-08-23|    8|\n",
            "|  2022-08-23|    8|\n",
            "|  2022-08-24|    8|\n",
            "|  2022-08-24|    8|\n",
            "|  2022-08-24|    8|\n",
            "|  2022-08-24|    8|\n",
            "|  2022-08-24|    8|\n",
            "|  2022-08-24|    8|\n",
            "|  2022-08-24|    8|\n",
            "|  2022-08-24|    8|\n",
            "|  2022-08-24|    8|\n",
            "|  2022-08-24|    8|\n",
            "+------------+-----+\n",
            "only showing top 20 rows\n",
            "\n"
          ]
        }
      ]
    },
    {
      "cell_type": "code",
      "source": [
        "from pyspark.ml.feature import StringIndexer\n",
        "\n",
        "indexer = StringIndexer(inputCol=\"Keyword\", outputCol=\"Keyword Index\")\n",
        "df_video = indexer.fit(df_video).transform(df_video)\n",
        "df_video.select(\"Keyword\", \"Keyword Index\").show()"
      ],
      "metadata": {
        "colab": {
          "base_uri": "https://localhost:8080/"
        },
        "id": "sNls6w1s8pip",
        "outputId": "41bfe957-4389-4957-995b-74c8fcdd8221"
      },
      "execution_count": 9,
      "outputs": [
        {
          "output_type": "stream",
          "name": "stdout",
          "text": [
            "+-------+-------------+\n",
            "|Keyword|Keyword Index|\n",
            "+-------+-------------+\n",
            "|   tech|         17.0|\n",
            "|   tech|         17.0|\n",
            "|   tech|         17.0|\n",
            "|   tech|         17.0|\n",
            "|   tech|         17.0|\n",
            "|   tech|         17.0|\n",
            "|   tech|         17.0|\n",
            "|   tech|         17.0|\n",
            "|   tech|         17.0|\n",
            "|   tech|         17.0|\n",
            "|   tech|         17.0|\n",
            "|   tech|         17.0|\n",
            "|   tech|         17.0|\n",
            "|   tech|         17.0|\n",
            "|   tech|         17.0|\n",
            "|   tech|         17.0|\n",
            "|   tech|         17.0|\n",
            "|   tech|         17.0|\n",
            "|   tech|         17.0|\n",
            "|   tech|         17.0|\n",
            "+-------+-------------+\n",
            "only showing top 20 rows\n",
            "\n"
          ]
        }
      ]
    },
    {
      "cell_type": "code",
      "source": [
        "from pyspark.ml.feature import VectorAssembler\n",
        "from pyspark.sql.types import IntegerType\n",
        "\n",
        "# Cast 'Year' column to IntegerType\n",
        "df_video = df_video.withColumn(\"Year\", df_video[\"Year\"].cast(IntegerType()))\n",
        "\n",
        "assembler = VectorAssembler(\n",
        "    inputCols=[\"Likes\", \"Views\", \"Year\", \"Month\", \"Keyword Index\"],\n",
        "    outputCol=\"Features\"\n",
        ")\n",
        "\n",
        "df_video = assembler.transform(df_video)\n",
        "df_video.select(\"Features\").show(truncate=False)"
      ],
      "metadata": {
        "colab": {
          "base_uri": "https://localhost:8080/"
        },
        "id": "iDeljmJh9FM6",
        "outputId": "6fd6bfe5-fa88-4866-889e-058f0d6c53ea"
      },
      "execution_count": 11,
      "outputs": [
        {
          "output_type": "stream",
          "name": "stdout",
          "text": [
            "+-----------------------------------+\n",
            "|Features                           |\n",
            "+-----------------------------------+\n",
            "|[3407.0,135612.0,2022.0,8.0,17.0]  |\n",
            "|[3407.0,135612.0,2022.0,8.0,17.0]  |\n",
            "|[3407.0,135612.0,2022.0,8.0,17.0]  |\n",
            "|[3407.0,135612.0,2022.0,8.0,17.0]  |\n",
            "|[3407.0,135612.0,2022.0,8.0,17.0]  |\n",
            "|[3407.0,135612.0,2022.0,8.0,17.0]  |\n",
            "|[3407.0,135612.0,2022.0,8.0,17.0]  |\n",
            "|[3407.0,135612.0,2022.0,8.0,17.0]  |\n",
            "|[3407.0,135612.0,2022.0,8.0,17.0]  |\n",
            "|[3407.0,135612.0,2022.0,8.0,17.0]  |\n",
            "|[76779.0,1758063.0,2022.0,8.0,17.0]|\n",
            "|[76779.0,1758063.0,2022.0,8.0,17.0]|\n",
            "|[76779.0,1758063.0,2022.0,8.0,17.0]|\n",
            "|[76779.0,1758063.0,2022.0,8.0,17.0]|\n",
            "|[76779.0,1758063.0,2022.0,8.0,17.0]|\n",
            "|[76779.0,1758063.0,2022.0,8.0,17.0]|\n",
            "|[76779.0,1758063.0,2022.0,8.0,17.0]|\n",
            "|[76779.0,1758063.0,2022.0,8.0,17.0]|\n",
            "|[76779.0,1758063.0,2022.0,8.0,17.0]|\n",
            "|[76779.0,1758063.0,2022.0,8.0,17.0]|\n",
            "+-----------------------------------+\n",
            "only showing top 20 rows\n",
            "\n"
          ]
        }
      ]
    },
    {
      "cell_type": "code",
      "source": [
        "from pyspark.ml.feature import Normalizer\n",
        "\n",
        "# Filtra registros sem valores nulos nos campos do vetor\n",
        "df_video = df_video.na.drop(subset=[\"Likes\", \"Views\", \"Year\", \"Month\", \"Keyword Index\"])\n",
        "\n",
        "normalizer = Normalizer(inputCol=\"Features\", outputCol=\"Features Normal\", p=2)\n",
        "df_video = normalizer.transform(df_video)\n",
        "df_video.select(\"Features Normal\").show(truncate=False)\n"
      ],
      "metadata": {
        "colab": {
          "base_uri": "https://localhost:8080/"
        },
        "id": "YETkfMcP9W2l",
        "outputId": "51c91e87-56dc-41a3-e28a-970a38cd6ba8"
      },
      "execution_count": 12,
      "outputs": [
        {
          "output_type": "stream",
          "name": "stdout",
          "text": [
            "+--------------------------------------------------------------------------------------------------------+\n",
            "|Features Normal                                                                                         |\n",
            "+--------------------------------------------------------------------------------------------------------+\n",
            "|[0.02511243093431334,0.9995735203592899,0.014903826049070024,5.896667081728991E-5,1.2530417548674107E-4]|\n",
            "|[0.02511243093431334,0.9995735203592899,0.014903826049070024,5.896667081728991E-5,1.2530417548674107E-4]|\n",
            "|[0.02511243093431334,0.9995735203592899,0.014903826049070024,5.896667081728991E-5,1.2530417548674107E-4]|\n",
            "|[0.02511243093431334,0.9995735203592899,0.014903826049070024,5.896667081728991E-5,1.2530417548674107E-4]|\n",
            "|[0.02511243093431334,0.9995735203592899,0.014903826049070024,5.896667081728991E-5,1.2530417548674107E-4]|\n",
            "|[0.02511243093431334,0.9995735203592899,0.014903826049070024,5.896667081728991E-5,1.2530417548674107E-4]|\n",
            "|[0.02511243093431334,0.9995735203592899,0.014903826049070024,5.896667081728991E-5,1.2530417548674107E-4]|\n",
            "|[0.02511243093431334,0.9995735203592899,0.014903826049070024,5.896667081728991E-5,1.2530417548674107E-4]|\n",
            "|[0.02511243093431334,0.9995735203592899,0.014903826049070024,5.896667081728991E-5,1.2530417548674107E-4]|\n",
            "|[0.02511243093431334,0.9995735203592899,0.014903826049070024,5.896667081728991E-5,1.2530417548674107E-4]|\n",
            "|[0.0436308790636419,0.999047058951842,0.0011490334266750534,4.546126317210894E-6,9.66051842407315E-6]   |\n",
            "|[0.0436308790636419,0.999047058951842,0.0011490334266750534,4.546126317210894E-6,9.66051842407315E-6]   |\n",
            "|[0.0436308790636419,0.999047058951842,0.0011490334266750534,4.546126317210894E-6,9.66051842407315E-6]   |\n",
            "|[0.0436308790636419,0.999047058951842,0.0011490334266750534,4.546126317210894E-6,9.66051842407315E-6]   |\n",
            "|[0.0436308790636419,0.999047058951842,0.0011490334266750534,4.546126317210894E-6,9.66051842407315E-6]   |\n",
            "|[0.0436308790636419,0.999047058951842,0.0011490334266750534,4.546126317210894E-6,9.66051842407315E-6]   |\n",
            "|[0.0436308790636419,0.999047058951842,0.0011490334266750534,4.546126317210894E-6,9.66051842407315E-6]   |\n",
            "|[0.0436308790636419,0.999047058951842,0.0011490334266750534,4.546126317210894E-6,9.66051842407315E-6]   |\n",
            "|[0.0436308790636419,0.999047058951842,0.0011490334266750534,4.546126317210894E-6,9.66051842407315E-6]   |\n",
            "|[0.0436308790636419,0.999047058951842,0.0011490334266750534,4.546126317210894E-6,9.66051842407315E-6]   |\n",
            "+--------------------------------------------------------------------------------------------------------+\n",
            "only showing top 20 rows\n",
            "\n"
          ]
        }
      ]
    },
    {
      "cell_type": "code",
      "source": [
        "from pyspark.ml.feature import PCA\n",
        "\n",
        "pca = PCA(k=1, inputCol=\"Features\", outputCol=\"Features PCA\")\n",
        "pca_model = pca.fit(df_video)\n",
        "df_video = pca_model.transform(df_video)\n",
        "df_video.select(\"Features PCA\").show(truncate=False)\n"
      ],
      "metadata": {
        "colab": {
          "base_uri": "https://localhost:8080/"
        },
        "id": "xotkrSzC9rDZ",
        "outputId": "66d7831c-76dd-4e26-d453-5122f448bd79"
      },
      "execution_count": 13,
      "outputs": [
        {
          "output_type": "stream",
          "name": "stdout",
          "text": [
            "+---------------------+\n",
            "|Features PCA         |\n",
            "+---------------------+\n",
            "|[-135636.63188203107]|\n",
            "|[-135636.63188203107]|\n",
            "|[-135636.63188203107]|\n",
            "|[-135636.63188203107]|\n",
            "|[-135636.63188203107]|\n",
            "|[-135636.63188203107]|\n",
            "|[-135636.63188203107]|\n",
            "|[-135636.63188203107]|\n",
            "|[-135636.63188203107]|\n",
            "|[-135636.63188203107]|\n",
            "|[-1758667.8498040342]|\n",
            "|[-1758667.8498040342]|\n",
            "|[-1758667.8498040342]|\n",
            "|[-1758667.8498040342]|\n",
            "|[-1758667.8498040342]|\n",
            "|[-1758667.8498040342]|\n",
            "|[-1758667.8498040342]|\n",
            "|[-1758667.8498040342]|\n",
            "|[-1758667.8498040342]|\n",
            "|[-1758667.8498040342]|\n",
            "+---------------------+\n",
            "only showing top 20 rows\n",
            "\n"
          ]
        }
      ]
    },
    {
      "cell_type": "code",
      "source": [
        "df_train, df_test = df_video.randomSplit([0.8, 0.2], seed=42)\n",
        "print(\"Treino:\", df_train.count(), \"| Teste:\", df_test.count())\n"
      ],
      "metadata": {
        "colab": {
          "base_uri": "https://localhost:8080/"
        },
        "id": "4ADpZOjk900x",
        "outputId": "3660c8b5-9936-48b8-f980-0e516699bfc8"
      },
      "execution_count": 14,
      "outputs": [
        {
          "output_type": "stream",
          "name": "stdout",
          "text": [
            "Treino: 14789 | Teste: 3620\n"
          ]
        }
      ]
    },
    {
      "cell_type": "code",
      "source": [
        "from pyspark.ml.regression import LinearRegression\n",
        "\n",
        "lr = LinearRegression(featuresCol=\"Features Normal\", labelCol=\"Comments\")\n",
        "lr_model = lr.fit(df_train)\n",
        "\n",
        "# Avaliar no conjunto de teste\n",
        "test_results = lr_model.evaluate(df_test)\n",
        "print(\"RMSE:\", test_results.rootMeanSquaredError)\n",
        "print(\"R2:\", test_results.r2)\n"
      ],
      "metadata": {
        "colab": {
          "base_uri": "https://localhost:8080/"
        },
        "id": "jsp2Uy8f9-UI",
        "outputId": "c4a09fd5-11a2-4eb9-d0d7-11e792aa80d4"
      },
      "execution_count": 15,
      "outputs": [
        {
          "output_type": "stream",
          "name": "stdout",
          "text": [
            "RMSE: 43345.23343236093\n",
            "R2: 0.008252984288786291\n"
          ]
        }
      ]
    }
  ]
}