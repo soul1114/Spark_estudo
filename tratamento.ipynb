{
  "nbformat": 4,
  "nbformat_minor": 0,
  "metadata": {
    "colab": {
      "provenance": []
    },
    "kernelspec": {
      "name": "python3",
      "display_name": "Python 3"
    },
    "language_info": {
      "name": "python"
    }
  },
  "cells": [
    {
      "cell_type": "code",
      "execution_count": 1,
      "metadata": {
        "id": "jZrfTkfs7pQj"
      },
      "outputs": [],
      "source": [
        "# Instala o PySpark (se ainda não estiver no ambiente)\n",
        "!pip install -q pyspark\n"
      ]
    },
    {
      "cell_type": "code",
      "source": [
        "from pyspark.sql import SparkSession\n",
        "from pyspark.sql.functions import col\n"
      ],
      "metadata": {
        "id": "07DJ7_G_8FOv"
      },
      "execution_count": 2,
      "outputs": []
    },
    {
      "cell_type": "code",
      "source": [
        "spark = SparkSession.builder \\\n",
        "    .appName(\"Videos Stats\") \\\n",
        "    .getOrCreate()\n"
      ],
      "metadata": {
        "id": "45UvMEIm8HbN"
      },
      "execution_count": 3,
      "outputs": []
    },
    {
      "cell_type": "code",
      "source": [
        "from google.colab import files\n",
        "\n",
        "uploaded = files.upload()  # Vai abrir um seletor para escolher o arquivo CSV\n"
      ],
      "metadata": {
        "colab": {
          "base_uri": "https://localhost:8080/",
          "height": 142
        },
        "id": "Pfy-dACz8LJd",
        "outputId": "baaee5ea-a323-4654-ded0-6f2dbbf0fab6"
      },
      "execution_count": 4,
      "outputs": [
        {
          "output_type": "display_data",
          "data": {
            "text/plain": [
              "<IPython.core.display.HTML object>"
            ],
            "text/html": [
              "\n",
              "     <input type=\"file\" id=\"files-4a98dcef-95a4-489a-98f9-943875860b52\" name=\"files[]\" multiple disabled\n",
              "        style=\"border:none\" />\n",
              "     <output id=\"result-4a98dcef-95a4-489a-98f9-943875860b52\">\n",
              "      Upload widget is only available when the cell has been executed in the\n",
              "      current browser session. Please rerun this cell to enable.\n",
              "      </output>\n",
              "      <script>// Copyright 2017 Google LLC\n",
              "//\n",
              "// Licensed under the Apache License, Version 2.0 (the \"License\");\n",
              "// you may not use this file except in compliance with the License.\n",
              "// You may obtain a copy of the License at\n",
              "//\n",
              "//      http://www.apache.org/licenses/LICENSE-2.0\n",
              "//\n",
              "// Unless required by applicable law or agreed to in writing, software\n",
              "// distributed under the License is distributed on an \"AS IS\" BASIS,\n",
              "// WITHOUT WARRANTIES OR CONDITIONS OF ANY KIND, either express or implied.\n",
              "// See the License for the specific language governing permissions and\n",
              "// limitations under the License.\n",
              "\n",
              "/**\n",
              " * @fileoverview Helpers for google.colab Python module.\n",
              " */\n",
              "(function(scope) {\n",
              "function span(text, styleAttributes = {}) {\n",
              "  const element = document.createElement('span');\n",
              "  element.textContent = text;\n",
              "  for (const key of Object.keys(styleAttributes)) {\n",
              "    element.style[key] = styleAttributes[key];\n",
              "  }\n",
              "  return element;\n",
              "}\n",
              "\n",
              "// Max number of bytes which will be uploaded at a time.\n",
              "const MAX_PAYLOAD_SIZE = 100 * 1024;\n",
              "\n",
              "function _uploadFiles(inputId, outputId) {\n",
              "  const steps = uploadFilesStep(inputId, outputId);\n",
              "  const outputElement = document.getElementById(outputId);\n",
              "  // Cache steps on the outputElement to make it available for the next call\n",
              "  // to uploadFilesContinue from Python.\n",
              "  outputElement.steps = steps;\n",
              "\n",
              "  return _uploadFilesContinue(outputId);\n",
              "}\n",
              "\n",
              "// This is roughly an async generator (not supported in the browser yet),\n",
              "// where there are multiple asynchronous steps and the Python side is going\n",
              "// to poll for completion of each step.\n",
              "// This uses a Promise to block the python side on completion of each step,\n",
              "// then passes the result of the previous step as the input to the next step.\n",
              "function _uploadFilesContinue(outputId) {\n",
              "  const outputElement = document.getElementById(outputId);\n",
              "  const steps = outputElement.steps;\n",
              "\n",
              "  const next = steps.next(outputElement.lastPromiseValue);\n",
              "  return Promise.resolve(next.value.promise).then((value) => {\n",
              "    // Cache the last promise value to make it available to the next\n",
              "    // step of the generator.\n",
              "    outputElement.lastPromiseValue = value;\n",
              "    return next.value.response;\n",
              "  });\n",
              "}\n",
              "\n",
              "/**\n",
              " * Generator function which is called between each async step of the upload\n",
              " * process.\n",
              " * @param {string} inputId Element ID of the input file picker element.\n",
              " * @param {string} outputId Element ID of the output display.\n",
              " * @return {!Iterable<!Object>} Iterable of next steps.\n",
              " */\n",
              "function* uploadFilesStep(inputId, outputId) {\n",
              "  const inputElement = document.getElementById(inputId);\n",
              "  inputElement.disabled = false;\n",
              "\n",
              "  const outputElement = document.getElementById(outputId);\n",
              "  outputElement.innerHTML = '';\n",
              "\n",
              "  const pickedPromise = new Promise((resolve) => {\n",
              "    inputElement.addEventListener('change', (e) => {\n",
              "      resolve(e.target.files);\n",
              "    });\n",
              "  });\n",
              "\n",
              "  const cancel = document.createElement('button');\n",
              "  inputElement.parentElement.appendChild(cancel);\n",
              "  cancel.textContent = 'Cancel upload';\n",
              "  const cancelPromise = new Promise((resolve) => {\n",
              "    cancel.onclick = () => {\n",
              "      resolve(null);\n",
              "    };\n",
              "  });\n",
              "\n",
              "  // Wait for the user to pick the files.\n",
              "  const files = yield {\n",
              "    promise: Promise.race([pickedPromise, cancelPromise]),\n",
              "    response: {\n",
              "      action: 'starting',\n",
              "    }\n",
              "  };\n",
              "\n",
              "  cancel.remove();\n",
              "\n",
              "  // Disable the input element since further picks are not allowed.\n",
              "  inputElement.disabled = true;\n",
              "\n",
              "  if (!files) {\n",
              "    return {\n",
              "      response: {\n",
              "        action: 'complete',\n",
              "      }\n",
              "    };\n",
              "  }\n",
              "\n",
              "  for (const file of files) {\n",
              "    const li = document.createElement('li');\n",
              "    li.append(span(file.name, {fontWeight: 'bold'}));\n",
              "    li.append(span(\n",
              "        `(${file.type || 'n/a'}) - ${file.size} bytes, ` +\n",
              "        `last modified: ${\n",
              "            file.lastModifiedDate ? file.lastModifiedDate.toLocaleDateString() :\n",
              "                                    'n/a'} - `));\n",
              "    const percent = span('0% done');\n",
              "    li.appendChild(percent);\n",
              "\n",
              "    outputElement.appendChild(li);\n",
              "\n",
              "    const fileDataPromise = new Promise((resolve) => {\n",
              "      const reader = new FileReader();\n",
              "      reader.onload = (e) => {\n",
              "        resolve(e.target.result);\n",
              "      };\n",
              "      reader.readAsArrayBuffer(file);\n",
              "    });\n",
              "    // Wait for the data to be ready.\n",
              "    let fileData = yield {\n",
              "      promise: fileDataPromise,\n",
              "      response: {\n",
              "        action: 'continue',\n",
              "      }\n",
              "    };\n",
              "\n",
              "    // Use a chunked sending to avoid message size limits. See b/62115660.\n",
              "    let position = 0;\n",
              "    do {\n",
              "      const length = Math.min(fileData.byteLength - position, MAX_PAYLOAD_SIZE);\n",
              "      const chunk = new Uint8Array(fileData, position, length);\n",
              "      position += length;\n",
              "\n",
              "      const base64 = btoa(String.fromCharCode.apply(null, chunk));\n",
              "      yield {\n",
              "        response: {\n",
              "          action: 'append',\n",
              "          file: file.name,\n",
              "          data: base64,\n",
              "        },\n",
              "      };\n",
              "\n",
              "      let percentDone = fileData.byteLength === 0 ?\n",
              "          100 :\n",
              "          Math.round((position / fileData.byteLength) * 100);\n",
              "      percent.textContent = `${percentDone}% done`;\n",
              "\n",
              "    } while (position < fileData.byteLength);\n",
              "  }\n",
              "\n",
              "  // All done.\n",
              "  yield {\n",
              "    response: {\n",
              "      action: 'complete',\n",
              "    }\n",
              "  };\n",
              "}\n",
              "\n",
              "scope.google = scope.google || {};\n",
              "scope.google.colab = scope.google.colab || {};\n",
              "scope.google.colab._files = {\n",
              "  _uploadFiles,\n",
              "  _uploadFilesContinue,\n",
              "};\n",
              "})(self);\n",
              "</script> "
            ]
          },
          "metadata": {}
        },
        {
          "output_type": "stream",
          "name": "stdout",
          "text": [
            "Saving comments.csv to comments.csv\n",
            "Saving USvideos.csv to USvideos.csv\n",
            "Saving videos-stats.csv to videos-stats.csv\n"
          ]
        }
      ]
    },
    {
      "cell_type": "code",
      "source": [
        "df_video = spark.read.csv(\"videos-stats.csv\", header=True, inferSchema=True)\n",
        "df_video.show()\n",
        "df_video.printSchema()\n"
      ],
      "metadata": {
        "colab": {
          "base_uri": "https://localhost:8080/"
        },
        "id": "QpEleKTw9AEr",
        "outputId": "775be9bb-9be1-4a86-cad2-6302e6cd0449"
      },
      "execution_count": 5,
      "outputs": [
        {
          "output_type": "stream",
          "name": "stdout",
          "text": [
            "+---+--------------------+-----------+------------+-------+--------+--------+-----------+\n",
            "|_c0|               Title|   Video ID|Published At|Keyword|   Likes|Comments|      Views|\n",
            "+---+--------------------+-----------+------------+-------+--------+--------+-----------+\n",
            "|  0|Apple Pay Is Kill...|wAZZ-UWGVHI|  2022-08-23|   tech|  3407.0|   672.0|   135612.0|\n",
            "|  1|The most EXPENSIV...|b3x28s61q3c|  2022-08-24|   tech| 76779.0|  4306.0|  1758063.0|\n",
            "|  2|My New House Gami...|4mgePWWCAmA|  2022-08-23|   tech| 63825.0|  3338.0|  1564007.0|\n",
            "|  3|Petrol Vs Liquid ...|kXiYSI7H2b0|  2022-08-23|   tech| 71566.0|  1426.0|   922918.0|\n",
            "|  4|Best Back to Scho...|ErMwWXQxHp0|  2022-08-08|   tech| 96513.0|  5155.0|  1855644.0|\n",
            "|  5|Brewmaster Answer...|18fwz9Itbvo|  2021-11-05|   tech| 33570.0|  1643.0|   943119.0|\n",
            "|  6|Tech Monopolies: ...|jXf04bhcjbg|  2022-06-13|   tech|135047.0|  9367.0|  5937790.0|\n",
            "|  7|I bought the STRA...|2TqOmtTAMRY|  2022-08-07|   tech|216935.0| 12605.0|  4782514.0|\n",
            "|  8|15 Emerging Techn...|wLlL46pYcg4|  2021-12-08|   tech| 45565.0|  2882.0|  7001236.0|\n",
            "|  9|Toxicologist Answ...|R7qsau3X6Ks|  2022-07-14|   tech| 24252.0|  1068.0|   667767.0|\n",
            "| 10|Dope Tech: The Mo...|MEiq0oCUb_8|  2022-08-15|   tech|118001.0|  4123.0|  2359142.0|\n",
            "| 11|Cool Tech Under $...|pT_9hntWj34|  2022-08-06|   tech| 20999.0|  3091.0|   413179.0|\n",
            "| 12|Cool Back to Scho...|cj4lxmHQV0o|  2022-08-13|   tech| 15322.0|   547.0|   389114.0|\n",
            "| 13|Best Tech/EDC Gif...|d-BdIo8_wpA|  2021-12-15|   tech| 17866.0|   157.0|   444953.0|\n",
            "| 14|My Massive Tech U...|eFhhW6fsAbQ|  2022-07-09|   tech| 13217.0|   442.0|   371563.0|\n",
            "| 15|Why Millennials A...|N88OE2ZCHBM|  2021-06-04|   tech| 26890.0|  4999.0|  1633059.0|\n",
            "| 16|10 Coolest Gadget...|PKATJiyz0iI|  2021-08-13|   tech|  9562.0|   199.0|   760249.0|\n",
            "| 17|17 Coolest Gadget...|qiMnSaZWf3M|  2022-07-21|   tech| 11743.0|   143.0|  1086568.0|\n",
            "| 18|Almost EVERYONE i...|4AnyhHl3_tE|  2022-08-14|   tech|146978.0| 11105.0|  3186890.0|\n",
            "| 19|I bought the THIN...|nmY2kgWYwyQ|  2022-03-25|   tech|363771.0| 13609.0|1.1422924E7|\n",
            "+---+--------------------+-----------+------------+-------+--------+--------+-----------+\n",
            "only showing top 20 rows\n",
            "\n",
            "root\n",
            " |-- _c0: integer (nullable = true)\n",
            " |-- Title: string (nullable = true)\n",
            " |-- Video ID: string (nullable = true)\n",
            " |-- Published At: date (nullable = true)\n",
            " |-- Keyword: string (nullable = true)\n",
            " |-- Likes: double (nullable = true)\n",
            " |-- Comments: double (nullable = true)\n",
            " |-- Views: double (nullable = true)\n",
            "\n"
          ]
        }
      ]
    },
    {
      "cell_type": "code",
      "source": [
        "df_video_clean = df_video.fillna({\n",
        "    \"Likes\": 0,\n",
        "    \"Comments\": 0,\n",
        "    \"Views\": 0\n",
        "})\n",
        "df_video_clean.show()\n"
      ],
      "metadata": {
        "colab": {
          "base_uri": "https://localhost:8080/"
        },
        "id": "67wxBs_L9Gey",
        "outputId": "eacbb100-063a-4da2-d945-e00f473dde0f"
      },
      "execution_count": 6,
      "outputs": [
        {
          "output_type": "stream",
          "name": "stdout",
          "text": [
            "+---+--------------------+-----------+------------+-------+--------+--------+-----------+\n",
            "|_c0|               Title|   Video ID|Published At|Keyword|   Likes|Comments|      Views|\n",
            "+---+--------------------+-----------+------------+-------+--------+--------+-----------+\n",
            "|  0|Apple Pay Is Kill...|wAZZ-UWGVHI|  2022-08-23|   tech|  3407.0|   672.0|   135612.0|\n",
            "|  1|The most EXPENSIV...|b3x28s61q3c|  2022-08-24|   tech| 76779.0|  4306.0|  1758063.0|\n",
            "|  2|My New House Gami...|4mgePWWCAmA|  2022-08-23|   tech| 63825.0|  3338.0|  1564007.0|\n",
            "|  3|Petrol Vs Liquid ...|kXiYSI7H2b0|  2022-08-23|   tech| 71566.0|  1426.0|   922918.0|\n",
            "|  4|Best Back to Scho...|ErMwWXQxHp0|  2022-08-08|   tech| 96513.0|  5155.0|  1855644.0|\n",
            "|  5|Brewmaster Answer...|18fwz9Itbvo|  2021-11-05|   tech| 33570.0|  1643.0|   943119.0|\n",
            "|  6|Tech Monopolies: ...|jXf04bhcjbg|  2022-06-13|   tech|135047.0|  9367.0|  5937790.0|\n",
            "|  7|I bought the STRA...|2TqOmtTAMRY|  2022-08-07|   tech|216935.0| 12605.0|  4782514.0|\n",
            "|  8|15 Emerging Techn...|wLlL46pYcg4|  2021-12-08|   tech| 45565.0|  2882.0|  7001236.0|\n",
            "|  9|Toxicologist Answ...|R7qsau3X6Ks|  2022-07-14|   tech| 24252.0|  1068.0|   667767.0|\n",
            "| 10|Dope Tech: The Mo...|MEiq0oCUb_8|  2022-08-15|   tech|118001.0|  4123.0|  2359142.0|\n",
            "| 11|Cool Tech Under $...|pT_9hntWj34|  2022-08-06|   tech| 20999.0|  3091.0|   413179.0|\n",
            "| 12|Cool Back to Scho...|cj4lxmHQV0o|  2022-08-13|   tech| 15322.0|   547.0|   389114.0|\n",
            "| 13|Best Tech/EDC Gif...|d-BdIo8_wpA|  2021-12-15|   tech| 17866.0|   157.0|   444953.0|\n",
            "| 14|My Massive Tech U...|eFhhW6fsAbQ|  2022-07-09|   tech| 13217.0|   442.0|   371563.0|\n",
            "| 15|Why Millennials A...|N88OE2ZCHBM|  2021-06-04|   tech| 26890.0|  4999.0|  1633059.0|\n",
            "| 16|10 Coolest Gadget...|PKATJiyz0iI|  2021-08-13|   tech|  9562.0|   199.0|   760249.0|\n",
            "| 17|17 Coolest Gadget...|qiMnSaZWf3M|  2022-07-21|   tech| 11743.0|   143.0|  1086568.0|\n",
            "| 18|Almost EVERYONE i...|4AnyhHl3_tE|  2022-08-14|   tech|146978.0| 11105.0|  3186890.0|\n",
            "| 19|I bought the THIN...|nmY2kgWYwyQ|  2022-03-25|   tech|363771.0| 13609.0|1.1422924E7|\n",
            "+---+--------------------+-----------+------------+-------+--------+--------+-----------+\n",
            "only showing top 20 rows\n",
            "\n"
          ]
        }
      ]
    },
    {
      "cell_type": "code",
      "source": [
        "df_comentario = spark.read.csv(\"comments.csv\", header=True, inferSchema=True)\n",
        "df_comentario.show()\n",
        "df_comentario.printSchema()\n"
      ],
      "metadata": {
        "colab": {
          "base_uri": "https://localhost:8080/"
        },
        "id": "zMJa3FKw9aT-",
        "outputId": "cafa10d6-1483-46e7-d2fe-bdad63da5d20"
      },
      "execution_count": 7,
      "outputs": [
        {
          "output_type": "stream",
          "name": "stdout",
          "text": [
            "+--------------+-----------+--------------------+------+---------+\n",
            "|           _c0|   Video ID|             Comment| Likes|Sentiment|\n",
            "+--------------+-----------+--------------------+------+---------+\n",
            "|             0|wAZZ-UWGVHI|Let's not forget ...|  95.0|      1.0|\n",
            "|             1|wAZZ-UWGVHI|Here in NZ 50% of...|  19.0|      0.0|\n",
            "|             2|wAZZ-UWGVHI|I will forever ac...| 161.0|      2.0|\n",
            "|             3|wAZZ-UWGVHI|Whenever I go to ...|   8.0|      0.0|\n",
            "|             4|wAZZ-UWGVHI|Apple Pay is so c...|  34.0|      2.0|\n",
            "|             5|wAZZ-UWGVHI|We’ve been houndi...|   8.0|      1.0|\n",
            "|             6|wAZZ-UWGVHI|We only got Apple...|  29.0|      2.0|\n",
            "|             7|wAZZ-UWGVHI|For now, I need b...|   7.0|      1.0|\n",
            "|             8|wAZZ-UWGVHI|In the United Sta...|   2.0|      2.0|\n",
            "|             9|wAZZ-UWGVHI|In Cambodia, we h...|  28.0|      1.0|\n",
            "|            10|b3x28s61q3c|Wow, you really w...|1344.0|      2.0|\n",
            "|            11|b3x28s61q3c|The lab is the mo...| 198.0|      2.0|\n",
            "|            12|b3x28s61q3c|Linus, I'm an eng...| 365.0|      2.0|\n",
            "|            13|b3x28s61q3c|There used to be ...| 211.0|      2.0|\n",
            "|            14|b3x28s61q3c|Holy crap. I was ...| 821.0|      0.0|\n",
            "|            15|b3x28s61q3c|I love the direct...| 150.0|      2.0|\n",
            "|            16|b3x28s61q3c|I am more excited...|  49.0|      2.0|\n",
            "|            17|b3x28s61q3c|I adore the worki...|  19.0|      2.0|\n",
            "|            18|b3x28s61q3c|LMGs growth is ho...|  NULL|     NULL|\n",
            "|More technical|   in depth| engineering orie...|  17.0|      2.0|\n",
            "+--------------+-----------+--------------------+------+---------+\n",
            "only showing top 20 rows\n",
            "\n",
            "root\n",
            " |-- _c0: string (nullable = true)\n",
            " |-- Video ID: string (nullable = true)\n",
            " |-- Comment: string (nullable = true)\n",
            " |-- Likes: string (nullable = true)\n",
            " |-- Sentiment: string (nullable = true)\n",
            "\n"
          ]
        }
      ]
    },
    {
      "cell_type": "code",
      "source": [
        "print(\"Registros em df_video:\", df_video.count())\n",
        "print(\"Registros em df_comentario:\", df_comentario.count())\n"
      ],
      "metadata": {
        "colab": {
          "base_uri": "https://localhost:8080/"
        },
        "id": "L6Sb2_pi9fLI",
        "outputId": "a64a54cf-0762-4c4d-b663-cf8abb7d0ff0"
      },
      "execution_count": 8,
      "outputs": [
        {
          "output_type": "stream",
          "name": "stdout",
          "text": [
            "Registros em df_video: 1881\n",
            "Registros em df_comentario: 30036\n"
          ]
        }
      ]
    },
    {
      "cell_type": "code",
      "source": [
        "df_video = df_video.filter(col(\"Video ID\").isNotNull())\n",
        "df_comentario = df_comentario.filter(col(\"Video ID\").isNotNull())\n",
        "\n",
        "print(\"Registros em df_video (sem nulos):\", df_video.count())\n",
        "print(\"Registros em df_comentario (sem nulos):\", df_comentario.count())\n"
      ],
      "metadata": {
        "colab": {
          "base_uri": "https://localhost:8080/"
        },
        "id": "Bld5jZ3n9iIm",
        "outputId": "bb9c26c3-c8c5-4a28-e1f0-34afca97f2b3"
      },
      "execution_count": 9,
      "outputs": [
        {
          "output_type": "stream",
          "name": "stdout",
          "text": [
            "Registros em df_video (sem nulos): 1881\n",
            "Registros em df_comentario (sem nulos): 22555\n"
          ]
        }
      ]
    },
    {
      "cell_type": "code",
      "source": [
        "df_video = df_video.dropDuplicates([\"Video ID\"])\n",
        "print(\"Registros em df_video (sem duplicatas):\", df_video.count())\n"
      ],
      "metadata": {
        "colab": {
          "base_uri": "https://localhost:8080/"
        },
        "id": "MOSnc31H9nY4",
        "outputId": "5a5eeaf7-683b-4e2a-e9e6-38276cc27d7c"
      },
      "execution_count": 10,
      "outputs": [
        {
          "output_type": "stream",
          "name": "stdout",
          "text": [
            "Registros em df_video (sem duplicatas): 1869\n"
          ]
        }
      ]
    },
    {
      "cell_type": "code",
      "source": [
        "df_video = df_video.withColumn(\"Likes\", col(\"Likes\").cast(\"int\")) \\\n",
        "                   .withColumn(\"Comments\", col(\"Comments\").cast(\"int\")) \\\n",
        "                   .withColumn(\"Views\", col(\"Views\").cast(\"int\"))\n",
        "df_video.printSchema()\n"
      ],
      "metadata": {
        "colab": {
          "base_uri": "https://localhost:8080/"
        },
        "id": "tcUW0egO9rps",
        "outputId": "cc4b8e7d-6f5b-48fa-f5a8-9864646772eb"
      },
      "execution_count": 11,
      "outputs": [
        {
          "output_type": "stream",
          "name": "stdout",
          "text": [
            "root\n",
            " |-- _c0: integer (nullable = true)\n",
            " |-- Title: string (nullable = true)\n",
            " |-- Video ID: string (nullable = true)\n",
            " |-- Published At: date (nullable = true)\n",
            " |-- Keyword: string (nullable = true)\n",
            " |-- Likes: integer (nullable = true)\n",
            " |-- Comments: integer (nullable = true)\n",
            " |-- Views: integer (nullable = true)\n",
            "\n"
          ]
        }
      ]
    },
    {
      "cell_type": "code",
      "source": [
        "df_comentario = df_comentario.withColumn(\"Likes\", col(\"Likes\").cast(\"int\")) \\\n",
        "                             .withColumn(\"Sentiment\", col(\"Sentiment\").cast(\"int\")) \\\n",
        "                             .withColumnRenamed(\"Likes\", \"Likes Comment\")\n",
        "df_comentario.printSchema()\n"
      ],
      "metadata": {
        "colab": {
          "base_uri": "https://localhost:8080/"
        },
        "id": "42N7ySFb9tAK",
        "outputId": "f73103e8-e256-449b-c28b-2c6d6f89a3c8"
      },
      "execution_count": 12,
      "outputs": [
        {
          "output_type": "stream",
          "name": "stdout",
          "text": [
            "root\n",
            " |-- _c0: string (nullable = true)\n",
            " |-- Video ID: string (nullable = true)\n",
            " |-- Comment: string (nullable = true)\n",
            " |-- Likes Comment: integer (nullable = true)\n",
            " |-- Sentiment: integer (nullable = true)\n",
            "\n"
          ]
        }
      ]
    },
    {
      "cell_type": "code",
      "source": [
        "from pyspark.sql.functions import col\n",
        "\n",
        "df_video = df_video.withColumn(\n",
        "    \"Interaction\",\n",
        "    col(\"Likes\") + col(\"Comments\") + col(\"Views\")\n",
        ")\n",
        "df_video.select(\"Video ID\", \"Interaction\").show()\n"
      ],
      "metadata": {
        "colab": {
          "base_uri": "https://localhost:8080/"
        },
        "id": "3sJE_dKq-BMy",
        "outputId": "8eed69cd-536b-4e8d-8ff0-dbe9a515bfc2"
      },
      "execution_count": 13,
      "outputs": [
        {
          "output_type": "stream",
          "name": "stdout",
          "text": [
            "+-----------+-----------+\n",
            "|   Video ID|Interaction|\n",
            "+-----------+-----------+\n",
            "|115amzVdV44|   53053975|\n",
            "|m7Jw3a7CpNA|     458123|\n",
            "|V6hofBnlJLY|      83140|\n",
            "|Rk4bAofG8xE|     263672|\n",
            "|zdsdEVngg7Y|    2946362|\n",
            "|U3DNz5asasA|    2678233|\n",
            "|UI9I2p71ct0|      74931|\n",
            "|sZ12W9uqxR4|    4774149|\n",
            "|c1aKaQu6LRE|      25104|\n",
            "|l7R4EyRoAD0|      35982|\n",
            "|glL1QjeCH80|      21280|\n",
            "|qvit3SUUmQE|     650176|\n",
            "|_AWZZP3J5Nw|     174867|\n",
            "|2WPA1L9uJqo|     609218|\n",
            "|XWv_4L1_Z7Q|    8962007|\n",
            "|nKW8Ndu7Mjw|     888321|\n",
            "|dwV04XuiWq4|   58168145|\n",
            "|gzeDQDbJMAU|     633058|\n",
            "|j8u_IK6_OI8|      62497|\n",
            "|-EDUPj7Vg7o|    1436302|\n",
            "+-----------+-----------+\n",
            "only showing top 20 rows\n",
            "\n"
          ]
        }
      ]
    },
    {
      "cell_type": "code",
      "source": [
        "from pyspark.sql.functions import to_date\n",
        "\n",
        "df_video = df_video.withColumn(\"Published At\", to_date(col(\"Published At\")))\n",
        "df_video.select(\"Video ID\", \"Published At\").show()\n"
      ],
      "metadata": {
        "colab": {
          "base_uri": "https://localhost:8080/"
        },
        "id": "9eHRBusW-Ck-",
        "outputId": "dc38de04-c785-49ce-ca4b-8894283241b6"
      },
      "execution_count": 14,
      "outputs": [
        {
          "output_type": "stream",
          "name": "stdout",
          "text": [
            "+-----------+------------+\n",
            "|   Video ID|Published At|\n",
            "+-----------+------------+\n",
            "|115amzVdV44|  2020-08-18|\n",
            "|m7Jw3a7CpNA|  2021-12-03|\n",
            "|V6hofBnlJLY|  2022-08-18|\n",
            "|Rk4bAofG8xE|  2022-08-18|\n",
            "|zdsdEVngg7Y|  2021-04-22|\n",
            "|U3DNz5asasA|  2022-05-11|\n",
            "|UI9I2p71ct0|  2021-05-28|\n",
            "|sZ12W9uqxR4|  2022-05-04|\n",
            "|c1aKaQu6LRE|  2022-08-24|\n",
            "|l7R4EyRoAD0|  2022-08-24|\n",
            "|glL1QjeCH80|  2022-08-24|\n",
            "|qvit3SUUmQE|  2022-08-02|\n",
            "|_AWZZP3J5Nw|  2019-12-03|\n",
            "|2WPA1L9uJqo|  2022-04-14|\n",
            "|XWv_4L1_Z7Q|  2019-05-07|\n",
            "|nKW8Ndu7Mjw|  2017-08-31|\n",
            "|dwV04XuiWq4|  2019-04-22|\n",
            "|gzeDQDbJMAU|  2020-09-09|\n",
            "|j8u_IK6_OI8|  2022-08-24|\n",
            "|-EDUPj7Vg7o|  2022-08-23|\n",
            "+-----------+------------+\n",
            "only showing top 20 rows\n",
            "\n"
          ]
        }
      ]
    },
    {
      "cell_type": "code",
      "source": [
        "from pyspark.sql.functions import year\n",
        "\n",
        "df_video = df_video.withColumn(\"Year\", year(col(\"Published At\")))\n",
        "df_video.select(\"Video ID\", \"Year\").show()\n"
      ],
      "metadata": {
        "colab": {
          "base_uri": "https://localhost:8080/"
        },
        "id": "yChog_jJ-Hgk",
        "outputId": "6029636d-7259-4aaf-a0cd-1a8bac2b4705"
      },
      "execution_count": 15,
      "outputs": [
        {
          "output_type": "stream",
          "name": "stdout",
          "text": [
            "+-----------+----+\n",
            "|   Video ID|Year|\n",
            "+-----------+----+\n",
            "|115amzVdV44|2020|\n",
            "|m7Jw3a7CpNA|2021|\n",
            "|V6hofBnlJLY|2022|\n",
            "|Rk4bAofG8xE|2022|\n",
            "|zdsdEVngg7Y|2021|\n",
            "|U3DNz5asasA|2022|\n",
            "|UI9I2p71ct0|2021|\n",
            "|sZ12W9uqxR4|2022|\n",
            "|c1aKaQu6LRE|2022|\n",
            "|l7R4EyRoAD0|2022|\n",
            "|glL1QjeCH80|2022|\n",
            "|qvit3SUUmQE|2022|\n",
            "|_AWZZP3J5Nw|2019|\n",
            "|2WPA1L9uJqo|2022|\n",
            "|XWv_4L1_Z7Q|2019|\n",
            "|nKW8Ndu7Mjw|2017|\n",
            "|dwV04XuiWq4|2019|\n",
            "|gzeDQDbJMAU|2020|\n",
            "|j8u_IK6_OI8|2022|\n",
            "|-EDUPj7Vg7o|2022|\n",
            "+-----------+----+\n",
            "only showing top 20 rows\n",
            "\n"
          ]
        }
      ]
    },
    {
      "cell_type": "code",
      "source": [
        "df_join_video_comments = df_video.join(df_comentario, on=\"Video ID\", how=\"inner\")\n",
        "df_join_video_comments.show()\n"
      ],
      "metadata": {
        "colab": {
          "base_uri": "https://localhost:8080/"
        },
        "id": "x7-oS7uR-JLi",
        "outputId": "30e12be6-a5af-49d8-9a68-2bc1a245283a"
      },
      "execution_count": 16,
      "outputs": [
        {
          "output_type": "stream",
          "name": "stdout",
          "text": [
            "+-----------+---+--------------------+------------+-------+-----+--------+-------+-----------+----+---+--------------------+-------------+---------+\n",
            "|   Video ID|_c0|               Title|Published At|Keyword|Likes|Comments|  Views|Interaction|Year|_c0|             Comment|Likes Comment|Sentiment|\n",
            "+-----------+---+--------------------+------------+-------+-----+--------+-------+-----------+----+---+--------------------+-------------+---------+\n",
            "|wAZZ-UWGVHI|  0|Apple Pay Is Kill...|  2022-08-23|   tech| 3407|     672| 135612|     139691|2022|  0|Let's not forget ...|           95|        1|\n",
            "|wAZZ-UWGVHI|  0|Apple Pay Is Kill...|  2022-08-23|   tech| 3407|     672| 135612|     139691|2022|  1|Here in NZ 50% of...|           19|        0|\n",
            "|wAZZ-UWGVHI|  0|Apple Pay Is Kill...|  2022-08-23|   tech| 3407|     672| 135612|     139691|2022|  2|I will forever ac...|          161|        2|\n",
            "|wAZZ-UWGVHI|  0|Apple Pay Is Kill...|  2022-08-23|   tech| 3407|     672| 135612|     139691|2022|  3|Whenever I go to ...|            8|        0|\n",
            "|wAZZ-UWGVHI|  0|Apple Pay Is Kill...|  2022-08-23|   tech| 3407|     672| 135612|     139691|2022|  4|Apple Pay is so c...|           34|        2|\n",
            "|wAZZ-UWGVHI|  0|Apple Pay Is Kill...|  2022-08-23|   tech| 3407|     672| 135612|     139691|2022|  5|We’ve been houndi...|            8|        1|\n",
            "|wAZZ-UWGVHI|  0|Apple Pay Is Kill...|  2022-08-23|   tech| 3407|     672| 135612|     139691|2022|  6|We only got Apple...|           29|        2|\n",
            "|wAZZ-UWGVHI|  0|Apple Pay Is Kill...|  2022-08-23|   tech| 3407|     672| 135612|     139691|2022|  7|For now, I need b...|            7|        1|\n",
            "|wAZZ-UWGVHI|  0|Apple Pay Is Kill...|  2022-08-23|   tech| 3407|     672| 135612|     139691|2022|  8|In the United Sta...|            2|        2|\n",
            "|wAZZ-UWGVHI|  0|Apple Pay Is Kill...|  2022-08-23|   tech| 3407|     672| 135612|     139691|2022|  9|In Cambodia, we h...|           28|        1|\n",
            "|b3x28s61q3c|  1|The most EXPENSIV...|  2022-08-24|   tech|76779|    4306|1758063|    1839148|2022| 10|Wow, you really w...|         1344|        2|\n",
            "|b3x28s61q3c|  1|The most EXPENSIV...|  2022-08-24|   tech|76779|    4306|1758063|    1839148|2022| 11|The lab is the mo...|          198|        2|\n",
            "|b3x28s61q3c|  1|The most EXPENSIV...|  2022-08-24|   tech|76779|    4306|1758063|    1839148|2022| 12|Linus, I'm an eng...|          365|        2|\n",
            "|b3x28s61q3c|  1|The most EXPENSIV...|  2022-08-24|   tech|76779|    4306|1758063|    1839148|2022| 13|There used to be ...|          211|        2|\n",
            "|b3x28s61q3c|  1|The most EXPENSIV...|  2022-08-24|   tech|76779|    4306|1758063|    1839148|2022| 14|Holy crap. I was ...|          821|        0|\n",
            "|b3x28s61q3c|  1|The most EXPENSIV...|  2022-08-24|   tech|76779|    4306|1758063|    1839148|2022| 15|I love the direct...|          150|        2|\n",
            "|b3x28s61q3c|  1|The most EXPENSIV...|  2022-08-24|   tech|76779|    4306|1758063|    1839148|2022| 16|I am more excited...|           49|        2|\n",
            "|b3x28s61q3c|  1|The most EXPENSIV...|  2022-08-24|   tech|76779|    4306|1758063|    1839148|2022| 17|I adore the worki...|           19|        2|\n",
            "|b3x28s61q3c|  1|The most EXPENSIV...|  2022-08-24|   tech|76779|    4306|1758063|    1839148|2022| 18|LMGs growth is ho...|         NULL|     NULL|\n",
            "|b3x28s61q3c|  1|The most EXPENSIV...|  2022-08-24|   tech|76779|    4306|1758063|    1839148|2022| 19|I love all the pe...|         2808|        2|\n",
            "+-----------+---+--------------------+------------+-------+-----+--------+-------+-----------+----+---+--------------------+-------------+---------+\n",
            "only showing top 20 rows\n",
            "\n"
          ]
        }
      ]
    },
    {
      "cell_type": "code",
      "source": [
        "df_us_videos = spark.read.csv(\"USvideos.csv\", header=True, inferSchema=True)\n",
        "df_us_videos.show()\n",
        "df_us_videos.printSchema()\n"
      ],
      "metadata": {
        "colab": {
          "base_uri": "https://localhost:8080/"
        },
        "id": "sS51kMP9-NQk",
        "outputId": "8fe608f6-4405-4430-9fc6-79f0903672b2"
      },
      "execution_count": 17,
      "outputs": [
        {
          "output_type": "stream",
          "name": "stdout",
          "text": [
            "+-----------+-------------+--------------------+--------------------+-----------+--------------------+--------------------+-------+------+--------+-------------+--------------------+-----------------+----------------+----------------------+--------------------+\n",
            "|   video_id|trending_date|               title|       channel_title|category_id|        publish_time|                tags|  views| likes|dislikes|comment_count|      thumbnail_link|comments_disabled|ratings_disabled|video_error_or_removed|         description|\n",
            "+-----------+-------------+--------------------+--------------------+-----------+--------------------+--------------------+-------+------+--------+-------------+--------------------+-----------------+----------------+----------------------+--------------------+\n",
            "|2kyS6SvSYSE|     17.14.11|WE WANT TO TALK A...|        CaseyNeistat|         22|2017-11-13T17:13:...|     SHANtell martin| 748374| 57527|    2966|        15954|https://i.ytimg.c...|            False|           False|                 False|SHANTELL'S CHANNE...|\n",
            "|1ZAPwfrtAFY|     17.14.11|The Trump Preside...|     LastWeekTonight|         24|2017-11-13T07:30:...|\"last week tonigh...|2418783| 97185|    6146|        12703|https://i.ytimg.c...|            False|           False|                 False|One year after th...|\n",
            "|5qpjK5DgCt4|     17.14.11|Racist Superman |...|        Rudy Mancuso|         23|2017-11-12T19:05:...|\"racist superman\"...|3191434|146033|    5339|         8181|https://i.ytimg.c...|            False|           False|                 False|WATCH MY PREVIOUS...|\n",
            "|puqaWrEC7tY|     17.14.11|Nickelback Lyrics...|Good Mythical Mor...|         24|2017-11-13T11:00:...|\"rhett and link\"|...| 343168| 10172|     666|         2146|https://i.ytimg.c...|            False|           False|                 False|Today we find out...|\n",
            "|d380meD0W0M|     17.14.11|I Dare You: GOING...|            nigahiga|         24|2017-11-12T18:01:...|\"ryan\"|\"higa\"|\"hi...|2095731|132235|    1989|        17518|https://i.ytimg.c...|            False|           False|                 False|I know it's been ...|\n",
            "|gHZ1Qz0KiKM|     17.14.11|2 Weeks with iPho...|            iJustine|         28|2017-11-13T19:07:...|\"ijustine\"|\"week ...| 119180|  9763|     511|         1434|https://i.ytimg.c...|            False|           False|                 False|Using the iPhone ...|\n",
            "|39idVpFF7NQ|     17.14.11|Roy Moore & Jeff ...| Saturday Night Live|         24|2017-11-12T05:37:...|\"SNL\"|\"Saturday N...|2103417| 15993|    2445|         1970|https://i.ytimg.c...|            False|           False|                 False|Embattled Alabama...|\n",
            "|nc99ccSXST0|     17.14.11|5 Ice Cream Gadge...|  CrazyRussianHacker|         28|2017-11-12T21:50:...|\"5 Ice Cream Gadg...| 817732| 23663|     778|         3432|https://i.ytimg.c...|            False|           False|                 False|Ice Cream Pint Co...|\n",
            "|jr9QtXwC9vc|     17.14.11|The Greatest Show...|    20th Century Fox|          1|2017-11-13T14:00:...|\"Trailer\"|\"Hugh J...| 826059|  3543|     119|          340|https://i.ytimg.c...|            False|           False|                 False|Inspired by the i...|\n",
            "|TUmyygCMMGA|     17.14.11|Why the rise of t...|                 Vox|         25|2017-11-13T13:45:...|\"vox.com\"|\"vox\"|\"...| 256426| 12654|    1363|         2368|https://i.ytimg.c...|            False|           False|                 False|For now, at least...|\n",
            "|9wRQljFNDW8|     17.14.11|Dion Lewis' 103-Y...|                 NFL|         17|2017-11-13T02:05:...|\"NFL\"|\"Football\"|...|  81377|   655|      25|          177|https://i.ytimg.c...|            False|           False|                 False|New England Patri...|\n",
            "|VifQlJit6A0|     17.14.11|(SPOILERS) 'Shiva...|                 amc|         24|2017-11-13T03:00:...|\"The Walking Dead...| 104578|  1576|     303|         1279|https://i.ytimg.c...|            False|           False|                 False|Shiva arrives jus...|\n",
            "|5E4ZBSInqUU|     17.14.11|Marshmello - Bloc...|          marshmello|         10|2017-11-13T17:00:...|\"marshmello\"|\"blo...| 687582|114188|    1333|         8371|https://i.ytimg.c...|            False|           False|                 False|WATCH SILENCE MUS...|\n",
            "|GgVmn66oK_A|     17.14.11|Which Countries A...|       NowThis World|         25|2017-11-12T14:00:...|\"nowthis\"|\"nowthi...| 544770|  7848|    1171|         3981|https://i.ytimg.c...|            False|           False|                 False|The world at larg...|\n",
            "|TaTleo4cOs8|     17.14.11|SHOPPING FOR NEW ...|     The king of DIY|         15|2017-11-12T18:30:...|\"shopping for new...| 207532|  7473|     246|         2120|https://i.ytimg.c...|            False|           False|                 False|Today we go shopp...|\n",
            "|kgaO45SyaO4|     17.14.11|    The New SpotMini|      BostonDynamics|         28|2017-11-13T20:09:...|\"Robots\"|\"Boston ...|  75752|  9419|      52|         1230|https://i.ytimg.c...|            False|           False|                 False|For more informat...|\n",
            "|ZAQs-ctOqXQ|     17.14.11|One Change That W...|             Cracked|         23|2017-11-12T17:00:...|\"pacific rim\"|\"pa...| 295639|  8011|     638|         1256|https://i.ytimg.c...|            False|           False|                 False|Pacific Rim was s...|\n",
            "|YVfyYrEmzgM|     17.14.11|How does your bod...|              TED-Ed|         27|2017-11-13T16:00:...|\"TED\"|\"TED-Ed\"|\"T...|  78044|  5398|      53|          385|https://i.ytimg.c...|            False|           False|                 False|Check out our Pat...|\n",
            "|eNSN6qet1kE|     17.14.11|HomeMade Electric...|         PeterSripol|         28|2017-11-13T15:30:...|\"ultralight\"|\"air...|  97007| 11963|      36|         2211|https://i.ytimg.c...|            False|           False|                 False|aaaannnd now to f...|\n",
            "|B5HORANmzHw|     17.14.11|Founding An Inbre...|             SciShow|         27|2017-11-12T22:00:...|\"SciShow\"|\"scienc...| 223871|  8421|     191|         1214|https://i.ytimg.c...|            False|           False|                 False|Thanks to 23AndMe...|\n",
            "+-----------+-------------+--------------------+--------------------+-----------+--------------------+--------------------+-------+------+--------+-------------+--------------------+-----------------+----------------+----------------------+--------------------+\n",
            "only showing top 20 rows\n",
            "\n",
            "root\n",
            " |-- video_id: string (nullable = true)\n",
            " |-- trending_date: string (nullable = true)\n",
            " |-- title: string (nullable = true)\n",
            " |-- channel_title: string (nullable = true)\n",
            " |-- category_id: string (nullable = true)\n",
            " |-- publish_time: string (nullable = true)\n",
            " |-- tags: string (nullable = true)\n",
            " |-- views: string (nullable = true)\n",
            " |-- likes: string (nullable = true)\n",
            " |-- dislikes: string (nullable = true)\n",
            " |-- comment_count: string (nullable = true)\n",
            " |-- thumbnail_link: string (nullable = true)\n",
            " |-- comments_disabled: string (nullable = true)\n",
            " |-- ratings_disabled: string (nullable = true)\n",
            " |-- video_error_or_removed: string (nullable = true)\n",
            " |-- description: string (nullable = true)\n",
            "\n"
          ]
        }
      ]
    },
    {
      "cell_type": "code",
      "source": [
        "df_join_video_usvideos = df_video.join(df_us_videos, on=\"Title\", how=\"inner\")\n",
        "df_join_video_usvideos.show()\n"
      ],
      "metadata": {
        "colab": {
          "base_uri": "https://localhost:8080/"
        },
        "id": "H2kQO85i-RTU",
        "outputId": "3aad865a-8d0b-4beb-da6e-b2b1c23a2445"
      },
      "execution_count": 18,
      "outputs": [
        {
          "output_type": "stream",
          "name": "stdout",
          "text": [
            "+--------------------+----+-----------+------------+----------------+------+--------+---------+-----------+----+-----------+-------------+-----------------+-----------+--------------------+--------------------+--------+------+--------+-------------+--------------------+-----------------+----------------+----------------------+--------------------+\n",
            "|               Title| _c0|   Video ID|Published At|         Keyword| Likes|Comments|    Views|Interaction|Year|   video_id|trending_date|    channel_title|category_id|        publish_time|                tags|   views| likes|dislikes|comment_count|      thumbnail_link|comments_disabled|ratings_disabled|video_error_or_removed|         description|\n",
            "+--------------------+----+-----------+------------+----------------+------+--------+---------+-----------+----+-----------+-------------+-----------------+-----------+--------------------+--------------------+--------+------+--------+-------------+--------------------+-----------------+----------------+----------------------+--------------------+\n",
            "|All Sports Golf B...| 157|-RmUADCWI4A|  2017-12-04|          sports|867074|   43024|106014469|  106924567|2017|-RmUADCWI4A|     17.06.12|     Dude Perfect|         17|2017-12-04T22:57:...|\"dude perfect\"|\"d...| 8643326|299731|    5168|        23303|https://i.ytimg.c...|            False|           False|                 False|Golf + every othe...|\n",
            "|All Sports Golf B...| 157|-RmUADCWI4A|  2017-12-04|          sports|867074|   43024|106014469|  106924567|2017|-RmUADCWI4A|     17.07.12|     Dude Perfect|         17|2017-12-04T22:57:...|\"dude perfect\"|\"d...| 9828746|316976|    5797|        23221|https://i.ytimg.c...|            False|           False|                 False|Golf + every othe...|\n",
            "|All Sports Golf B...| 157|-RmUADCWI4A|  2017-12-04|          sports|867074|   43024|106014469|  106924567|2017|-RmUADCWI4A|     17.08.12|     Dude Perfect|         17|2017-12-04T22:57:...|\"dude perfect\"|\"d...|10558591|325479|    6104|        24107|https://i.ytimg.c...|            False|           False|                 False|Golf + every othe...|\n",
            "|All Sports Golf B...| 157|-RmUADCWI4A|  2017-12-04|          sports|867074|   43024|106014469|  106924567|2017|-RmUADCWI4A|     17.09.12|     Dude Perfect|         17|2017-12-04T22:57:...|\"dude perfect\"|\"d...|11319116|334495|    6430|        25199|https://i.ytimg.c...|            False|           False|                 False|Golf + every othe...|\n",
            "|All Sports Golf B...| 157|-RmUADCWI4A|  2017-12-04|          sports|867074|   43024|106014469|  106924567|2017|-RmUADCWI4A|     17.10.12|     Dude Perfect|         17|2017-12-04T22:57:...|\"dude perfect\"|\"d...|12305961|342825|    6898|        25905|https://i.ytimg.c...|            False|           False|                 False|Golf + every othe...|\n",
            "|All Sports Golf B...| 157|-RmUADCWI4A|  2017-12-04|          sports|867074|   43024|106014469|  106924567|2017|-RmUADCWI4A|     17.11.12|     Dude Perfect|         17|2017-12-04T22:57:...|\"dude perfect\"|\"d...|13250970|349766|    7437|        26489|https://i.ytimg.c...|            False|           False|                 False|Golf + every othe...|\n",
            "|All Sports Golf B...| 157|-RmUADCWI4A|  2017-12-04|          sports|867074|   43024|106014469|  106924567|2017|-RmUADCWI4A|     17.12.12|     Dude Perfect|         17|2017-12-04T22:57:...|\"dude perfect\"|\"d...|14107720|356297|    7889|        27012|https://i.ytimg.c...|            False|           False|                 False|Golf + every othe...|\n",
            "|      Map of Biology|1408|wENhHnJI1ys|  2017-12-09|         biology| 26530|     818|   602137|     629485|2017|wENhHnJI1ys|     17.13.12|Domain of Science|         28|2017-12-09T15:32:...|\"science\"|\"biolog...|   30134|  2747|      17|          233|https://i.ytimg.c...|            False|           False|                 False|Biology is the su...|\n",
            "|      Map of Biology|1408|wENhHnJI1ys|  2017-12-09|         biology| 26530|     818|   602137|     629485|2017|wENhHnJI1ys|     17.14.12|Domain of Science|         28|2017-12-09T15:32:...|\"science\"|\"biolog...|   31928|  2843|      17|          230|https://i.ytimg.c...|            False|           False|                 False|Biology is the su...|\n",
            "|  How Machines Learn|1860|R9OHn5ZF4Uo|  2017-12-18|machine learning| 10441|     172|   515395|     526008|2017|R9OHn5ZF4Uo|     17.20.12|         CGP Grey|         27|2017-12-18T14:39:...|\"cgpgrey\"|\"educat...| 1227348|155986|     916|         9335|https://i.ytimg.c...|            False|           False|                 False|How do all the al...|\n",
            "|  How Machines Learn|1860|R9OHn5ZF4Uo|  2017-12-18|machine learning| 10441|     172|   515395|     526008|2017|R9OHn5ZF4Uo|     17.21.12|         CGP Grey|         27|2017-12-18T14:39:...|\"cgpgrey\"|\"educat...| 1515895|166667|    1169|         9820|https://i.ytimg.c...|            False|           False|                 False|How do all the al...|\n",
            "|  How Machines Learn|1860|R9OHn5ZF4Uo|  2017-12-18|machine learning| 10441|     172|   515395|     526008|2017|R9OHn5ZF4Uo|     17.22.12|         CGP Grey|         27|2017-12-18T14:39:...|\"cgpgrey\"|\"educat...| 1570967|171457|    1204|        10048|https://i.ytimg.c...|            False|           False|                 False|How do all the al...|\n",
            "|  How Machines Learn|1860|R9OHn5ZF4Uo|  2017-12-18|machine learning| 10441|     172|   515395|     526008|2017|R9OHn5ZF4Uo|     17.23.12|         CGP Grey|         27|2017-12-18T14:39:...|\"cgpgrey\"|\"educat...| 1610875|174918|    1225|        10185|https://i.ytimg.c...|            False|           False|                 False|How do all the al...|\n",
            "|  How Machines Learn|1860|R9OHn5ZF4Uo|  2017-12-18|machine learning| 10441|     172|   515395|     526008|2017|R9OHn5ZF4Uo|     17.24.12|         CGP Grey|         27|2017-12-18T14:39:...|\"cgpgrey\"|\"educat...| 1646752|178160|    1239|        10347|https://i.ytimg.c...|            False|           False|                 False|How do all the al...|\n",
            "|  How Machines Learn|1860|R9OHn5ZF4Uo|  2017-12-18|machine learning| 10441|     172|   515395|     526008|2017|R9OHn5ZF4Uo|     17.25.12|         CGP Grey|         27|2017-12-18T14:39:...|\"cgpgrey\"|\"educat...| 1677991|180305|    1253|        10439|https://i.ytimg.c...|            False|           False|                 False|How do all the al...|\n",
            "|  How Machines Learn|1860|R9OHn5ZF4Uo|  2017-12-18|machine learning| 10441|     172|   515395|     526008|2017|R9OHn5ZF4Uo|     17.26.12|         CGP Grey|         27|2017-12-18T14:39:...|\"cgpgrey\"|\"educat...| 1712379|182958|    1271|        10578|https://i.ytimg.c...|            False|           False|                 False|How do all the al...|\n",
            "|  How Machines Learn|1860|R9OHn5ZF4Uo|  2017-12-18|machine learning| 10441|     172|   515395|     526008|2017|R9OHn5ZF4Uo|     17.27.12|         CGP Grey|         27|2017-12-18T14:39:...|\"cgpgrey\"|\"educat...| 1745698|185788|    1292|        10688|https://i.ytimg.c...|            False|           False|                 False|How do all the al...|\n",
            "|  How Machines Learn|1860|R9OHn5ZF4Uo|  2017-12-18|machine learning| 10441|     172|   515395|     526008|2017|R9OHn5ZF4Uo|     17.28.12|         CGP Grey|         27|2017-12-18T14:39:...|\"cgpgrey\"|\"educat...| 1769751|187892|    1298|        10742|https://i.ytimg.c...|            False|           False|                 False|How do all the al...|\n",
            "+--------------------+----+-----------+------------+----------------+------+--------+---------+-----------+----+-----------+-------------+-----------------+-----------+--------------------+--------------------+--------+------+--------+-------------+--------------------+-----------------+----------------+----------------------+--------------------+\n",
            "\n"
          ]
        }
      ]
    },
    {
      "cell_type": "code",
      "source": [
        "from pyspark.sql.functions import col, sum as _sum, when\n",
        "\n",
        "df_video.select([\n",
        "    _sum(when(col(c).isNull(), 1).otherwise(0)).alias(c)\n",
        "    for c in df_video.columns\n",
        "]).show()\n"
      ],
      "metadata": {
        "colab": {
          "base_uri": "https://localhost:8080/"
        },
        "id": "0dc5pDOf-VTU",
        "outputId": "3f822fed-78c0-4241-9da5-770e7b20c6da"
      },
      "execution_count": 19,
      "outputs": [
        {
          "output_type": "stream",
          "name": "stdout",
          "text": [
            "+---+-----+--------+------------+-------+-----+--------+-----+-----------+----+\n",
            "|_c0|Title|Video ID|Published At|Keyword|Likes|Comments|Views|Interaction|Year|\n",
            "+---+-----+--------+------------+-------+-----+--------+-----+-----------+----+\n",
            "|  0|    0|       0|           0|      0|    2|       2|    2|          2|   0|\n",
            "+---+-----+--------+------------+-------+-----+--------+-----+-----------+----+\n",
            "\n"
          ]
        }
      ]
    },
    {
      "cell_type": "code",
      "source": [
        "# Remover a coluna _c0, se existir\n",
        "if \"_c0\" in df_video.columns:\n",
        "    df_video = df_video.drop(\"_c0\")\n",
        "\n",
        "# Salvar o DataFrame\n",
        "df_video.write \\\n",
        "    .mode(\"overwrite\") \\\n",
        "    .option(\"header\", True) \\\n",
        "    .parquet(\"videos-tratados-parquet\")\n"
      ],
      "metadata": {
        "id": "SpG_CutU-dHA"
      },
      "execution_count": 20,
      "outputs": []
    },
    {
      "cell_type": "code",
      "source": [
        "if \"_c0\" in df_join_video_comments.columns:\n",
        "    df_join_video_comments = df_join_video_comments.drop(\"_c0\")\n",
        "\n",
        "df_join_video_comments.write \\\n",
        "    .mode(\"overwrite\") \\\n",
        "    .option(\"header\", True) \\\n",
        "    .parquet(\"videos-comments-tratados-parquet\")\n"
      ],
      "metadata": {
        "id": "iUjlrWtn-gMW"
      },
      "execution_count": 21,
      "outputs": []
    },
    {
      "cell_type": "code",
      "source": [
        "from google.colab import files\n",
        "files.download('tratamento.ipynb')\n"
      ],
      "metadata": {
        "colab": {
          "base_uri": "https://localhost:8080/",
          "height": 280
        },
        "id": "KcuhZDoS-oN2",
        "outputId": "f8008122-be55-4276-c230-b36a0efd6b05"
      },
      "execution_count": 24,
      "outputs": [
        {
          "output_type": "error",
          "ename": "FileNotFoundError",
          "evalue": "Cannot find file: tratamento.ipynb",
          "traceback": [
            "\u001b[0;31m---------------------------------------------------------------------------\u001b[0m",
            "\u001b[0;31mFileNotFoundError\u001b[0m                         Traceback (most recent call last)",
            "\u001b[0;32m/tmp/ipython-input-24-1485485463.py\u001b[0m in \u001b[0;36m<cell line: 0>\u001b[0;34m()\u001b[0m\n\u001b[1;32m      1\u001b[0m \u001b[0;32mfrom\u001b[0m \u001b[0mgoogle\u001b[0m\u001b[0;34m.\u001b[0m\u001b[0mcolab\u001b[0m \u001b[0;32mimport\u001b[0m \u001b[0mfiles\u001b[0m\u001b[0;34m\u001b[0m\u001b[0;34m\u001b[0m\u001b[0m\n\u001b[0;32m----> 2\u001b[0;31m \u001b[0mfiles\u001b[0m\u001b[0;34m.\u001b[0m\u001b[0mdownload\u001b[0m\u001b[0;34m(\u001b[0m\u001b[0;34m'tratamento.ipynb'\u001b[0m\u001b[0;34m)\u001b[0m\u001b[0;34m\u001b[0m\u001b[0;34m\u001b[0m\u001b[0m\n\u001b[0m",
            "\u001b[0;32m/usr/local/lib/python3.11/dist-packages/google/colab/files.py\u001b[0m in \u001b[0;36mdownload\u001b[0;34m(filename)\u001b[0m\n\u001b[1;32m    231\u001b[0m   \u001b[0;32mif\u001b[0m \u001b[0;32mnot\u001b[0m \u001b[0m_os\u001b[0m\u001b[0;34m.\u001b[0m\u001b[0mpath\u001b[0m\u001b[0;34m.\u001b[0m\u001b[0mexists\u001b[0m\u001b[0;34m(\u001b[0m\u001b[0mfilename\u001b[0m\u001b[0;34m)\u001b[0m\u001b[0;34m:\u001b[0m\u001b[0;34m\u001b[0m\u001b[0;34m\u001b[0m\u001b[0m\n\u001b[1;32m    232\u001b[0m     \u001b[0mmsg\u001b[0m \u001b[0;34m=\u001b[0m \u001b[0;34m'Cannot find file: {}'\u001b[0m\u001b[0;34m.\u001b[0m\u001b[0mformat\u001b[0m\u001b[0;34m(\u001b[0m\u001b[0mfilename\u001b[0m\u001b[0;34m)\u001b[0m\u001b[0;34m\u001b[0m\u001b[0;34m\u001b[0m\u001b[0m\n\u001b[0;32m--> 233\u001b[0;31m     \u001b[0;32mraise\u001b[0m \u001b[0mFileNotFoundError\u001b[0m\u001b[0;34m(\u001b[0m\u001b[0mmsg\u001b[0m\u001b[0;34m)\u001b[0m  \u001b[0;31m# pylint: disable=undefined-variable\u001b[0m\u001b[0;34m\u001b[0m\u001b[0;34m\u001b[0m\u001b[0m\n\u001b[0m\u001b[1;32m    234\u001b[0m \u001b[0;34m\u001b[0m\u001b[0m\n\u001b[1;32m    235\u001b[0m   \u001b[0mcomm_manager\u001b[0m \u001b[0;34m=\u001b[0m \u001b[0m_IPython\u001b[0m\u001b[0;34m.\u001b[0m\u001b[0mget_ipython\u001b[0m\u001b[0;34m(\u001b[0m\u001b[0;34m)\u001b[0m\u001b[0;34m.\u001b[0m\u001b[0mkernel\u001b[0m\u001b[0;34m.\u001b[0m\u001b[0mcomm_manager\u001b[0m\u001b[0;34m\u001b[0m\u001b[0;34m\u001b[0m\u001b[0m\n",
            "\u001b[0;31mFileNotFoundError\u001b[0m: Cannot find file: tratamento.ipynb"
          ]
        }
      ]
    }
  ]
}